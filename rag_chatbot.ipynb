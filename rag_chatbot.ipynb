{
  "nbformat": 4,
  "nbformat_minor": 0,
  "metadata": {
    "colab": {
      "provenance": [],
      "include_colab_link": true
    },
    "kernelspec": {
      "name": "python3",
      "display_name": "Python 3"
    },
    "language_info": {
      "name": "python"
    },
    "widgets": {
      "application/vnd.jupyter.widget-state+json": {
        "a1ad5f130bf7408ba8efe321a9fd8c23": {
          "model_module": "@jupyter-widgets/controls",
          "model_name": "HBoxModel",
          "model_module_version": "1.5.0",
          "state": {
            "_dom_classes": [],
            "_model_module": "@jupyter-widgets/controls",
            "_model_module_version": "1.5.0",
            "_model_name": "HBoxModel",
            "_view_count": null,
            "_view_module": "@jupyter-widgets/controls",
            "_view_module_version": "1.5.0",
            "_view_name": "HBoxView",
            "box_style": "",
            "children": [
              "IPY_MODEL_745bf123607e44c7885ab347e088bfb6",
              "IPY_MODEL_45aa9949e2184583aa0900584b6eb84e",
              "IPY_MODEL_7ee384dba6924515b96d5c33a2185782"
            ],
            "layout": "IPY_MODEL_f3588049131e453492b8714c111109bd"
          }
        },
        "745bf123607e44c7885ab347e088bfb6": {
          "model_module": "@jupyter-widgets/controls",
          "model_name": "HTMLModel",
          "model_module_version": "1.5.0",
          "state": {
            "_dom_classes": [],
            "_model_module": "@jupyter-widgets/controls",
            "_model_module_version": "1.5.0",
            "_model_name": "HTMLModel",
            "_view_count": null,
            "_view_module": "@jupyter-widgets/controls",
            "_view_module_version": "1.5.0",
            "_view_name": "HTMLView",
            "description": "",
            "description_tooltip": null,
            "layout": "IPY_MODEL_d0293cd4eff54fe8bca24cdf403b2b09",
            "placeholder": "​",
            "style": "IPY_MODEL_0384d637a87a4054a6322c241f93f0a2",
            "value": "100%"
          }
        },
        "45aa9949e2184583aa0900584b6eb84e": {
          "model_module": "@jupyter-widgets/controls",
          "model_name": "FloatProgressModel",
          "model_module_version": "1.5.0",
          "state": {
            "_dom_classes": [],
            "_model_module": "@jupyter-widgets/controls",
            "_model_module_version": "1.5.0",
            "_model_name": "FloatProgressModel",
            "_view_count": null,
            "_view_module": "@jupyter-widgets/controls",
            "_view_module_version": "1.5.0",
            "_view_name": "ProgressView",
            "bar_style": "success",
            "description": "",
            "description_tooltip": null,
            "layout": "IPY_MODEL_3c5eeb7461644000988bc98d8164872d",
            "max": 8,
            "min": 0,
            "orientation": "horizontal",
            "style": "IPY_MODEL_0978962e0ea445999483d55872e7af84",
            "value": 8
          }
        },
        "7ee384dba6924515b96d5c33a2185782": {
          "model_module": "@jupyter-widgets/controls",
          "model_name": "HTMLModel",
          "model_module_version": "1.5.0",
          "state": {
            "_dom_classes": [],
            "_model_module": "@jupyter-widgets/controls",
            "_model_module_version": "1.5.0",
            "_model_name": "HTMLModel",
            "_view_count": null,
            "_view_module": "@jupyter-widgets/controls",
            "_view_module_version": "1.5.0",
            "_view_name": "HTMLView",
            "description": "",
            "description_tooltip": null,
            "layout": "IPY_MODEL_85d75fc771b44a51b3a18c38c539a78f",
            "placeholder": "​",
            "style": "IPY_MODEL_f68787257bd5474f80d4a0a987273dc5",
            "value": " 8/8 [00:00&lt;00:00, 14.09it/s]"
          }
        },
        "f3588049131e453492b8714c111109bd": {
          "model_module": "@jupyter-widgets/base",
          "model_name": "LayoutModel",
          "model_module_version": "1.2.0",
          "state": {
            "_model_module": "@jupyter-widgets/base",
            "_model_module_version": "1.2.0",
            "_model_name": "LayoutModel",
            "_view_count": null,
            "_view_module": "@jupyter-widgets/base",
            "_view_module_version": "1.2.0",
            "_view_name": "LayoutView",
            "align_content": null,
            "align_items": null,
            "align_self": null,
            "border": null,
            "bottom": null,
            "display": null,
            "flex": null,
            "flex_flow": null,
            "grid_area": null,
            "grid_auto_columns": null,
            "grid_auto_flow": null,
            "grid_auto_rows": null,
            "grid_column": null,
            "grid_gap": null,
            "grid_row": null,
            "grid_template_areas": null,
            "grid_template_columns": null,
            "grid_template_rows": null,
            "height": null,
            "justify_content": null,
            "justify_items": null,
            "left": null,
            "margin": null,
            "max_height": null,
            "max_width": null,
            "min_height": null,
            "min_width": null,
            "object_fit": null,
            "object_position": null,
            "order": null,
            "overflow": null,
            "overflow_x": null,
            "overflow_y": null,
            "padding": null,
            "right": null,
            "top": null,
            "visibility": null,
            "width": null
          }
        },
        "d0293cd4eff54fe8bca24cdf403b2b09": {
          "model_module": "@jupyter-widgets/base",
          "model_name": "LayoutModel",
          "model_module_version": "1.2.0",
          "state": {
            "_model_module": "@jupyter-widgets/base",
            "_model_module_version": "1.2.0",
            "_model_name": "LayoutModel",
            "_view_count": null,
            "_view_module": "@jupyter-widgets/base",
            "_view_module_version": "1.2.0",
            "_view_name": "LayoutView",
            "align_content": null,
            "align_items": null,
            "align_self": null,
            "border": null,
            "bottom": null,
            "display": null,
            "flex": null,
            "flex_flow": null,
            "grid_area": null,
            "grid_auto_columns": null,
            "grid_auto_flow": null,
            "grid_auto_rows": null,
            "grid_column": null,
            "grid_gap": null,
            "grid_row": null,
            "grid_template_areas": null,
            "grid_template_columns": null,
            "grid_template_rows": null,
            "height": null,
            "justify_content": null,
            "justify_items": null,
            "left": null,
            "margin": null,
            "max_height": null,
            "max_width": null,
            "min_height": null,
            "min_width": null,
            "object_fit": null,
            "object_position": null,
            "order": null,
            "overflow": null,
            "overflow_x": null,
            "overflow_y": null,
            "padding": null,
            "right": null,
            "top": null,
            "visibility": null,
            "width": null
          }
        },
        "0384d637a87a4054a6322c241f93f0a2": {
          "model_module": "@jupyter-widgets/controls",
          "model_name": "DescriptionStyleModel",
          "model_module_version": "1.5.0",
          "state": {
            "_model_module": "@jupyter-widgets/controls",
            "_model_module_version": "1.5.0",
            "_model_name": "DescriptionStyleModel",
            "_view_count": null,
            "_view_module": "@jupyter-widgets/base",
            "_view_module_version": "1.2.0",
            "_view_name": "StyleView",
            "description_width": ""
          }
        },
        "3c5eeb7461644000988bc98d8164872d": {
          "model_module": "@jupyter-widgets/base",
          "model_name": "LayoutModel",
          "model_module_version": "1.2.0",
          "state": {
            "_model_module": "@jupyter-widgets/base",
            "_model_module_version": "1.2.0",
            "_model_name": "LayoutModel",
            "_view_count": null,
            "_view_module": "@jupyter-widgets/base",
            "_view_module_version": "1.2.0",
            "_view_name": "LayoutView",
            "align_content": null,
            "align_items": null,
            "align_self": null,
            "border": null,
            "bottom": null,
            "display": null,
            "flex": null,
            "flex_flow": null,
            "grid_area": null,
            "grid_auto_columns": null,
            "grid_auto_flow": null,
            "grid_auto_rows": null,
            "grid_column": null,
            "grid_gap": null,
            "grid_row": null,
            "grid_template_areas": null,
            "grid_template_columns": null,
            "grid_template_rows": null,
            "height": null,
            "justify_content": null,
            "justify_items": null,
            "left": null,
            "margin": null,
            "max_height": null,
            "max_width": null,
            "min_height": null,
            "min_width": null,
            "object_fit": null,
            "object_position": null,
            "order": null,
            "overflow": null,
            "overflow_x": null,
            "overflow_y": null,
            "padding": null,
            "right": null,
            "top": null,
            "visibility": null,
            "width": null
          }
        },
        "0978962e0ea445999483d55872e7af84": {
          "model_module": "@jupyter-widgets/controls",
          "model_name": "ProgressStyleModel",
          "model_module_version": "1.5.0",
          "state": {
            "_model_module": "@jupyter-widgets/controls",
            "_model_module_version": "1.5.0",
            "_model_name": "ProgressStyleModel",
            "_view_count": null,
            "_view_module": "@jupyter-widgets/base",
            "_view_module_version": "1.2.0",
            "_view_name": "StyleView",
            "bar_color": null,
            "description_width": ""
          }
        },
        "85d75fc771b44a51b3a18c38c539a78f": {
          "model_module": "@jupyter-widgets/base",
          "model_name": "LayoutModel",
          "model_module_version": "1.2.0",
          "state": {
            "_model_module": "@jupyter-widgets/base",
            "_model_module_version": "1.2.0",
            "_model_name": "LayoutModel",
            "_view_count": null,
            "_view_module": "@jupyter-widgets/base",
            "_view_module_version": "1.2.0",
            "_view_name": "LayoutView",
            "align_content": null,
            "align_items": null,
            "align_self": null,
            "border": null,
            "bottom": null,
            "display": null,
            "flex": null,
            "flex_flow": null,
            "grid_area": null,
            "grid_auto_columns": null,
            "grid_auto_flow": null,
            "grid_auto_rows": null,
            "grid_column": null,
            "grid_gap": null,
            "grid_row": null,
            "grid_template_areas": null,
            "grid_template_columns": null,
            "grid_template_rows": null,
            "height": null,
            "justify_content": null,
            "justify_items": null,
            "left": null,
            "margin": null,
            "max_height": null,
            "max_width": null,
            "min_height": null,
            "min_width": null,
            "object_fit": null,
            "object_position": null,
            "order": null,
            "overflow": null,
            "overflow_x": null,
            "overflow_y": null,
            "padding": null,
            "right": null,
            "top": null,
            "visibility": null,
            "width": null
          }
        },
        "f68787257bd5474f80d4a0a987273dc5": {
          "model_module": "@jupyter-widgets/controls",
          "model_name": "DescriptionStyleModel",
          "model_module_version": "1.5.0",
          "state": {
            "_model_module": "@jupyter-widgets/controls",
            "_model_module_version": "1.5.0",
            "_model_name": "DescriptionStyleModel",
            "_view_count": null,
            "_view_module": "@jupyter-widgets/base",
            "_view_module_version": "1.2.0",
            "_view_name": "StyleView",
            "description_width": ""
          }
        },
        "1da8fdf063e84b3c9cc8b9091f600039": {
          "model_module": "@jupyter-widgets/controls",
          "model_name": "HBoxModel",
          "model_module_version": "1.5.0",
          "state": {
            "_dom_classes": [],
            "_model_module": "@jupyter-widgets/controls",
            "_model_module_version": "1.5.0",
            "_model_name": "HBoxModel",
            "_view_count": null,
            "_view_module": "@jupyter-widgets/controls",
            "_view_module_version": "1.5.0",
            "_view_name": "HBoxView",
            "box_style": "",
            "children": [
              "IPY_MODEL_fd8103f4d52841898e8e56140e351c4c",
              "IPY_MODEL_3d27ad285d7d4bbc86d70fa4524c2049",
              "IPY_MODEL_deaf15c0f5ae49079d1fb74a51d9be81"
            ],
            "layout": "IPY_MODEL_6cc2f7a3510b46378d062a74e6608ac8"
          }
        },
        "fd8103f4d52841898e8e56140e351c4c": {
          "model_module": "@jupyter-widgets/controls",
          "model_name": "HTMLModel",
          "model_module_version": "1.5.0",
          "state": {
            "_dom_classes": [],
            "_model_module": "@jupyter-widgets/controls",
            "_model_module_version": "1.5.0",
            "_model_name": "HTMLModel",
            "_view_count": null,
            "_view_module": "@jupyter-widgets/controls",
            "_view_module_version": "1.5.0",
            "_view_name": "HTMLView",
            "description": "",
            "description_tooltip": null,
            "layout": "IPY_MODEL_85ac77d6193945618f3cd43867450790",
            "placeholder": "​",
            "style": "IPY_MODEL_22b46825cac44407ad0e5eba066d1096",
            "value": "100%"
          }
        },
        "3d27ad285d7d4bbc86d70fa4524c2049": {
          "model_module": "@jupyter-widgets/controls",
          "model_name": "FloatProgressModel",
          "model_module_version": "1.5.0",
          "state": {
            "_dom_classes": [],
            "_model_module": "@jupyter-widgets/controls",
            "_model_module_version": "1.5.0",
            "_model_name": "FloatProgressModel",
            "_view_count": null,
            "_view_module": "@jupyter-widgets/controls",
            "_view_module_version": "1.5.0",
            "_view_name": "ProgressView",
            "bar_style": "success",
            "description": "",
            "description_tooltip": null,
            "layout": "IPY_MODEL_86dece76e187428a9a8112839d5f1c08",
            "max": 2,
            "min": 0,
            "orientation": "horizontal",
            "style": "IPY_MODEL_952e34fa2d734d8f87ed6701a4995aa5",
            "value": 2
          }
        },
        "deaf15c0f5ae49079d1fb74a51d9be81": {
          "model_module": "@jupyter-widgets/controls",
          "model_name": "HTMLModel",
          "model_module_version": "1.5.0",
          "state": {
            "_dom_classes": [],
            "_model_module": "@jupyter-widgets/controls",
            "_model_module_version": "1.5.0",
            "_model_name": "HTMLModel",
            "_view_count": null,
            "_view_module": "@jupyter-widgets/controls",
            "_view_module_version": "1.5.0",
            "_view_name": "HTMLView",
            "description": "",
            "description_tooltip": null,
            "layout": "IPY_MODEL_fe9850cb04294505b8252513abafc1d2",
            "placeholder": "​",
            "style": "IPY_MODEL_bcdee480367f47d2a6bcbb62070bb574",
            "value": " 2/2 [00:04&lt;00:00,  2.26s/it]"
          }
        },
        "6cc2f7a3510b46378d062a74e6608ac8": {
          "model_module": "@jupyter-widgets/base",
          "model_name": "LayoutModel",
          "model_module_version": "1.2.0",
          "state": {
            "_model_module": "@jupyter-widgets/base",
            "_model_module_version": "1.2.0",
            "_model_name": "LayoutModel",
            "_view_count": null,
            "_view_module": "@jupyter-widgets/base",
            "_view_module_version": "1.2.0",
            "_view_name": "LayoutView",
            "align_content": null,
            "align_items": null,
            "align_self": null,
            "border": null,
            "bottom": null,
            "display": null,
            "flex": null,
            "flex_flow": null,
            "grid_area": null,
            "grid_auto_columns": null,
            "grid_auto_flow": null,
            "grid_auto_rows": null,
            "grid_column": null,
            "grid_gap": null,
            "grid_row": null,
            "grid_template_areas": null,
            "grid_template_columns": null,
            "grid_template_rows": null,
            "height": null,
            "justify_content": null,
            "justify_items": null,
            "left": null,
            "margin": null,
            "max_height": null,
            "max_width": null,
            "min_height": null,
            "min_width": null,
            "object_fit": null,
            "object_position": null,
            "order": null,
            "overflow": null,
            "overflow_x": null,
            "overflow_y": null,
            "padding": null,
            "right": null,
            "top": null,
            "visibility": null,
            "width": null
          }
        },
        "85ac77d6193945618f3cd43867450790": {
          "model_module": "@jupyter-widgets/base",
          "model_name": "LayoutModel",
          "model_module_version": "1.2.0",
          "state": {
            "_model_module": "@jupyter-widgets/base",
            "_model_module_version": "1.2.0",
            "_model_name": "LayoutModel",
            "_view_count": null,
            "_view_module": "@jupyter-widgets/base",
            "_view_module_version": "1.2.0",
            "_view_name": "LayoutView",
            "align_content": null,
            "align_items": null,
            "align_self": null,
            "border": null,
            "bottom": null,
            "display": null,
            "flex": null,
            "flex_flow": null,
            "grid_area": null,
            "grid_auto_columns": null,
            "grid_auto_flow": null,
            "grid_auto_rows": null,
            "grid_column": null,
            "grid_gap": null,
            "grid_row": null,
            "grid_template_areas": null,
            "grid_template_columns": null,
            "grid_template_rows": null,
            "height": null,
            "justify_content": null,
            "justify_items": null,
            "left": null,
            "margin": null,
            "max_height": null,
            "max_width": null,
            "min_height": null,
            "min_width": null,
            "object_fit": null,
            "object_position": null,
            "order": null,
            "overflow": null,
            "overflow_x": null,
            "overflow_y": null,
            "padding": null,
            "right": null,
            "top": null,
            "visibility": null,
            "width": null
          }
        },
        "22b46825cac44407ad0e5eba066d1096": {
          "model_module": "@jupyter-widgets/controls",
          "model_name": "DescriptionStyleModel",
          "model_module_version": "1.5.0",
          "state": {
            "_model_module": "@jupyter-widgets/controls",
            "_model_module_version": "1.5.0",
            "_model_name": "DescriptionStyleModel",
            "_view_count": null,
            "_view_module": "@jupyter-widgets/base",
            "_view_module_version": "1.2.0",
            "_view_name": "StyleView",
            "description_width": ""
          }
        },
        "86dece76e187428a9a8112839d5f1c08": {
          "model_module": "@jupyter-widgets/base",
          "model_name": "LayoutModel",
          "model_module_version": "1.2.0",
          "state": {
            "_model_module": "@jupyter-widgets/base",
            "_model_module_version": "1.2.0",
            "_model_name": "LayoutModel",
            "_view_count": null,
            "_view_module": "@jupyter-widgets/base",
            "_view_module_version": "1.2.0",
            "_view_name": "LayoutView",
            "align_content": null,
            "align_items": null,
            "align_self": null,
            "border": null,
            "bottom": null,
            "display": null,
            "flex": null,
            "flex_flow": null,
            "grid_area": null,
            "grid_auto_columns": null,
            "grid_auto_flow": null,
            "grid_auto_rows": null,
            "grid_column": null,
            "grid_gap": null,
            "grid_row": null,
            "grid_template_areas": null,
            "grid_template_columns": null,
            "grid_template_rows": null,
            "height": null,
            "justify_content": null,
            "justify_items": null,
            "left": null,
            "margin": null,
            "max_height": null,
            "max_width": null,
            "min_height": null,
            "min_width": null,
            "object_fit": null,
            "object_position": null,
            "order": null,
            "overflow": null,
            "overflow_x": null,
            "overflow_y": null,
            "padding": null,
            "right": null,
            "top": null,
            "visibility": null,
            "width": null
          }
        },
        "952e34fa2d734d8f87ed6701a4995aa5": {
          "model_module": "@jupyter-widgets/controls",
          "model_name": "ProgressStyleModel",
          "model_module_version": "1.5.0",
          "state": {
            "_model_module": "@jupyter-widgets/controls",
            "_model_module_version": "1.5.0",
            "_model_name": "ProgressStyleModel",
            "_view_count": null,
            "_view_module": "@jupyter-widgets/base",
            "_view_module_version": "1.2.0",
            "_view_name": "StyleView",
            "bar_color": null,
            "description_width": ""
          }
        },
        "fe9850cb04294505b8252513abafc1d2": {
          "model_module": "@jupyter-widgets/base",
          "model_name": "LayoutModel",
          "model_module_version": "1.2.0",
          "state": {
            "_model_module": "@jupyter-widgets/base",
            "_model_module_version": "1.2.0",
            "_model_name": "LayoutModel",
            "_view_count": null,
            "_view_module": "@jupyter-widgets/base",
            "_view_module_version": "1.2.0",
            "_view_name": "LayoutView",
            "align_content": null,
            "align_items": null,
            "align_self": null,
            "border": null,
            "bottom": null,
            "display": null,
            "flex": null,
            "flex_flow": null,
            "grid_area": null,
            "grid_auto_columns": null,
            "grid_auto_flow": null,
            "grid_auto_rows": null,
            "grid_column": null,
            "grid_gap": null,
            "grid_row": null,
            "grid_template_areas": null,
            "grid_template_columns": null,
            "grid_template_rows": null,
            "height": null,
            "justify_content": null,
            "justify_items": null,
            "left": null,
            "margin": null,
            "max_height": null,
            "max_width": null,
            "min_height": null,
            "min_width": null,
            "object_fit": null,
            "object_position": null,
            "order": null,
            "overflow": null,
            "overflow_x": null,
            "overflow_y": null,
            "padding": null,
            "right": null,
            "top": null,
            "visibility": null,
            "width": null
          }
        },
        "bcdee480367f47d2a6bcbb62070bb574": {
          "model_module": "@jupyter-widgets/controls",
          "model_name": "DescriptionStyleModel",
          "model_module_version": "1.5.0",
          "state": {
            "_model_module": "@jupyter-widgets/controls",
            "_model_module_version": "1.5.0",
            "_model_name": "DescriptionStyleModel",
            "_view_count": null,
            "_view_module": "@jupyter-widgets/base",
            "_view_module_version": "1.2.0",
            "_view_name": "StyleView",
            "description_width": ""
          }
        }
      }
    }
  },
  "cells": [
    {
      "cell_type": "markdown",
      "metadata": {
        "id": "view-in-github",
        "colab_type": "text"
      },
      "source": [
        "<a href=\"https://colab.research.google.com/github/hateley/RAG-chatbot/blob/main/rag_chatbot.ipynb\" target=\"_parent\"><img src=\"https://colab.research.google.com/assets/colab-badge.svg\" alt=\"Open In Colab\"/></a>"
      ]
    },
    {
      "cell_type": "markdown",
      "source": [
        "## Question and Answer System using RAG and LangChain\n",
        "**Author**: Shannon Hateley, PhD  \n",
        "**Date**: July 31, 2024\n",
        "\n",
        "<ins>Coding Task</ins>  \n",
        "Question-Answering for Medical Information on Epkinly & Polivy\n",
        "\n",
        "<ins>Objective</ins>  \n",
        "Develop a question & answering system using a large language model that can answer questions related to Epkinly & Polivy in a compliant manner. The goal is to demonstrate your ability to develop a technical solution, apply existing frameworks, and think creatively.  \n",
        "Provide a walkthrough of the system development.   \n",
        "\n",
        "Method must use:  \n",
        "* an LLM framework\n",
        "* compliance guardrails\n",
        "\n",
        "\n",
        "<ins>Method Overview</ins>  \n",
        "The Question and Answer system utilizes the LangChain framework and Retrieval-Augmented Generation (RAG) to access specific information on Epkinly and Polivy. Guardrails will be implemented in the next step.  \n",
        "\n",
        "<ins>Major Steps</ins>  \n",
        "1. Scrape linked websites for drug and trial information\n",
        "2. Ingest data and store as embeddings\n",
        "3. Initiate Q&A chatbot with RAG\n",
        "4. Add guardrails\n",
        "\n",
        "\n",
        "#### Required libraries:\n",
        "* **langchain**: The GenAI framework used to process and combine the chatbot components\n",
        "* **openai**: OpenAI Python client, to interact with the OpenAI API and generate answers\n",
        "* **pinecone-client**: Python client for the Pinecone API where the knowledge base embeddings are stored in a vector database\n",
        "* **other**: Various data wrangling, visualizing, and text processing libraries"
      ],
      "metadata": {
        "id": "0agTTRe0H3Km"
      }
    },
    {
      "cell_type": "code",
      "source": [
        "# install libraries\n",
        "\n",
        "!pip install -qU \\\n",
        "    langchain==0.0.354 \\\n",
        "    openai==1.6.1 \\\n",
        "    pinecone-client==3.1.0 \\\n",
        "    tiktoken==0.5.2 \\\n",
        "    pandas==2.1.4 \\\n",
        "    matplotlib \\\n",
        "    seaborn \\\n",
        "    tqdm"
      ],
      "metadata": {
        "id": "bXkxrcG6H20E",
        "colab": {
          "base_uri": "https://localhost:8080/"
        },
        "outputId": "656b3d13-c603-4428-b057-9c27d56795ea"
      },
      "execution_count": 2,
      "outputs": [
        {
          "output_type": "stream",
          "name": "stdout",
          "text": [
            "\u001b[?25l   \u001b[90m━━━━━━━━━━━━━━━━━━━━━━━━━━━━━━━━━━━━━━━━\u001b[0m \u001b[32m0.0/803.3 kB\u001b[0m \u001b[31m?\u001b[0m eta \u001b[36m-:--:--\u001b[0m\r\u001b[2K   \u001b[90m━━━━━━━━━━━━━━━━━━━━━━━━━━━━━━━━━━━━━━━━\u001b[0m \u001b[32m803.3/803.3 kB\u001b[0m \u001b[31m29.2 MB/s\u001b[0m eta \u001b[36m0:00:00\u001b[0m\n",
            "\u001b[?25h\u001b[?25l   \u001b[90m━━━━━━━━━━━━━━━━━━━━━━━━━━━━━━━━━━━━━━━━\u001b[0m \u001b[32m0.0/225.4 kB\u001b[0m \u001b[31m?\u001b[0m eta \u001b[36m-:--:--\u001b[0m\r\u001b[2K   \u001b[90m━━━━━━━━━━━━━━━━━━━━━━━━━━━━━━━━━━━━━━━━\u001b[0m \u001b[32m225.4/225.4 kB\u001b[0m \u001b[31m13.4 MB/s\u001b[0m eta \u001b[36m0:00:00\u001b[0m\n",
            "\u001b[?25h\u001b[?25l   \u001b[90m━━━━━━━━━━━━━━━━━━━━━━━━━━━━━━━━━━━━━━━━\u001b[0m \u001b[32m0.0/211.0 kB\u001b[0m \u001b[31m?\u001b[0m eta \u001b[36m-:--:--\u001b[0m\r\u001b[2K   \u001b[90m━━━━━━━━━━━━━━━━━━━━━━━━━━━━━━━━━━━━━━━━\u001b[0m \u001b[32m211.0/211.0 kB\u001b[0m \u001b[31m11.5 MB/s\u001b[0m eta \u001b[36m0:00:00\u001b[0m\n",
            "\u001b[2K   \u001b[90m━━━━━━━━━━━━━━━━━━━━━━━━━━━━━━━━━━━━━━━━\u001b[0m \u001b[32m2.0/2.0 MB\u001b[0m \u001b[31m63.6 MB/s\u001b[0m eta \u001b[36m0:00:00\u001b[0m\n",
            "\u001b[2K   \u001b[90m━━━━━━━━━━━━━━━━━━━━━━━━━━━━━━━━━━━━━━━━\u001b[0m \u001b[32m8.3/8.3 MB\u001b[0m \u001b[31m84.7 MB/s\u001b[0m eta \u001b[36m0:00:00\u001b[0m\n",
            "\u001b[2K   \u001b[90m━━━━━━━━━━━━━━━━━━━━━━━━━━━━━━━━━━━━━━━━\u001b[0m \u001b[32m294.9/294.9 kB\u001b[0m \u001b[31m11.7 MB/s\u001b[0m eta \u001b[36m0:00:00\u001b[0m\n",
            "\u001b[2K   \u001b[90m━━━━━━━━━━━━━━━━━━━━━━━━━━━━━━━━━━━━━━━━\u001b[0m \u001b[32m75.6/75.6 kB\u001b[0m \u001b[31m4.4 MB/s\u001b[0m eta \u001b[36m0:00:00\u001b[0m\n",
            "\u001b[2K   \u001b[90m━━━━━━━━━━━━━━━━━━━━━━━━━━━━━━━━━━━━━━━━\u001b[0m \u001b[32m77.9/77.9 kB\u001b[0m \u001b[31m4.6 MB/s\u001b[0m eta \u001b[36m0:00:00\u001b[0m\n",
            "\u001b[2K   \u001b[90m━━━━━━━━━━━━━━━━━━━━━━━━━━━━━━━━━━━━━━━━\u001b[0m \u001b[32m1.7/1.7 MB\u001b[0m \u001b[31m54.0 MB/s\u001b[0m eta \u001b[36m0:00:00\u001b[0m\n",
            "\u001b[2K   \u001b[90m━━━━━━━━━━━━━━━━━━━━━━━━━━━━━━━━━━━━━━━━\u001b[0m \u001b[32m241.2/241.2 kB\u001b[0m \u001b[31m15.8 MB/s\u001b[0m eta \u001b[36m0:00:00\u001b[0m\n",
            "\u001b[2K   \u001b[90m━━━━━━━━━━━━━━━━━━━━━━━━━━━━━━━━━━━━━━━━\u001b[0m \u001b[32m55.4/55.4 kB\u001b[0m \u001b[31m3.0 MB/s\u001b[0m eta \u001b[36m0:00:00\u001b[0m\n",
            "\u001b[2K   \u001b[90m━━━━━━━━━━━━━━━━━━━━━━━━━━━━━━━━━━━━━━━━\u001b[0m \u001b[32m53.0/53.0 kB\u001b[0m \u001b[31m3.6 MB/s\u001b[0m eta \u001b[36m0:00:00\u001b[0m\n",
            "\u001b[2K   \u001b[90m━━━━━━━━━━━━━━━━━━━━━━━━━━━━━━━━━━━━━━━━\u001b[0m \u001b[32m49.2/49.2 kB\u001b[0m \u001b[31m2.3 MB/s\u001b[0m eta \u001b[36m0:00:00\u001b[0m\n",
            "\u001b[2K   \u001b[90m━━━━━━━━━━━━━━━━━━━━━━━━━━━━━━━━━━━━━━━━\u001b[0m \u001b[32m58.3/58.3 kB\u001b[0m \u001b[31m2.1 MB/s\u001b[0m eta \u001b[36m0:00:00\u001b[0m\n",
            "\u001b[?25h"
          ]
        }
      ]
    },
    {
      "cell_type": "markdown",
      "source": [
        "\n",
        "### 1. Scrape websites\n",
        "Performed independently (see scrape_webpages.ipynb), then loaded into colab notebook for experdiancy here.\n",
        "\n",
        "### 2. Ingest data and store as embeddings\n",
        "The websites need to be converted to embeddings to be referenced by our system. And storing them in an indexed vector database makes retrieval faster in cases of a lot of data.\n"
      ],
      "metadata": {
        "id": "bK2HuJjiIT1i"
      }
    },
    {
      "cell_type": "code",
      "source": [
        "# setup environment for generating embeddings\n",
        "\n",
        "import pandas as pd\n",
        "from langchain.document_loaders import DataFrameLoader\n",
        "import tiktoken\n",
        "import matplotlib.pyplot as plt\n",
        "import seaborn as sns\n",
        "from langchain.text_splitter import RecursiveCharacterTextSplitter\n",
        "from tqdm.auto import tqdm\n",
        "from pinecone import Pinecone\n",
        "from google.colab import userdata\n",
        "from pinecone import ServerlessSpec\n",
        "from langchain.embeddings.openai import OpenAIEmbeddings\n"
      ],
      "metadata": {
        "id": "MLAh4WZy6Wew"
      },
      "execution_count": 9,
      "outputs": []
    },
    {
      "cell_type": "code",
      "source": [
        "# read the scraped webpages as a dataframe\n",
        "df = pd.read_csv(\"/content/scraped.tsv\", sep='\\t')\n",
        "print(df.columns)\n",
        "\n",
        "# convert to langchain format for processing\n",
        "loader = DataFrameLoader(\n",
        "    df,\n",
        "    page_content_column=\"text\"\n",
        ")\n",
        "docs = loader.load()\n",
        "print(f\"number of sites loaded:{len(docs)}\")"
      ],
      "metadata": {
        "colab": {
          "base_uri": "https://localhost:8080/"
        },
        "id": "bYwXsvLFkul7",
        "outputId": "414e3186-e351-418a-a58a-57677d7fcf6d",
        "collapsed": true
      },
      "execution_count": 4,
      "outputs": [
        {
          "output_type": "stream",
          "name": "stdout",
          "text": [
            "Index(['fname', 'text'], dtype='object')\n",
            "8\n"
          ]
        }
      ]
    },
    {
      "cell_type": "code",
      "source": [
        "# configure tokenizer for desired encoding\n",
        "\n",
        "tokenizer = tiktoken.get_encoding('cl100k_base')\n",
        "\n",
        "# set token length function\n",
        "def tiktoken_len(text):\n",
        "    tokens = tokenizer.encode(\n",
        "        text,\n",
        "        disallowed_special=()\n",
        "    )\n",
        "    return len(tokens)\n",
        "\n",
        "\n",
        "tiktoken.encoding_for_model('gpt-3.5-turbo')\n",
        "token_counts = [tiktoken_len(doc.page_content) for doc in docs]\n",
        "\n",
        "# function to break up our documents into smaller chunks\n",
        "text_splitter = RecursiveCharacterTextSplitter(\n",
        "    chunk_size=400,\n",
        "    chunk_overlap=20,  # number of tokens overlap between chunks\n",
        "    length_function=tiktoken_len,\n",
        "    separators=['\\n\\n', '\\n', ' ', '']\n",
        ")\n",
        "\n",
        "# print original token lengths\n",
        "print(f\"\"\"Min: {min(token_counts)}\n",
        "Avg: {int(sum(token_counts) / len(token_counts))}\n",
        "Max: {max(token_counts)}\"\"\")"
      ],
      "metadata": {
        "colab": {
          "base_uri": "https://localhost:8080/"
        },
        "id": "MEFSQdXrhZbR",
        "outputId": "7ce8c978-6ad4-407c-97cd-83819efd10ef"
      },
      "execution_count": 22,
      "outputs": [
        {
          "output_type": "stream",
          "name": "stdout",
          "text": [
            "Min: 10\n",
            "Avg: 5841\n",
            "Max: 7863\n"
          ]
        }
      ]
    },
    {
      "cell_type": "code",
      "source": [
        "# visualize original lengths\n",
        "\n",
        "# set style and color palette for the plot\n",
        "sns.set_style(\"whitegrid\")\n",
        "sns.set_palette(\"muted\")\n",
        "\n",
        "# create histogram\n",
        "plt.figure(figsize=(12, 6))\n",
        "sns.histplot(token_counts, kde=False, bins=50)\n",
        "\n",
        "# customize the plot info\n",
        "plt.title(\"Token Counts Histogram\")\n",
        "plt.xlabel(\"Token Count\")\n",
        "plt.ylabel(\"Frequency\")\n",
        "\n",
        "plt.show()"
      ],
      "metadata": {
        "colab": {
          "base_uri": "https://localhost:8080/",
          "height": 564
        },
        "id": "Vl_d9kBNhrdd",
        "outputId": "87ee5993-0a3a-456e-fa00-f67314725ade"
      },
      "execution_count": 17,
      "outputs": [
        {
          "output_type": "display_data",
          "data": {
            "text/plain": [
              "<Figure size 1200x600 with 1 Axes>"
            ],
            "image/png": "[encoded data removed]"
          },
          "metadata": {}
        }
      ]
    },
    {
      "cell_type": "code",
      "source": [
        "#chunk the documents\n",
        "\n",
        "dataset = []\n",
        "\n",
        "for doc in tqdm(docs):\n",
        "    source = doc.metadata['fname'].replace('.txt', '')\n",
        "    chunks = text_splitter.split_text(doc.page_content)\n",
        "    for i, chunk in enumerate(chunks):\n",
        "        dataset.append({\n",
        "            'text': chunk,\n",
        "            'source': source\n",
        "        })\n",
        "\n",
        "print(f\"documents printed into {len(dataset)} total chunks\")\n"
      ],
      "metadata": {
        "colab": {
          "base_uri": "https://localhost:8080/",
          "height": 66,
          "referenced_widgets": [
            "a1ad5f130bf7408ba8efe321a9fd8c23",
            "745bf123607e44c7885ab347e088bfb6",
            "45aa9949e2184583aa0900584b6eb84e",
            "7ee384dba6924515b96d5c33a2185782",
            "f3588049131e453492b8714c111109bd",
            "d0293cd4eff54fe8bca24cdf403b2b09",
            "0384d637a87a4054a6322c241f93f0a2",
            "3c5eeb7461644000988bc98d8164872d",
            "0978962e0ea445999483d55872e7af84",
            "85d75fc771b44a51b3a18c38c539a78f",
            "f68787257bd5474f80d4a0a987273dc5"
          ]
        },
        "id": "dHgCiWtTh19N",
        "outputId": "fea78914-0434-42e0-b2da-0f5b39cbdf92"
      },
      "execution_count": 25,
      "outputs": [
        {
          "output_type": "display_data",
          "data": {
            "text/plain": [
              "  0%|          | 0/8 [00:00<?, ?it/s]"
            ],
            "application/vnd.jupyter.widget-view+json": {
              "version_major": 2,
              "version_minor": 0,
              "model_id": "a1ad5f130bf7408ba8efe321a9fd8c23"
            }
          },
          "metadata": {}
        },
        {
          "output_type": "execute_result",
          "data": {
            "text/plain": [
              "131"
            ]
          },
          "metadata": {},
          "execution_count": 25
        }
      ]
    },
    {
      "cell_type": "markdown",
      "source": [
        "#### Create the embeddings and store them in Pinecone"
      ],
      "metadata": {
        "id": "78ZPEFaL-Pxn"
      }
    },
    {
      "cell_type": "code",
      "source": [
        "# initialize connection to pinecone (get API key at app.pinecone.io)\n",
        "api_key = userdata.get('pinecone')\n",
        "\n",
        "# configure client\n",
        "pc = Pinecone(api_key=api_key)\n",
        "\n",
        "spec = ServerlessSpec(\n",
        "    cloud=\"aws\", region=\"us-east-1\"\n",
        ")"
      ],
      "metadata": {
        "id": "SXmpbkAHt8zJ",
        "colab": {
          "base_uri": "https://localhost:8080/",
          "height": 211
        },
        "outputId": "e4f46e77-b3f9-43ad-90c5-7dce6a738877"
      },
      "execution_count": 10,
      "outputs": [
        {
          "output_type": "error",
          "ename": "NameError",
          "evalue": "name 'pinecone' is not defined",
          "traceback": [
            "\u001b[0;31m---------------------------------------------------------------------------\u001b[0m",
            "\u001b[0;31mNameError\u001b[0m                                 Traceback (most recent call last)",
            "\u001b[0;32m<ipython-input-10-aa63a696e6f4>\u001b[0m in \u001b[0;36m<cell line: 5>\u001b[0;34m()\u001b[0m\n\u001b[1;32m      3\u001b[0m \u001b[0;34m\u001b[0m\u001b[0m\n\u001b[1;32m      4\u001b[0m \u001b[0;31m# configure client\u001b[0m\u001b[0;34m\u001b[0m\u001b[0;34m\u001b[0m\u001b[0m\n\u001b[0;32m----> 5\u001b[0;31m \u001b[0mpc\u001b[0m \u001b[0;34m=\u001b[0m \u001b[0mpinecone\u001b[0m\u001b[0;34m.\u001b[0m\u001b[0mPinecone\u001b[0m\u001b[0;34m(\u001b[0m\u001b[0mapi_key\u001b[0m\u001b[0;34m=\u001b[0m\u001b[0mapi_key\u001b[0m\u001b[0;34m)\u001b[0m\u001b[0;34m\u001b[0m\u001b[0;34m\u001b[0m\u001b[0m\n\u001b[0m\u001b[1;32m      6\u001b[0m \u001b[0;34m\u001b[0m\u001b[0m\n\u001b[1;32m      7\u001b[0m spec = ServerlessSpec(\n",
            "\u001b[0;31mNameError\u001b[0m: name 'pinecone' is not defined"
          ]
        }
      ]
    },
    {
      "cell_type": "code",
      "source": [
        "# initialize embeddings in Pinecone\n",
        "\n",
        "import time\n",
        "\n",
        "index_name = 'trials-rag'\n",
        "existing_indexes = [\n",
        "    index_info[\"name\"] for index_info in pc.list_indexes()\n",
        "]\n",
        "\n",
        "# check if index already exists (it shouldn't if this is first time)\n",
        "if index_name not in existing_indexes:\n",
        "    # if does not exist, create index\n",
        "    pc.create_index(\n",
        "        index_name,\n",
        "        dimension=1536,  # dimensionality of ada 002\n",
        "        metric='cosine',\n",
        "        spec=spec\n",
        "    )\n",
        "    # wait for index to be initialized\n",
        "    while not pc.describe_index(index_name).status['ready']:\n",
        "        time.sleep(1)\n",
        "\n",
        "# connect to index\n",
        "index = pc.Index(index_name)\n",
        "time.sleep(1)\n",
        "# view index stats\n",
        "index.describe_index_stats()"
      ],
      "metadata": {
        "id": "lnFIlFiOvKvl",
        "outputId": "c30b5928-6260-48c0-d609-b2b9467bae28",
        "colab": {
          "base_uri": "https://localhost:8080/"
        }
      },
      "execution_count": 41,
      "outputs": [
        {
          "output_type": "execute_result",
          "data": {
            "text/plain": [
              "{'dimension': 1536,\n",
              " 'index_fullness': 0.0,\n",
              " 'namespaces': {'': {'vector_count': 149}},\n",
              " 'total_vector_count': 149}"
            ]
          },
          "metadata": {},
          "execution_count": 41
        }
      ]
    },
    {
      "cell_type": "code",
      "source": [
        "\n",
        "embed_model = OpenAIEmbeddings(model=\"text-embedding-ada-002\", openai_api_key=userdata.get('genmab_openai'))"
      ],
      "metadata": {
        "id": "rBQfQUXxvXoE"
      },
      "execution_count": null,
      "outputs": []
    },
    {
      "cell_type": "code",
      "source": [
        "# define embedding model parameters\n",
        "embed_model = OpenAIEmbeddings(model=\"text-embedding-ada-002\", openai_api_key=userdata.get('genmab_openai'))\n",
        "\n",
        "#embed and store document chunks\n",
        "from tqdm.auto import tqdm  # for progress bar\n",
        "\n",
        "data = pd.DataFrame(dataset)\n",
        "data['chunk-id'] = data.index\n",
        "\n",
        "batch_size = 100\n",
        "\n",
        "for i in tqdm(range(0, len(data), batch_size)):\n",
        "    i_end = min(len(data), i+batch_size)\n",
        "    # get batch of data\n",
        "    batch = data.iloc[i:i_end]\n",
        "    # generate unique ids for each chunk\n",
        "    ids = [f\"{x['chunk-id']}\" for i, x in batch.iterrows()]\n",
        "    # get text to embed\n",
        "    texts = [x['text'] for _, x in batch.iterrows()]\n",
        "    # embed text\n",
        "    embeds = embed_model.embed_documents(texts)\n",
        "    # get metadata to store in Pinecone\n",
        "    metadata = [\n",
        "        {'text': x['text'],\n",
        "         'source': x['source']} for i, x in batch.iterrows()\n",
        "    ]\n",
        "    # add to Pinecone\n",
        "    index.upsert(vectors=zip(ids, embeds, metadata))"
      ],
      "metadata": {
        "id": "Yiuo5ybEvuYr",
        "outputId": "90b1f476-ad8c-4826-e2d1-a0b5e6f9c691",
        "colab": {
          "base_uri": "https://localhost:8080/",
          "height": 104,
          "referenced_widgets": [
            "1da8fdf063e84b3c9cc8b9091f600039",
            "fd8103f4d52841898e8e56140e351c4c",
            "3d27ad285d7d4bbc86d70fa4524c2049",
            "deaf15c0f5ae49079d1fb74a51d9be81",
            "6cc2f7a3510b46378d062a74e6608ac8",
            "85ac77d6193945618f3cd43867450790",
            "22b46825cac44407ad0e5eba066d1096",
            "86dece76e187428a9a8112839d5f1c08",
            "952e34fa2d734d8f87ed6701a4995aa5",
            "fe9850cb04294505b8252513abafc1d2",
            "bcdee480367f47d2a6bcbb62070bb574"
          ]
        }
      },
      "execution_count": 43,
      "outputs": [
        {
          "output_type": "stream",
          "name": "stderr",
          "text": [
            "/usr/local/lib/python3.10/dist-packages/langchain_core/_api/deprecation.py:117: LangChainDeprecationWarning: The class `langchain_community.embeddings.openai.OpenAIEmbeddings` was deprecated in langchain-community 0.1.0 and will be removed in 0.2.0. An updated version of the class exists in the langchain-openai package and should be used instead. To use it run `pip install -U langchain-openai` and import as `from langchain_openai import OpenAIEmbeddings`.\n",
            "  warn_deprecated(\n"
          ]
        },
        {
          "output_type": "display_data",
          "data": {
            "text/plain": [
              "  0%|          | 0/2 [00:00<?, ?it/s]"
            ],
            "application/vnd.jupyter.widget-view+json": {
              "version_major": 2,
              "version_minor": 0,
              "model_id": "1da8fdf063e84b3c9cc8b9091f600039"
            }
          },
          "metadata": {}
        }
      ]
    },
    {
      "cell_type": "code",
      "source": [
        "# index values should be updated to include the new embedding vectors\n",
        "index.describe_index_stats()"
      ],
      "metadata": {
        "id": "Ofk-mbHz4eai",
        "outputId": "520c52ab-5b15-45bc-b5d5-b68547958dcf",
        "colab": {
          "base_uri": "https://localhost:8080/"
        }
      },
      "execution_count": 44,
      "outputs": [
        {
          "output_type": "execute_result",
          "data": {
            "text/plain": [
              "{'dimension': 1536,\n",
              " 'index_fullness': 0.0,\n",
              " 'namespaces': {'': {'vector_count': 149}},\n",
              " 'total_vector_count': 149}"
            ]
          },
          "metadata": {},
          "execution_count": 44
        }
      ]
    },
    {
      "cell_type": "markdown",
      "source": [
        "### 3) Create the chatbot with RAG\n",
        "\n",
        "To start, we can see that a simple Q&A chatbot probably won't have much knowledge about the drugs or clinical trials."
      ],
      "metadata": {
        "id": "R7vl3irqJ_AC"
      }
    },
    {
      "cell_type": "code",
      "source": [
        "# set up environment for building the chatbot\n",
        "\n",
        "import os\n",
        "from langchain.chat_models import ChatOpenAI\n",
        "from langchain.schema import (\n",
        "    SystemMessage,\n",
        "    HumanMessage,\n",
        "    AIMessage\n",
        ")\n",
        "from langchain.vectorstores import Pinecone"
      ],
      "metadata": {
        "id": "7cK2t8fR_itI",
        "colab": {
          "base_uri": "https://localhost:8080/",
          "height": 384
        },
        "outputId": "b4da0dbe-25e0-49a8-bf4a-c118831658dc"
      },
      "execution_count": 1,
      "outputs": [
        {
          "output_type": "error",
          "ename": "ModuleNotFoundError",
          "evalue": "No module named 'langchain'",
          "traceback": [
            "\u001b[0;31m---------------------------------------------------------------------------\u001b[0m",
            "\u001b[0;31mModuleNotFoundError\u001b[0m                       Traceback (most recent call last)",
            "\u001b[0;32m<ipython-input-1-a6930c3e08bf>\u001b[0m in \u001b[0;36m<cell line: 4>\u001b[0;34m()\u001b[0m\n\u001b[1;32m      2\u001b[0m \u001b[0;34m\u001b[0m\u001b[0m\n\u001b[1;32m      3\u001b[0m \u001b[0;32mimport\u001b[0m \u001b[0mos\u001b[0m\u001b[0;34m\u001b[0m\u001b[0;34m\u001b[0m\u001b[0m\n\u001b[0;32m----> 4\u001b[0;31m \u001b[0;32mfrom\u001b[0m \u001b[0mlangchain\u001b[0m\u001b[0;34m.\u001b[0m\u001b[0mchat_models\u001b[0m \u001b[0;32mimport\u001b[0m \u001b[0mChatOpenAI\u001b[0m\u001b[0;34m\u001b[0m\u001b[0;34m\u001b[0m\u001b[0m\n\u001b[0m\u001b[1;32m      5\u001b[0m from langchain.schema import (\n\u001b[1;32m      6\u001b[0m     \u001b[0mSystemMessage\u001b[0m\u001b[0;34m,\u001b[0m\u001b[0;34m\u001b[0m\u001b[0;34m\u001b[0m\u001b[0m\n",
            "\u001b[0;31mModuleNotFoundError\u001b[0m: No module named 'langchain'",
            "",
            "\u001b[0;31m---------------------------------------------------------------------------\u001b[0;32m\nNOTE: If your import is failing due to a missing package, you can\nmanually install dependencies using either !pip or !apt.\n\nTo view examples of installing some common dependencies, click the\n\"Open Examples\" button below.\n\u001b[0;31m---------------------------------------------------------------------------\u001b[0m\n"
          ],
          "errorDetails": {
            "actions": [
              {
                "action": "open_url",
                "actionText": "Open Examples",
                "url": "/notebooks/snippets/importing_libraries.ipynb"
              }
            ]
          }
        }
      ]
    },
    {
      "cell_type": "code",
      "source": [
        "# initialize the ChatOpenAI object\n",
        "chat = ChatOpenAI(\n",
        "    openai_api_key=userdata.get('genmab_openai'),\n",
        "    model='gpt-3.5-turbo'\n",
        ")\n",
        "\n",
        "# define the first conversation\n",
        "messages = [\n",
        "    SystemMessage(content=\"You are a helpful assistant.\"),\n",
        "    HumanMessage(content=\"Hi AI, how are you today?\"),\n",
        "    AIMessage(content=\"I'm great thank you. How can I help you?\"),\n",
        "    HumanMessage(content=\"I'd like to understand Epkinly.\")\n",
        "]\n",
        "\n",
        "#feed messages to the chat system\n",
        "res = chat(messages)\n",
        "\n",
        "# display chat response\n",
        "print(res.content)"
      ],
      "metadata": {
        "id": "sCeWN6DjIIEY",
        "colab": {
          "base_uri": "https://localhost:8080/"
        },
        "outputId": "6cc15a81-e33e-4ad2-dd65-02d5e6567522"
      },
      "execution_count": 4,
      "outputs": [
        {
          "output_type": "stream",
          "name": "stderr",
          "text": [
            "/usr/local/lib/python3.10/dist-packages/langchain_core/_api/deprecation.py:117: LangChainDeprecationWarning: The class `langchain_community.chat_models.openai.ChatOpenAI` was deprecated in langchain-community 0.0.10 and will be removed in 0.2.0. An updated version of the class exists in the langchain-openai package and should be used instead. To use it run `pip install -U langchain-openai` and import as `from langchain_openai import ChatOpenAI`.\n",
            "  warn_deprecated(\n"
          ]
        }
      ]
    },
    {
      "cell_type": "code",
      "source": [
        "# right now it doesn't know about the info we want to talk about\n",
        "\n",
        "# add latest AI response to messages\n",
        "messages.append(res)\n",
        "\n",
        "# now create a new user prompt\n",
        "prompt = HumanMessage(\n",
        "    content=\"What were the results of the EPCORE NHL-1 trial?\"\n",
        ")\n",
        "# add to messages\n",
        "messages.append(prompt)\n",
        "\n",
        "# send to OpenAI\n",
        "res = chat(messages)\n",
        "\n",
        "messages.append(res)"
      ],
      "metadata": {
        "id": "l3T45TsXNbwS"
      },
      "execution_count": 8,
      "outputs": []
    },
    {
      "cell_type": "code",
      "source": [
        "print(res.content)"
      ],
      "metadata": {
        "colab": {
          "base_uri": "https://localhost:8080/"
        },
        "id": "E2JFVwcLNnD9",
        "outputId": "90f32adc-4f97-48a2-9837-2b6b0c2acff9"
      },
      "execution_count": 9,
      "outputs": [
        {
          "output_type": "stream",
          "name": "stdout",
          "text": [
            "The EPCORE NHL-1 trial was a Phase 2 clinical trial that evaluated the safety and efficacy of the drug epoetin alfa in treating anemia in patients with non-Hodgkin lymphoma (NHL) who were receiving chemotherapy. The results of the trial showed that epoetin alfa effectively increased hemoglobin levels and reduced the need for blood transfusions in these patients. However, it is important to note that individual results may vary, and it is best to consult with a healthcare professional for specific information about treatment options for NHL.\n"
          ]
        }
      ]
    },
    {
      "cell_type": "code",
      "source": [
        "# right now it doesn't know about the info we want to talk about\n",
        "\n",
        "# add latest AI response to messages\n",
        "messages.append(res)\n",
        "\n",
        "# now create a new user prompt\n",
        "prompt = HumanMessage(\n",
        "    content=\"should I use epoetin alfa?\"\n",
        ")\n",
        "# add to messages\n",
        "messages.append(prompt)\n",
        "\n",
        "# send to OpenAI\n",
        "res = chat(messages)\n",
        "\n",
        "messages.append(res)"
      ],
      "metadata": {
        "id": "4CWurwEFA4K-"
      },
      "execution_count": 16,
      "outputs": []
    },
    {
      "cell_type": "code",
      "source": [
        "print(res.content)"
      ],
      "metadata": {
        "colab": {
          "base_uri": "https://localhost:8080/"
        },
        "id": "KEIHrBJCBBys",
        "outputId": "97d2cecd-6a22-42a8-eb7b-67791fc9ec57"
      },
      "execution_count": 17,
      "outputs": [
        {
          "output_type": "stream",
          "name": "stdout",
          "text": [
            "Whether or not you should use epoetin alfa depends on your individual medical condition and circumstances. Epoetin alfa is typically prescribed to treat anemia in patients with conditions such as chronic kidney disease, cancer, or HIV who are receiving chemotherapy or other treatments that may cause anemia. It is important to discuss your specific situation with your healthcare provider, who can provide personalized advice and recommendations based on your medical history and needs.\n"
          ]
        }
      ]
    },
    {
      "cell_type": "code",
      "source": [
        "# now that the embeddings are created and store, we can access them anytime like so\n",
        "\n",
        "text_field = \"text\"  # the field that contains our text\n",
        "\n",
        "# initialize the vector store object\n",
        "vectorstore = Pinecone(\n",
        "    index, embed_model.embed_query, text_field\n",
        ")"
      ],
      "metadata": {
        "id": "3PGOL4xP6GAT",
        "outputId": "7ee9446c-c846-4494-b4c1-5925397b908e",
        "colab": {
          "base_uri": "https://localhost:8080/"
        }
      },
      "execution_count": 46,
      "outputs": [
        {
          "output_type": "stream",
          "name": "stderr",
          "text": [
            "/usr/local/lib/python3.10/dist-packages/langchain_core/_api/deprecation.py:117: LangChainDeprecationWarning: The class `langchain_community.vectorstores.pinecone.Pinecone` was deprecated in langchain-community 0.0.18 and will be removed in 0.2.0. An updated version of the class exists in the langchain-pinecone package and should be used instead. To use it run `pip install -U langchain-pinecone` and import as `from langchain_pinecone import Pinecone`.\n",
            "  warn_deprecated(\n",
            "/usr/local/lib/python3.10/dist-packages/langchain_community/vectorstores/pinecone.py:68: UserWarning: Passing in `embedding` as a Callable is deprecated. Please pass in an Embeddings object instead.\n",
            "  warnings.warn(\n"
          ]
        }
      ]
    },
    {
      "cell_type": "code",
      "source": [
        "query = \"What were the results of the EPCORE NHL-1 trial?\"\n",
        "\n",
        "vectorstore.similarity_search(query, k=3)"
      ],
      "metadata": {
        "id": "NLcXWej_6VQk",
        "outputId": "1cba81d5-ecb6-4011-cf51-1aeb8df6328c",
        "colab": {
          "base_uri": "https://localhost:8080/"
        }
      },
      "execution_count": 33,
      "outputs": [
        {
          "output_type": "execute_result",
          "data": {
            "text/plain": [
              "[Document(page_content='Efficacy was evaluated in 148 patients with DLBCL, NOS, including DLBCL arising from indolent lymphoma, and HGBCL.  EPCORE NHL-1 trial   Primary endpoint*: ORR (CR+PR) \\xa0 Select secondary endpoints included2*: CR rate, DOR, DOCR, time to response \\xa0 KEY INCLUSION CRITERIA3: ECOG PS 0-2 | Prior CAR T allowed | ≥2 prior lines of antineoplastic therapy, including ≥1 anti-CD20 mAb KEY EXCLUSION CRITERIA: CNS involvement of lymphoma | Allogeneic HSCT or solid organ transplant | Ongoing active infection | Known impaired T-cell immunity \\xa0 \\xa0 \\xa0 \\xa0 \\xa0 \\xa0   DOSING SCHEDULE     SUBCUTANEOUS EPKINLY 48 mg Weekly, cycles 1†-3 Every other week, cycles 4-9 Every 4 weeks, cycles 10+ \\xa0 Cycle=28 days.    Patients continued to receive EPKINLY until disease progression or unacceptable toxicity.  Strategies to minimize occurrence and severity of CRS: Step-up dosage: step-up dose 1 of 0.16 mg on C1D1, step-up dose 2 of 0.8 mg on C1D8, and full dose of 48 mg on C1D15. Patient should be hospitalized for 24 hours after C1D15 dosage of 48 mg Prophylactic treatment with corticosteroids, antihistamines, and antipyretics during C1 and as needed during C2+  Please see the Dosing Information and full Prescribing Information for recommended dosing schedule and prophylaxis.   EPKINLY was evaluated in heavily pretreated 3L+ DLBCL patients1 Patient characteristics  EPKINLY was studied in a population of patients with complex treatment', metadata={'source': 'epkinly_study-design'}),\n",
              " Document(page_content='of patients (1.3% COVID-19, 0.6% hepatotoxicity, 0.6% ICANS, 0.6% myocardial infarction, 0.6% pulmonary embolism)1 Most adverse reactions occurred early in treatment (C1-3), and incidence declined after 12 weeks2 Low discontinuation rate (3.8%) due to any adverse reaction2 Adverse reactions that led to discontinuation included COVID-19, CRS, ICANS, pleural effusion, and fatigue2 Dosage interruptions due to an adverse reaction occurred in 34% of patients (reactions occurring ≥3%: CRS, neutropenia, sepsis, and thrombocytopenia)1  Learn more about the EPCORE® NHL-1 study ASTCT=American Society for Transplantation and Cellular Therapy; C1-3=cycles 1-3; COVID-19=coronavirus disease of 2019; CRS=cytokine release syndrome; CTCAE=Common Terminology Criteria for Adverse Events; ICANS=immune effector cell-associated neurotoxicity syndrome; NHL=non-Hodgkin lymphoma.    Has your care facility historically managed CRS? Yes No I do not know  Managing CRS events. Learn more about dosing modifications for CRS events VIEW DOSING MODIFICATIONS  Obtain information about CRS with EPKINLY. Resources are available to learn how to manage these events EXPLORE CRS EVENTS  Connect with a representative to help you learn more about EPKINLY CONTACT A REP  Reset       Review the CRS and ICANS events that occurred in the clinical trial  FIND OUT MORE    IMPORTANT SAFETY INFORMATION BOXED WARNINGS Cytokine release syndrome (CRS), including serious or life-threatening reactions, can occur in patients receiving EPKINLY. Initiate treatment with the', metadata={'source': 'epkinly_adverse-reactions'}),\n",
              " Document(page_content='0.05. The hierarchical testing order was PFS, modified EFS, and then CR rate and overall survival.  Objective response\\xa0at EOT in patients receiving POLIVY + R-CHP vs R-CHOP1,¶  \\xa0 POLIVY + R-CHP (n=440) R-CHOP (n=439) Objective response rate, % (95% CI) 86 (82, 89) 84 (80, 87) CR rate, % 78 (74, 82) 74 (70, 78) Difference in\\xa0CR rate, % (95% CI) 3.9 (-1.9, 9.7) p-value# 0.1557  ¶By blinded independent central review, per 2014 Lugano response criteria. #Cochran-Mantel-Haenszel chi-squared test, with a two-sided significance boundary of 0.01.   Overall survival data1 With an estimated median follow-up of 3.3 years, the prespecified final analysis of OS showed no statistically significant difference, with a HR of 0.94 (95% CI: 0.67, 1.33) In a descriptive analysis, the OS HR in patients with DLBCL, NOS was 1.02 (95% CI: 0.70, 1.49), and in patients with HGBL it was 0.42 (95% CI: 0.15, 1.19) No formal inferences may be drawn from this analysis Patients receiving subsequent lymphoma therapy (ITT Population)15 Limitations: No formal inferences may be drawn from this observational information. Information on subsequent treatment was collected per protocol, but no formal analyses were conducted. POLARIX was a global trial: availability of subsequent therapy options and local practice patterns varied. New anti-lymphoma therapy', metadata={'source': 'polivy_trial-results'})]"
            ]
          },
          "metadata": {},
          "execution_count": 33
        }
      ]
    },
    {
      "cell_type": "code",
      "source": [
        "def augment_prompt(query: str):\n",
        "    # get top 3 results from knowledge base\n",
        "    results = vectorstore.similarity_search(query, k=3)\n",
        "    # get the text from the results\n",
        "    source_knowledge = \"\\n\".join([x.page_content for x in results])\n",
        "    # feed into an augmented prompt\n",
        "    augmented_prompt = f\"\"\"Using the contexts below, answer the query.\n",
        "\n",
        "    Contexts:\n",
        "    {source_knowledge}\n",
        "\n",
        "    Query: {query}\"\"\"\n",
        "    return augmented_prompt"
      ],
      "metadata": {
        "id": "nr60a3m-6x3h"
      },
      "execution_count": 34,
      "outputs": []
    },
    {
      "cell_type": "code",
      "source": [
        "print(augment_prompt(query))"
      ],
      "metadata": {
        "id": "3ZAcG9Hc619-",
        "outputId": "95b8ad76-7d16-4b64-80d2-a3b598efeece",
        "colab": {
          "base_uri": "https://localhost:8080/"
        }
      },
      "execution_count": 35,
      "outputs": [
        {
          "output_type": "stream",
          "name": "stdout",
          "text": [
            "Using the contexts below, answer the query.\n",
            "\n",
            "    Contexts:\n",
            "    Efficacy was evaluated in 148 patients with DLBCL, NOS, including DLBCL arising from indolent lymphoma, and HGBCL.  EPCORE NHL-1 trial   Primary endpoint*: ORR (CR+PR)   Select secondary endpoints included2*: CR rate, DOR, DOCR, time to response   KEY INCLUSION CRITERIA3: ECOG PS 0-2 | Prior CAR T allowed | ≥2 prior lines of antineoplastic therapy, including ≥1 anti-CD20 mAb KEY EXCLUSION CRITERIA: CNS involvement of lymphoma | Allogeneic HSCT or solid organ transplant | Ongoing active infection | Known impaired T-cell immunity               DOSING SCHEDULE     SUBCUTANEOUS EPKINLY 48 mg Weekly, cycles 1†-3 Every other week, cycles 4-9 Every 4 weeks, cycles 10+   Cycle=28 days.    Patients continued to receive EPKINLY until disease progression or unacceptable toxicity.  Strategies to minimize occurrence and severity of CRS: Step-up dosage: step-up dose 1 of 0.16 mg on C1D1, step-up dose 2 of 0.8 mg on C1D8, and full dose of 48 mg on C1D15. Patient should be hospitalized for 24 hours after C1D15 dosage of 48 mg Prophylactic treatment with corticosteroids, antihistamines, and antipyretics during C1 and as needed during C2+  Please see the Dosing Information and full Prescribing Information for recommended dosing schedule and prophylaxis.   EPKINLY was evaluated in heavily pretreated 3L+ DLBCL patients1 Patient characteristics  EPKINLY was studied in a population of patients with complex treatment\n",
            "of patients (1.3% COVID-19, 0.6% hepatotoxicity, 0.6% ICANS, 0.6% myocardial infarction, 0.6% pulmonary embolism)1 Most adverse reactions occurred early in treatment (C1-3), and incidence declined after 12 weeks2 Low discontinuation rate (3.8%) due to any adverse reaction2 Adverse reactions that led to discontinuation included COVID-19, CRS, ICANS, pleural effusion, and fatigue2 Dosage interruptions due to an adverse reaction occurred in 34% of patients (reactions occurring ≥3%: CRS, neutropenia, sepsis, and thrombocytopenia)1  Learn more about the EPCORE® NHL-1 study ASTCT=American Society for Transplantation and Cellular Therapy; C1-3=cycles 1-3; COVID-19=coronavirus disease of 2019; CRS=cytokine release syndrome; CTCAE=Common Terminology Criteria for Adverse Events; ICANS=immune effector cell-associated neurotoxicity syndrome; NHL=non-Hodgkin lymphoma.    Has your care facility historically managed CRS? Yes No I do not know  Managing CRS events. Learn more about dosing modifications for CRS events VIEW DOSING MODIFICATIONS  Obtain information about CRS with EPKINLY. Resources are available to learn how to manage these events EXPLORE CRS EVENTS  Connect with a representative to help you learn more about EPKINLY CONTACT A REP  Reset       Review the CRS and ICANS events that occurred in the clinical trial  FIND OUT MORE    IMPORTANT SAFETY INFORMATION BOXED WARNINGS Cytokine release syndrome (CRS), including serious or life-threatening reactions, can occur in patients receiving EPKINLY. Initiate treatment with the\n",
            "0.05. The hierarchical testing order was PFS, modified EFS, and then CR rate and overall survival.  Objective response at EOT in patients receiving POLIVY + R-CHP vs R-CHOP1,¶    POLIVY + R-CHP (n=440) R-CHOP (n=439) Objective response rate, % (95% CI) 86 (82, 89) 84 (80, 87) CR rate, % 78 (74, 82) 74 (70, 78) Difference in CR rate, % (95% CI) 3.9 (-1.9, 9.7) p-value# 0.1557  ¶By blinded independent central review, per 2014 Lugano response criteria. #Cochran-Mantel-Haenszel chi-squared test, with a two-sided significance boundary of 0.01.   Overall survival data1 With an estimated median follow-up of 3.3 years, the prespecified final analysis of OS showed no statistically significant difference, with a HR of 0.94 (95% CI: 0.67, 1.33) In a descriptive analysis, the OS HR in patients with DLBCL, NOS was 1.02 (95% CI: 0.70, 1.49), and in patients with HGBL it was 0.42 (95% CI: 0.15, 1.19) No formal inferences may be drawn from this analysis Patients receiving subsequent lymphoma therapy (ITT Population)15 Limitations: No formal inferences may be drawn from this observational information. Information on subsequent treatment was collected per protocol, but no formal analyses were conducted. POLARIX was a global trial: availability of subsequent therapy options and local practice patterns varied. New anti-lymphoma therapy\n",
            "\n",
            "    Query: What were the results of the EPCORE NHL-1 trial?\n"
          ]
        }
      ]
    },
    {
      "cell_type": "code",
      "source": [
        "# create a new user prompt\n",
        "prompt = HumanMessage(\n",
        "    content=augment_prompt(query)\n",
        ")\n",
        "# add to messages\n",
        "messages.append(prompt)\n",
        "\n",
        "res = chat(messages)\n",
        "\n",
        "print(res.content)"
      ],
      "metadata": {
        "id": "8Umx4St67MpK",
        "outputId": "8aebad12-9338-430b-acd1-a37feaf23baa",
        "colab": {
          "base_uri": "https://localhost:8080/"
        }
      },
      "execution_count": 36,
      "outputs": [
        {
          "output_type": "stream",
          "name": "stdout",
          "text": [
            "The EPCORE NHL-1 trial evaluated the efficacy of EPKINLY in treating anemia in patients with diffuse large B-cell lymphoma (DLBCL), including DLBCL arising from indolent lymphoma, and high-grade B-cell lymphoma (HGBCL). The primary endpoint of the trial was the objective response rate (ORR), which includes complete response (CR) and partial response (PR). Secondary endpoints included CR rate, duration of response (DOR), duration of CR (DOCR), and time to response. The dosing schedule for EPKINLY involved administering 48 mg subcutaneously weekly for cycles 1-3, every other week for cycles 4-9, and every 4 weeks for cycles 10 and beyond. Patients continued to receive EPKINLY until disease progression or unacceptable toxicity. Adverse reactions included cytokine release syndrome (CRS), with most reactions occurring early in treatment (cycles 1-3) and decreasing after 12 weeks. The trial showed low discontinuation rates due to adverse reactions, and dosage interruptions were required in some patients due to adverse reactions such as CRS, neutropenia, sepsis, and thrombocytopenia.\n"
          ]
        }
      ]
    },
    {
      "cell_type": "code",
      "source": [
        "prompt = HumanMessage(\n",
        "    content=augment_prompt(\n",
        "        \"what is Epkinly?\"\n",
        "    )\n",
        ")\n",
        "\n",
        "res = chat(messages + [prompt])\n",
        "print(res.content)"
      ],
      "metadata": {
        "id": "ppGp6ixe7eub",
        "colab": {
          "base_uri": "https://localhost:8080/"
        },
        "outputId": "3638aa3f-f54b-4b6c-cddc-c80230c93c97"
      },
      "execution_count": 37,
      "outputs": [
        {
          "output_type": "stream",
          "name": "stdout",
          "text": [
            "Epkinly is a subcutaneous bispecific indicated for the treatment of adults with relapsed or refractory diffuse large B-cell lymphoma (DLBCL), not otherwise specified (NOS), including DLBCL arising from indolent lymphoma, and high-grade B-cell lymphoma (HGBCL) after 2 or more lines of systemic therapy. It was evaluated in a clinical trial where it delivered an overall response rate (ORR) of 61%, with 38% of patients achieving a deep response of complete response (CR). The drug is approved under accelerated approval based on response rate and durability of response, and continued approval may be contingent upon verification and description of clinical benefit in a confirmatory trial(s).\n"
          ]
        }
      ]
    },
    {
      "cell_type": "code",
      "source": [
        "prompt = HumanMessage(\n",
        "    content=augment_prompt(\n",
        "        \"Should I take Epkinly?\"\n",
        "    )\n",
        ")\n",
        "\n",
        "res = chat(messages + [prompt])\n",
        "print(res.content)"
      ],
      "metadata": {
        "colab": {
          "base_uri": "https://localhost:8080/"
        },
        "id": "gsJQWnbVCHDY",
        "outputId": "842e9508-1b3f-4900-c8e9-fe348ed23614"
      },
      "execution_count": 38,
      "outputs": [
        {
          "output_type": "stream",
          "name": "stdout",
          "text": [
            "Based on the information provided in the contexts, EPKINLY (epcoritamab) is indicated for the treatment of adults with relapsed or refractory diffuse large B-cell lymphoma (DLBCL), not otherwise specified (NOS), including DLBCL arising from indolent lymphoma, and high-grade B-cell lymphoma (HGBCL) after 2 or more lines of systemic therapy. It is also indicated for relapsed or refractory follicular lymphoma (FL) after 2 or more lines of systemic therapy. These indications are approved under accelerated approval based on response rate and durability of response.\n",
            "\n",
            "However, it is important to note that EPKINLY has Boxed Warnings for cytokine release syndrome (CRS) and immune effector cell–associated neurotoxicity syndrome (ICANS), which can be serious or life-threatening. Before considering taking EPKINLY, it is crucial to discuss your individual medical condition, treatment history, and potential risks and benefits with your healthcare provider to make an informed decision. Your healthcare provider can provide personalized advice and guidance based on your specific situation.\n"
          ]
        }
      ]
    },
    {
      "cell_type": "code",
      "source": [
        "prompt = HumanMessage(\n",
        "    content=augment_prompt(\n",
        "        \"Should I take Epkinly or Polivy?\"\n",
        "    )\n",
        ")\n",
        "\n",
        "res = chat(messages + [prompt])\n",
        "print(res.content)"
      ],
      "metadata": {
        "colab": {
          "base_uri": "https://localhost:8080/"
        },
        "id": "0jnbKsDvCOD8",
        "outputId": "536b337a-e58f-4533-fea4-0a8516daf80d"
      },
      "execution_count": 39,
      "outputs": [
        {
          "output_type": "stream",
          "name": "stdout",
          "text": [
            "Based on the information provided in the contexts, if you are considering treatment for relapsed or refractory diffuse large B-cell lymphoma (DLBCL) or high-grade B-cell lymphoma (HGBCL) after 2 or more lines of systemic therapy, EPKINLY is indicated for these conditions. On the other hand, if you are looking for a treatment option for DLBCL with a combination therapy of R-CHP, POLIVY may be a potential option. It is important to discuss your specific medical condition and treatment options with your healthcare provider to determine the most suitable treatment for you.\n"
          ]
        }
      ]
    }
  ]
}