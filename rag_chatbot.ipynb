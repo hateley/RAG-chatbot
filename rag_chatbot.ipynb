{
  "nbformat": 4,
  "nbformat_minor": 0,
  "metadata": {
    "colab": {
      "provenance": [],
      "include_colab_link": true
    },
    "kernelspec": {
      "name": "python3",
      "display_name": "Python 3"
    },
    "language_info": {
      "name": "python"
    },
    "widgets": {
      "application/vnd.jupyter.widget-state+json": {
        "c469c264a0ce482d8f3c9efd2dc0fbb1": {
          "model_module": "@jupyter-widgets/controls",
          "model_name": "HBoxModel",
          "model_module_version": "1.5.0",
          "state": {
            "_dom_classes": [],
            "_model_module": "@jupyter-widgets/controls",
            "_model_module_version": "1.5.0",
            "_model_name": "HBoxModel",
            "_view_count": null,
            "_view_module": "@jupyter-widgets/controls",
            "_view_module_version": "1.5.0",
            "_view_name": "HBoxView",
            "box_style": "",
            "children": [
              "IPY_MODEL_351f746777be472488dc68b7ff2324e4",
              "IPY_MODEL_9dfbea903e524b16b7269041595cf481",
              "IPY_MODEL_1b0e4ca705ee4b51b86c52c854e6380c"
            ],
            "layout": "IPY_MODEL_da7451536a0e41f0b6f51925c9417735"
          }
        },
        "351f746777be472488dc68b7ff2324e4": {
          "model_module": "@jupyter-widgets/controls",
          "model_name": "HTMLModel",
          "model_module_version": "1.5.0",
          "state": {
            "_dom_classes": [],
            "_model_module": "@jupyter-widgets/controls",
            "_model_module_version": "1.5.0",
            "_model_name": "HTMLModel",
            "_view_count": null,
            "_view_module": "@jupyter-widgets/controls",
            "_view_module_version": "1.5.0",
            "_view_name": "HTMLView",
            "description": "",
            "description_tooltip": null,
            "layout": "IPY_MODEL_e41214a72e6c4d3ea20a7790703fde08",
            "placeholder": "​",
            "style": "IPY_MODEL_00b8fb582f154aa392fac436fa7605de",
            "value": "100%"
          }
        },
        "9dfbea903e524b16b7269041595cf481": {
          "model_module": "@jupyter-widgets/controls",
          "model_name": "FloatProgressModel",
          "model_module_version": "1.5.0",
          "state": {
            "_dom_classes": [],
            "_model_module": "@jupyter-widgets/controls",
            "_model_module_version": "1.5.0",
            "_model_name": "FloatProgressModel",
            "_view_count": null,
            "_view_module": "@jupyter-widgets/controls",
            "_view_module_version": "1.5.0",
            "_view_name": "ProgressView",
            "bar_style": "success",
            "description": "",
            "description_tooltip": null,
            "layout": "IPY_MODEL_542d560720e242e48adb91b8c9751b99",
            "max": 8,
            "min": 0,
            "orientation": "horizontal",
            "style": "IPY_MODEL_a0bcd66c6ffc448aa3ad8d69f46b9084",
            "value": 8
          }
        },
        "1b0e4ca705ee4b51b86c52c854e6380c": {
          "model_module": "@jupyter-widgets/controls",
          "model_name": "HTMLModel",
          "model_module_version": "1.5.0",
          "state": {
            "_dom_classes": [],
            "_model_module": "@jupyter-widgets/controls",
            "_model_module_version": "1.5.0",
            "_model_name": "HTMLModel",
            "_view_count": null,
            "_view_module": "@jupyter-widgets/controls",
            "_view_module_version": "1.5.0",
            "_view_name": "HTMLView",
            "description": "",
            "description_tooltip": null,
            "layout": "IPY_MODEL_44ee16a0db824022aa5d055bf6e7d8bf",
            "placeholder": "​",
            "style": "IPY_MODEL_1bfab6d77e8649129ed651c58a0a19e8",
            "value": " 8/8 [00:02&lt;00:00,  3.00it/s]"
          }
        },
        "da7451536a0e41f0b6f51925c9417735": {
          "model_module": "@jupyter-widgets/base",
          "model_name": "LayoutModel",
          "model_module_version": "1.2.0",
          "state": {
            "_model_module": "@jupyter-widgets/base",
            "_model_module_version": "1.2.0",
            "_model_name": "LayoutModel",
            "_view_count": null,
            "_view_module": "@jupyter-widgets/base",
            "_view_module_version": "1.2.0",
            "_view_name": "LayoutView",
            "align_content": null,
            "align_items": null,
            "align_self": null,
            "border": null,
            "bottom": null,
            "display": null,
            "flex": null,
            "flex_flow": null,
            "grid_area": null,
            "grid_auto_columns": null,
            "grid_auto_flow": null,
            "grid_auto_rows": null,
            "grid_column": null,
            "grid_gap": null,
            "grid_row": null,
            "grid_template_areas": null,
            "grid_template_columns": null,
            "grid_template_rows": null,
            "height": null,
            "justify_content": null,
            "justify_items": null,
            "left": null,
            "margin": null,
            "max_height": null,
            "max_width": null,
            "min_height": null,
            "min_width": null,
            "object_fit": null,
            "object_position": null,
            "order": null,
            "overflow": null,
            "overflow_x": null,
            "overflow_y": null,
            "padding": null,
            "right": null,
            "top": null,
            "visibility": null,
            "width": null
          }
        },
        "e41214a72e6c4d3ea20a7790703fde08": {
          "model_module": "@jupyter-widgets/base",
          "model_name": "LayoutModel",
          "model_module_version": "1.2.0",
          "state": {
            "_model_module": "@jupyter-widgets/base",
            "_model_module_version": "1.2.0",
            "_model_name": "LayoutModel",
            "_view_count": null,
            "_view_module": "@jupyter-widgets/base",
            "_view_module_version": "1.2.0",
            "_view_name": "LayoutView",
            "align_content": null,
            "align_items": null,
            "align_self": null,
            "border": null,
            "bottom": null,
            "display": null,
            "flex": null,
            "flex_flow": null,
            "grid_area": null,
            "grid_auto_columns": null,
            "grid_auto_flow": null,
            "grid_auto_rows": null,
            "grid_column": null,
            "grid_gap": null,
            "grid_row": null,
            "grid_template_areas": null,
            "grid_template_columns": null,
            "grid_template_rows": null,
            "height": null,
            "justify_content": null,
            "justify_items": null,
            "left": null,
            "margin": null,
            "max_height": null,
            "max_width": null,
            "min_height": null,
            "min_width": null,
            "object_fit": null,
            "object_position": null,
            "order": null,
            "overflow": null,
            "overflow_x": null,
            "overflow_y": null,
            "padding": null,
            "right": null,
            "top": null,
            "visibility": null,
            "width": null
          }
        },
        "00b8fb582f154aa392fac436fa7605de": {
          "model_module": "@jupyter-widgets/controls",
          "model_name": "DescriptionStyleModel",
          "model_module_version": "1.5.0",
          "state": {
            "_model_module": "@jupyter-widgets/controls",
            "_model_module_version": "1.5.0",
            "_model_name": "DescriptionStyleModel",
            "_view_count": null,
            "_view_module": "@jupyter-widgets/base",
            "_view_module_version": "1.2.0",
            "_view_name": "StyleView",
            "description_width": ""
          }
        },
        "542d560720e242e48adb91b8c9751b99": {
          "model_module": "@jupyter-widgets/base",
          "model_name": "LayoutModel",
          "model_module_version": "1.2.0",
          "state": {
            "_model_module": "@jupyter-widgets/base",
            "_model_module_version": "1.2.0",
            "_model_name": "LayoutModel",
            "_view_count": null,
            "_view_module": "@jupyter-widgets/base",
            "_view_module_version": "1.2.0",
            "_view_name": "LayoutView",
            "align_content": null,
            "align_items": null,
            "align_self": null,
            "border": null,
            "bottom": null,
            "display": null,
            "flex": null,
            "flex_flow": null,
            "grid_area": null,
            "grid_auto_columns": null,
            "grid_auto_flow": null,
            "grid_auto_rows": null,
            "grid_column": null,
            "grid_gap": null,
            "grid_row": null,
            "grid_template_areas": null,
            "grid_template_columns": null,
            "grid_template_rows": null,
            "height": null,
            "justify_content": null,
            "justify_items": null,
            "left": null,
            "margin": null,
            "max_height": null,
            "max_width": null,
            "min_height": null,
            "min_width": null,
            "object_fit": null,
            "object_position": null,
            "order": null,
            "overflow": null,
            "overflow_x": null,
            "overflow_y": null,
            "padding": null,
            "right": null,
            "top": null,
            "visibility": null,
            "width": null
          }
        },
        "a0bcd66c6ffc448aa3ad8d69f46b9084": {
          "model_module": "@jupyter-widgets/controls",
          "model_name": "ProgressStyleModel",
          "model_module_version": "1.5.0",
          "state": {
            "_model_module": "@jupyter-widgets/controls",
            "_model_module_version": "1.5.0",
            "_model_name": "ProgressStyleModel",
            "_view_count": null,
            "_view_module": "@jupyter-widgets/base",
            "_view_module_version": "1.2.0",
            "_view_name": "StyleView",
            "bar_color": null,
            "description_width": ""
          }
        },
        "44ee16a0db824022aa5d055bf6e7d8bf": {
          "model_module": "@jupyter-widgets/base",
          "model_name": "LayoutModel",
          "model_module_version": "1.2.0",
          "state": {
            "_model_module": "@jupyter-widgets/base",
            "_model_module_version": "1.2.0",
            "_model_name": "LayoutModel",
            "_view_count": null,
            "_view_module": "@jupyter-widgets/base",
            "_view_module_version": "1.2.0",
            "_view_name": "LayoutView",
            "align_content": null,
            "align_items": null,
            "align_self": null,
            "border": null,
            "bottom": null,
            "display": null,
            "flex": null,
            "flex_flow": null,
            "grid_area": null,
            "grid_auto_columns": null,
            "grid_auto_flow": null,
            "grid_auto_rows": null,
            "grid_column": null,
            "grid_gap": null,
            "grid_row": null,
            "grid_template_areas": null,
            "grid_template_columns": null,
            "grid_template_rows": null,
            "height": null,
            "justify_content": null,
            "justify_items": null,
            "left": null,
            "margin": null,
            "max_height": null,
            "max_width": null,
            "min_height": null,
            "min_width": null,
            "object_fit": null,
            "object_position": null,
            "order": null,
            "overflow": null,
            "overflow_x": null,
            "overflow_y": null,
            "padding": null,
            "right": null,
            "top": null,
            "visibility": null,
            "width": null
          }
        },
        "1bfab6d77e8649129ed651c58a0a19e8": {
          "model_module": "@jupyter-widgets/controls",
          "model_name": "DescriptionStyleModel",
          "model_module_version": "1.5.0",
          "state": {
            "_model_module": "@jupyter-widgets/controls",
            "_model_module_version": "1.5.0",
            "_model_name": "DescriptionStyleModel",
            "_view_count": null,
            "_view_module": "@jupyter-widgets/base",
            "_view_module_version": "1.2.0",
            "_view_name": "StyleView",
            "description_width": ""
          }
        },
        "24544a465e7542c9938884435174e8c5": {
          "model_module": "@jupyter-widgets/controls",
          "model_name": "HBoxModel",
          "model_module_version": "1.5.0",
          "state": {
            "_dom_classes": [],
            "_model_module": "@jupyter-widgets/controls",
            "_model_module_version": "1.5.0",
            "_model_name": "HBoxModel",
            "_view_count": null,
            "_view_module": "@jupyter-widgets/controls",
            "_view_module_version": "1.5.0",
            "_view_name": "HBoxView",
            "box_style": "",
            "children": [
              "IPY_MODEL_5c17ecbc9fe74f96aca883954b3b55b5",
              "IPY_MODEL_8b2bbc1a53fa411aa7d755b08cf3e181",
              "IPY_MODEL_4db7a84f7b5a4a8da3bce1bbe8b9281b"
            ],
            "layout": "IPY_MODEL_22b855668a4a476fa1ae996dd7dadb5c"
          }
        },
        "5c17ecbc9fe74f96aca883954b3b55b5": {
          "model_module": "@jupyter-widgets/controls",
          "model_name": "HTMLModel",
          "model_module_version": "1.5.0",
          "state": {
            "_dom_classes": [],
            "_model_module": "@jupyter-widgets/controls",
            "_model_module_version": "1.5.0",
            "_model_name": "HTMLModel",
            "_view_count": null,
            "_view_module": "@jupyter-widgets/controls",
            "_view_module_version": "1.5.0",
            "_view_name": "HTMLView",
            "description": "",
            "description_tooltip": null,
            "layout": "IPY_MODEL_6d1ff3d86b3a4f62a22b9fe03d0fed8f",
            "placeholder": "​",
            "style": "IPY_MODEL_bdbe6b21cbe547808852692495157a95",
            "value": "100%"
          }
        },
        "8b2bbc1a53fa411aa7d755b08cf3e181": {
          "model_module": "@jupyter-widgets/controls",
          "model_name": "FloatProgressModel",
          "model_module_version": "1.5.0",
          "state": {
            "_dom_classes": [],
            "_model_module": "@jupyter-widgets/controls",
            "_model_module_version": "1.5.0",
            "_model_name": "FloatProgressModel",
            "_view_count": null,
            "_view_module": "@jupyter-widgets/controls",
            "_view_module_version": "1.5.0",
            "_view_name": "ProgressView",
            "bar_style": "success",
            "description": "",
            "description_tooltip": null,
            "layout": "IPY_MODEL_00c8292d75ba45699784a78435133ace",
            "max": 2,
            "min": 0,
            "orientation": "horizontal",
            "style": "IPY_MODEL_927eabca8cdd47a8ac704d1d37cbe201",
            "value": 2
          }
        },
        "4db7a84f7b5a4a8da3bce1bbe8b9281b": {
          "model_module": "@jupyter-widgets/controls",
          "model_name": "HTMLModel",
          "model_module_version": "1.5.0",
          "state": {
            "_dom_classes": [],
            "_model_module": "@jupyter-widgets/controls",
            "_model_module_version": "1.5.0",
            "_model_name": "HTMLModel",
            "_view_count": null,
            "_view_module": "@jupyter-widgets/controls",
            "_view_module_version": "1.5.0",
            "_view_name": "HTMLView",
            "description": "",
            "description_tooltip": null,
            "layout": "IPY_MODEL_04190553a5284466984ae22ce112d30d",
            "placeholder": "​",
            "style": "IPY_MODEL_067e0a2423204f19b19b7f5a39bc3a4a",
            "value": " 2/2 [00:06&lt;00:00,  3.16s/it]"
          }
        },
        "22b855668a4a476fa1ae996dd7dadb5c": {
          "model_module": "@jupyter-widgets/base",
          "model_name": "LayoutModel",
          "model_module_version": "1.2.0",
          "state": {
            "_model_module": "@jupyter-widgets/base",
            "_model_module_version": "1.2.0",
            "_model_name": "LayoutModel",
            "_view_count": null,
            "_view_module": "@jupyter-widgets/base",
            "_view_module_version": "1.2.0",
            "_view_name": "LayoutView",
            "align_content": null,
            "align_items": null,
            "align_self": null,
            "border": null,
            "bottom": null,
            "display": null,
            "flex": null,
            "flex_flow": null,
            "grid_area": null,
            "grid_auto_columns": null,
            "grid_auto_flow": null,
            "grid_auto_rows": null,
            "grid_column": null,
            "grid_gap": null,
            "grid_row": null,
            "grid_template_areas": null,
            "grid_template_columns": null,
            "grid_template_rows": null,
            "height": null,
            "justify_content": null,
            "justify_items": null,
            "left": null,
            "margin": null,
            "max_height": null,
            "max_width": null,
            "min_height": null,
            "min_width": null,
            "object_fit": null,
            "object_position": null,
            "order": null,
            "overflow": null,
            "overflow_x": null,
            "overflow_y": null,
            "padding": null,
            "right": null,
            "top": null,
            "visibility": null,
            "width": null
          }
        },
        "6d1ff3d86b3a4f62a22b9fe03d0fed8f": {
          "model_module": "@jupyter-widgets/base",
          "model_name": "LayoutModel",
          "model_module_version": "1.2.0",
          "state": {
            "_model_module": "@jupyter-widgets/base",
            "_model_module_version": "1.2.0",
            "_model_name": "LayoutModel",
            "_view_count": null,
            "_view_module": "@jupyter-widgets/base",
            "_view_module_version": "1.2.0",
            "_view_name": "LayoutView",
            "align_content": null,
            "align_items": null,
            "align_self": null,
            "border": null,
            "bottom": null,
            "display": null,
            "flex": null,
            "flex_flow": null,
            "grid_area": null,
            "grid_auto_columns": null,
            "grid_auto_flow": null,
            "grid_auto_rows": null,
            "grid_column": null,
            "grid_gap": null,
            "grid_row": null,
            "grid_template_areas": null,
            "grid_template_columns": null,
            "grid_template_rows": null,
            "height": null,
            "justify_content": null,
            "justify_items": null,
            "left": null,
            "margin": null,
            "max_height": null,
            "max_width": null,
            "min_height": null,
            "min_width": null,
            "object_fit": null,
            "object_position": null,
            "order": null,
            "overflow": null,
            "overflow_x": null,
            "overflow_y": null,
            "padding": null,
            "right": null,
            "top": null,
            "visibility": null,
            "width": null
          }
        },
        "bdbe6b21cbe547808852692495157a95": {
          "model_module": "@jupyter-widgets/controls",
          "model_name": "DescriptionStyleModel",
          "model_module_version": "1.5.0",
          "state": {
            "_model_module": "@jupyter-widgets/controls",
            "_model_module_version": "1.5.0",
            "_model_name": "DescriptionStyleModel",
            "_view_count": null,
            "_view_module": "@jupyter-widgets/base",
            "_view_module_version": "1.2.0",
            "_view_name": "StyleView",
            "description_width": ""
          }
        },
        "00c8292d75ba45699784a78435133ace": {
          "model_module": "@jupyter-widgets/base",
          "model_name": "LayoutModel",
          "model_module_version": "1.2.0",
          "state": {
            "_model_module": "@jupyter-widgets/base",
            "_model_module_version": "1.2.0",
            "_model_name": "LayoutModel",
            "_view_count": null,
            "_view_module": "@jupyter-widgets/base",
            "_view_module_version": "1.2.0",
            "_view_name": "LayoutView",
            "align_content": null,
            "align_items": null,
            "align_self": null,
            "border": null,
            "bottom": null,
            "display": null,
            "flex": null,
            "flex_flow": null,
            "grid_area": null,
            "grid_auto_columns": null,
            "grid_auto_flow": null,
            "grid_auto_rows": null,
            "grid_column": null,
            "grid_gap": null,
            "grid_row": null,
            "grid_template_areas": null,
            "grid_template_columns": null,
            "grid_template_rows": null,
            "height": null,
            "justify_content": null,
            "justify_items": null,
            "left": null,
            "margin": null,
            "max_height": null,
            "max_width": null,
            "min_height": null,
            "min_width": null,
            "object_fit": null,
            "object_position": null,
            "order": null,
            "overflow": null,
            "overflow_x": null,
            "overflow_y": null,
            "padding": null,
            "right": null,
            "top": null,
            "visibility": null,
            "width": null
          }
        },
        "927eabca8cdd47a8ac704d1d37cbe201": {
          "model_module": "@jupyter-widgets/controls",
          "model_name": "ProgressStyleModel",
          "model_module_version": "1.5.0",
          "state": {
            "_model_module": "@jupyter-widgets/controls",
            "_model_module_version": "1.5.0",
            "_model_name": "ProgressStyleModel",
            "_view_count": null,
            "_view_module": "@jupyter-widgets/base",
            "_view_module_version": "1.2.0",
            "_view_name": "StyleView",
            "bar_color": null,
            "description_width": ""
          }
        },
        "04190553a5284466984ae22ce112d30d": {
          "model_module": "@jupyter-widgets/base",
          "model_name": "LayoutModel",
          "model_module_version": "1.2.0",
          "state": {
            "_model_module": "@jupyter-widgets/base",
            "_model_module_version": "1.2.0",
            "_model_name": "LayoutModel",
            "_view_count": null,
            "_view_module": "@jupyter-widgets/base",
            "_view_module_version": "1.2.0",
            "_view_name": "LayoutView",
            "align_content": null,
            "align_items": null,
            "align_self": null,
            "border": null,
            "bottom": null,
            "display": null,
            "flex": null,
            "flex_flow": null,
            "grid_area": null,
            "grid_auto_columns": null,
            "grid_auto_flow": null,
            "grid_auto_rows": null,
            "grid_column": null,
            "grid_gap": null,
            "grid_row": null,
            "grid_template_areas": null,
            "grid_template_columns": null,
            "grid_template_rows": null,
            "height": null,
            "justify_content": null,
            "justify_items": null,
            "left": null,
            "margin": null,
            "max_height": null,
            "max_width": null,
            "min_height": null,
            "min_width": null,
            "object_fit": null,
            "object_position": null,
            "order": null,
            "overflow": null,
            "overflow_x": null,
            "overflow_y": null,
            "padding": null,
            "right": null,
            "top": null,
            "visibility": null,
            "width": null
          }
        },
        "067e0a2423204f19b19b7f5a39bc3a4a": {
          "model_module": "@jupyter-widgets/controls",
          "model_name": "DescriptionStyleModel",
          "model_module_version": "1.5.0",
          "state": {
            "_model_module": "@jupyter-widgets/controls",
            "_model_module_version": "1.5.0",
            "_model_name": "DescriptionStyleModel",
            "_view_count": null,
            "_view_module": "@jupyter-widgets/base",
            "_view_module_version": "1.2.0",
            "_view_name": "StyleView",
            "description_width": ""
          }
        }
      }
    }
  },
  "cells": [
    {
      "cell_type": "markdown",
      "metadata": {
        "id": "view-in-github",
        "colab_type": "text"
      },
      "source": [
        "<a href=\"https://colab.research.google.com/github/hateley/RAG-chatbot/blob/main/rag_chatbot.ipynb\" target=\"_parent\"><img src=\"https://colab.research.google.com/assets/colab-badge.svg\" alt=\"Open In Colab\"/></a>"
      ]
    },
    {
      "cell_type": "markdown",
      "source": [
        "## Question and Answer System using RAG\n",
        "**Author**: Shannon Hateley, PhD  \n",
        "**Date**: July 31, 2024\n",
        "\n",
        "<ins>Overview</ins>  \n",
        "Building a Question and Answer system that uses RAG from drug trail information on Epkinly and Polivy. This system relies primarily on LangChain."
      ],
      "metadata": {
        "id": "0agTTRe0H3Km"
      }
    },
    {
      "cell_type": "markdown",
      "source": [
        "### Install libraries\n",
        "\n",
        "**We need:**\n",
        "* **langchain**: This is a library for GenAI. We'll use it to chain together different language models and components for our chatbot.\n",
        "* **openai**: This is the official OpenAI Python client. We'll use it to interact with the OpenAI API and generate responses for our chatbot.\n",
        "* **pinecone-client**: This is the official Pinecone Python client. We'll use it to interact with the Pinecone API and store our chatbot's knowledge base in a vector database.\n",
        "* **other**: Various data wrangling, visualizing, and text processing libraries"
      ],
      "metadata": {
        "id": "bK2HuJjiIT1i"
      }
    },
    {
      "cell_type": "code",
      "source": [
        "# install libraries\n",
        "\n",
        "!pip install -qU \\\n",
        "    langchain==0.0.354 \\\n",
        "    openai==1.6.1 \\\n",
        "    pinecone-client==3.1.0 \\\n",
        "    tiktoken==0.5.2 \\\n",
        "    matplotlib \\\n",
        "    seaborn \\\n",
        "    pandas \\\n",
        "    tqdm"
      ],
      "metadata": {
        "id": "bXkxrcG6H20E"
      },
      "execution_count": 188,
      "outputs": []
    },
    {
      "cell_type": "markdown",
      "source": [
        "## Make a simple chatbot first"
      ],
      "metadata": {
        "id": "R7vl3irqJ_AC"
      }
    },
    {
      "cell_type": "code",
      "source": [
        "#initialize the ChatOpenAI object\n",
        "\n",
        "import os\n",
        "from langchain.chat_models import ChatOpenAI\n",
        "from google.colab import userdata\n",
        "\n",
        "chat = ChatOpenAI(\n",
        "    openai_api_key=userdata.get('testkey'),\n",
        "    model='gpt-3.5-turbo'\n",
        ")"
      ],
      "metadata": {
        "id": "sCeWN6DjIIEY"
      },
      "execution_count": null,
      "outputs": []
    },
    {
      "cell_type": "code",
      "source": [
        "from langchain.schema import (\n",
        "    SystemMessage,\n",
        "    HumanMessage,\n",
        "    AIMessage\n",
        ")\n",
        "\n",
        "messages = [\n",
        "    SystemMessage(content=\"You are a helpful assistant.\"),\n",
        "    HumanMessage(content=\"Hi AI, how are you today?\"),\n",
        "    AIMessage(content=\"I'm great thank you. How can I help you?\"),\n",
        "    HumanMessage(content=\"I'd like to understand string theory.\")\n",
        "]"
      ],
      "metadata": {
        "id": "-DdvsFQQJyQ3"
      },
      "execution_count": null,
      "outputs": []
    },
    {
      "cell_type": "code",
      "source": [
        "#res = chat(messages)\n",
        "print(res.content)"
      ],
      "metadata": {
        "colab": {
          "base_uri": "https://localhost:8080/"
        },
        "id": "ZRGnAEkCMu6k",
        "outputId": "68cd20c1-6362-4a9f-87b4-d5d01050f345"
      },
      "execution_count": null,
      "outputs": [
        {
          "output_type": "stream",
          "name": "stdout",
          "text": [
            "String theory is a theoretical framework in physics that attempts to reconcile quantum mechanics and general relativity. It posits that the fundamental building blocks of the universe are not point-like particles, but rather tiny, vibrating strings. These strings can give rise to different particles depending on their vibrational patterns.\n",
            "\n",
            "String theory suggests that there are multiple dimensions beyond the familiar three spatial dimensions and one time dimension. The theory also proposes the existence of different vibrational modes of the strings, which correspond to different particles and forces in the universe.\n",
            "\n",
            "One of the key ideas in string theory is the concept of supersymmetry, which posits a symmetry between particles with integer spin (bosons) and particles with half-integer spin (fermions). Supersymmetry is believed to help resolve some of the issues in particle physics, such as the hierarchy problem and unifying the fundamental forces of nature.\n",
            "\n",
            "String theory has generated a lot of interest and research in the physics community, but it is still a highly speculative and complex area of study. Researchers continue to work on developing the theory further and exploring its implications for our understanding of the universe.\n"
          ]
        }
      ]
    },
    {
      "cell_type": "code",
      "source": [
        "# add history so we can continue the conversation\n",
        "\n",
        "# add latest AI response to messages\n",
        "messages.append(res)\n",
        "\n",
        "# now create a new user prompt\n",
        "prompt = HumanMessage(\n",
        "    content=\"Why do physicists believe it can produce a 'unified theory'?\"\n",
        ")\n",
        "# add to messages\n",
        "messages.append(prompt)\n",
        "\n",
        "# send to chat-gpt\n",
        "res = chat(messages)\n",
        "\n",
        "print(res.content)"
      ],
      "metadata": {
        "colab": {
          "base_uri": "https://localhost:8080/"
        },
        "id": "4J5KgX11NSWa",
        "outputId": "0637dacb-5cb8-45b6-f887-47d94de73ef0"
      },
      "execution_count": null,
      "outputs": [
        {
          "output_type": "stream",
          "name": "stdout",
          "text": [
            "Physicists believe that string theory has the potential to produce a unified theory because it has the ability to incorporate all of the fundamental forces of nature (gravity, electromagnetism, weak nuclear force, and strong nuclear force) within a single framework. In traditional particle physics, these forces are described by different theories (such as quantum field theory for the Standard Model and general relativity for gravity) that do not easily reconcile with each other.\n",
            "\n",
            "String theory, on the other hand, offers a more comprehensive and consistent framework that can potentially describe all of these forces in a unified manner. By treating particles as vibrating strings in higher-dimensional spacetime, string theory can naturally incorporate gravity along with the other forces. This suggests that all forces and particles in the universe may emerge from a single underlying theory.\n",
            "\n",
            "Additionally, string theory provides a way to reconcile quantum mechanics with general relativity, which has been a long-standing challenge in theoretical physics. By describing the fundamental building blocks of the universe as strings rather than point-like particles, string theory offers a more fundamental and mathematically elegant approach to understanding the nature of reality.\n",
            "\n",
            "While string theory has not yet been confirmed by experimental evidence, its mathematical consistency and potential to unify the fundamental forces of nature make it an appealing candidate for a unified theory of physics. Physicists continue to explore and develop string theory in the hopes of uncovering new insights into the nature of the universe.\n"
          ]
        }
      ]
    },
    {
      "cell_type": "code",
      "source": [
        "# right now it doesn't know about the info we want to talk about\n",
        "\n",
        "# add latest AI response to messages\n",
        "messages.append(res)\n",
        "\n",
        "# now create a new user prompt\n",
        "prompt = HumanMessage(\n",
        "    content=\"What were the results of the EPCORE NHL-1 trial?\"\n",
        ")\n",
        "# add to messages\n",
        "messages.append(prompt)\n",
        "\n",
        "# send to OpenAI\n",
        "res = chat(messages)\n",
        "\n",
        "messages.append(res)"
      ],
      "metadata": {
        "id": "l3T45TsXNbwS"
      },
      "execution_count": null,
      "outputs": []
    },
    {
      "cell_type": "code",
      "source": [
        "print(res.content)"
      ],
      "metadata": {
        "colab": {
          "base_uri": "https://localhost:8080/"
        },
        "id": "E2JFVwcLNnD9",
        "outputId": "42708c97-9c5c-4260-dac8-c57d71018612"
      },
      "execution_count": null,
      "outputs": [
        {
          "output_type": "stream",
          "name": "stdout",
          "text": [
            "The EPCORE NHL-1 trial was a clinical trial evaluating the safety and efficacy of a novel treatment for patients with non-Hodgkin lymphoma (NHL). Unfortunately, as of my last update, I do not have specific information on the results of the EPCORE NHL-1 trial. Clinical trial results are typically published in scientific journals or presented at medical conferences once the study is completed.\n",
            "\n",
            "If you are interested in the results of the EPCORE NHL-1 trial, I recommend checking clinical trial registries, medical journals, or contacting the researchers involved in the study for more information. Keep in mind that the results of clinical trials can have important implications for patient care and future research in the field of oncology.\n"
          ]
        }
      ]
    },
    {
      "cell_type": "markdown",
      "source": [
        "## Import data about the clinical trials"
      ],
      "metadata": {
        "id": "Vryy2SL8N4ig"
      }
    },
    {
      "cell_type": "code",
      "source": [
        "import pandas as pd\n",
        "\n",
        "df = pd.read_csv(\"/content/scraped.tsv\", sep='\\t')\n",
        "df.columns"
      ],
      "metadata": {
        "colab": {
          "base_uri": "https://localhost:8080/"
        },
        "id": "bYwXsvLFkul7",
        "outputId": "422e321d-b778-41ed-ca6a-286c748d3820"
      },
      "execution_count": null,
      "outputs": [
        {
          "output_type": "execute_result",
          "data": {
            "text/plain": [
              "Index(['fname', 'text'], dtype='object')"
            ]
          },
          "metadata": {},
          "execution_count": 99
        }
      ]
    },
    {
      "cell_type": "code",
      "source": [
        "from langchain.document_loaders import DataFrameLoader\n",
        "\n",
        "loader = DataFrameLoader(\n",
        "    df,\n",
        "    page_content_column=\"text\"\n",
        ")\n",
        "docs = loader.load()"
      ],
      "metadata": {
        "id": "3fXPK6u5gVbs"
      },
      "execution_count": null,
      "outputs": []
    },
    {
      "cell_type": "code",
      "source": [
        "len(docs)"
      ],
      "metadata": {
        "colab": {
          "base_uri": "https://localhost:8080/"
        },
        "id": "ZekB3swrgb48",
        "outputId": "64221f7e-1395-41b5-fd28-5eb67db1f873"
      },
      "execution_count": null,
      "outputs": [
        {
          "output_type": "execute_result",
          "data": {
            "text/plain": [
              "8"
            ]
          },
          "metadata": {},
          "execution_count": 147
        }
      ]
    },
    {
      "cell_type": "code",
      "source": [
        "print(docs[0].page_content)"
      ],
      "metadata": {
        "colab": {
          "base_uri": "https://localhost:8080/"
        },
        "id": "L_zRtUC1g0uH",
        "outputId": "e5cd5064-2e03-4e7f-990c-3b33ed0b723c"
      },
      "execution_count": null,
      "outputs": [
        {
          "output_type": "stream",
          "name": "stdout",
          "text": [
            "polivy_summary.txt.  POLIVY® (polatuzumab vedotin-piiq) Safety Profile             For Patients and Caregivers         MENU          Order Practice Materials       Order Practice Materials        Prescribing Information        Prescribing Information        Contact a Representative        Contact a Representative        Safety       Safety        3L DLBCL Indication       3L DLBCL Indication    Home  About POLIVY  Unmet Need in DLBCL How POLIVY Is Thought to Work  Efficacy  POLARIX Trial POLARIX Trial Results  Safety  POLIVY Side Effects Important Safety Information  Dosing & Administration  Preparation & Storage POLIVY Dosing Administering POLIVY Dose Modifications  Resources  Printable Resources Helpful Links for Your Patients Helpful Resources for Your Practice Practice Forms & Documents  Financial Support  Financial Assistance Options Eligibility & Enrollment Financial Support FAQs   Order Practice Materials Prescribing Information  Contact a Representative  Safety 3L DLBCL Indication  For Patients and Caregivers      POLIVY® Safety     Quick Links   Adverse Reactions  Dose Reduction & Discontinuation Rates  Drug Interactions  The majority of adverse reactions ≥10% were generally comparable across treatment arms1,* *Adverse reactions with ≥5% difference in all grades or grade ≥3 include (POLIVY + R-CHP vs R-CHOP): diarrhea (all grades: 31% vs 20%; grade ≥3: 3.9% vs 1.8%), febrile neutropenia (all grades and grade ≥3: 15% vs 9%), and nausea (all grades: 42% vs 37%; grade ≥3: 1.1% vs 0.5%). Most common adverse reactions in ≥20% of patients   The rates of peripheral neuropathy between the POLIVY + R-CHP vs R-CHOP arms were 53% vs 54%, respectively1 The rates of febrile neutropenia between the POLIVY + R-CHP vs R-CHOP arms were 15% and 9% respectively (for all grades and grade ≥ 3)1 The rates of grade 3-4 infections were comparable between POLIVY + R-CHP vs R-CHOP arms (14% vs 11%)19 Serious ARs occurred in 34% of patients who received POLIVY + R-CHP vs 30.6% of patients who received R-CHOP1,15 Serious ARs in ≥5% of patients who received POLIVY + R-CHP included febrile neutropenia and pneumonia1 Fatal ARs within 90 days of last treatment occurred in 3% of patients who received POLIVY + R-CHP vs 2.3% of patients who received R-CHOP. These were primarily from infection, including pneumonia (0.9% and 0.7%, respectively) and sepsis (0.2% and 0.7%, respectively) in the POLIVY + R-CHP vs R-CHOP arms1,15 New or worsening Grade 3 to 4 laboratory abnormalities in ≥10% of patients were lymphopenia, neutropenia, hyperuricemia, and anemia1 Select adverse reactions occurring in ≥10% of patients treated with POLIVY + R-CHP in POLARIX1    POLIVY + R-CHP (n=435) R-CHOP (n=438)   All Grades (%) Grade 3-4 (%) All Grades (%) Grade 3-4 (%) Blood and lymphatic system disorders† Lymphopenia 80 44 77 44 Anemia 68 14 67 11 Neutropenia 60 39 60 42 Thrombocytopenia 32 8 33 6 Febrile neutropenia‡ 15 15 9 9 Investigations† Creatinine increased 66 0.7 64 0.9 Aspartate aminotransferase increased 26 0.7 23 1.1 Alanine aminotransferase increased 25 1.4 27 0.5 Alkaline phosphatase increased 23 0 22 0.5 Uric acid increased 19 18 17 16 Weight decreased 13 0.9 12 0.2 Nervous system disorders Peripheral neuropathy§,‖ 53 1.6 54 1.1 Altered taste 14 0 16 0 Headache 13 0.2 14 0.9 Gastrointestinal disorders Nausea 42 1.1 37 0.5 Diarrhea 31 3.9 20 1.8 Constipation 29 1.1 29 0.2 Mucositis¶ 22 1.4 19 0.5 Abdominal pain# 16 1.1 14 1.6 Vomiting 15 1.1 14 0.7 General disorders Fatigue 37 2.5 38 3.0 Pyrexia 16 1.4 13 0 Edema** 14 0.5 11 0.2 Infusion-related reaction†† 13 1.1 16 1.6 Skin and subcutaneous tissue disorders Alopecia 24 0 24 0.2 Rash‡‡ 13 0.7 11 0 Musculoskeletal disorders Musculoskeletal pain§§ 19 0.5 21 1.8 Infections Upper respiratory tract infection‖‖ 17 0.5 16 0.5 Metabolism and nutrition disorders Decreased Appetite 17 1.1 14 0.7 Respiratory disorders Cough 15 0 14 0 Dyspnea 13 0.9 10 0.9      This table includes a combination of grouped and ungrouped terms. Events were graded using NCI CTCAE version 4.0. †Laboratory values are based on integrated analysis of laboratory and adverse reaction data. Reported investigations exclude electrolytes. ‡Febrile neutropenia includes febrile neutropenia, febrile bone marrow aplasia, and neutropenic sepsis. §At last assessment, peripheral neuropathy was unresolved in 42% in the POLIVY + R-CHP arm and in 33%in the R-CHOP arm. ‖Peripheral neuropathy includes all terms containing “neuropathy”, neuralgia, dysesthesia, paresthesia, hypoesthesia, peroneal nerve palsy, hypotonia, hyporeflexia, neuromyopathy, and hyperesthesia. ¶Mucositis includes stomatitis, oropharyngeal pain, mucosal inflammation, mouth ulceration, oral pain, oropharyngeal discomfort, aphthous ulcer, odynophagia, oral discomfort, tongue blistering, and tongue ulceration. #Abdominal pain includes abdominal pain, abdominal discomfort, gastrointestinal pain, epigastric discomfort, and related terms. **Edema includes edema, face edema, swelling face, edema peripheral, fluid overload, fluid retention, pulmonary edema, peripheral swelling, and swelling. ††Infusion related reaction is reflective of the combination regimen due to same-day administration. ‡‡Rash includes rash, dermatitis, and related terms. §§Musculoskeletal pain includes musculoskeletal pain, back pain, musculoskeletal chest pain, neck pain, myalgia, and bone pain. ‖‖Upper respiratory tract infection incudes sinusitis, laryngitis, pharyngitis, nasopharyngitis, rhinitis, and specific infections. Other clinically relevant adverse reactions in <10% of patients who received POLIVY + R-CHP included pneumonia, herpesvirus infection, sepsis, cytomegalovirus infection, tumor lysis syndrome, renal insufficiency, and pneumonitis.  Dose reductions & discontinuation rates with POLIVY + R-CHP vs R-CHOP1,15,19    POLIVY (n=435) Vincristine (n=438) ARs leading to dose reduction 6% 10.3% ARs leading to permanent discontinuation 4.4% 5% ARs leading to dose interruption 18% 15.3%     More patients received 6 cycles of POLIVY vs vincristine (92% vs 89%)15    Drug interactions Strong CYP3A inhibitors Concomitant use with a strong CYP3A4 inhibitor may increase unconjugated MMAE AUC, which may increase POLIVY toxicities. Monitor patients for signs of toxicity Strong CYP3A inducers Concomitant use with a strong CYP3A4 inducer may decrease unconjugated MMAE AUC AR = adverse reaction; AUC = area under the construction-time curve; CYP3A = cytochrome P450 family 3 subfamily A; NCI CTCAE = National Cancer Institute Common Terminology Criteria for Adverse Events.     Order Practice Materials     Order now      Contact a Representative     Contact Us        NEXT: Important Safety Information           Important Safety Information and Indication       Back to Top    Indication POLIVY in combination with a rituximab product, cyclophosphamide, doxorubicin, and prednisone (R-CHP) is indicated for the treatment of adult patients who have previously untreated diffuse large B-cell lymphoma (DLBCL), not otherwise specified (NOS) or high-grade B-cell lymphoma (HGBL) and who have an International Prognostic Index score of 2 or greater. POLIVY in combination with bendamustine and a rituximab product (BR) is indicated for the treatment of adult patients with relapsed or refractory DLBCL, NOS, after at least two prior therapies.  Important Safety Information Peripheral Neuropathy POLIVY can cause severe peripheral neuropathy. Peripheral neuropathy occurs as early as the first cycle of treatment and is cumulative. POLIVY may exacerbate preexisting peripheral neuropathy. In POLARIX, of 435 patients treated with POLIVY plus R-CHP, 53% reported new or worsening peripheral neuropathy, with a median time to onset of 2.3 months. Peripheral neuropathy was Grade 1 in 39% of patients, Grade 2 in 12%, and Grade 3 in 1.6%. Peripheral neuropathy resulted in dose reduction in 4% of treated patients and treatment discontinuation in 0.7%. Among patients with peripheral neuropathy after POLIVY, 58% reported resolution after a median of 4 months. In Study GO29365, of 173 patients treated with POLIVY, 40% reported new or worsening peripheral neuropathy, with a median time to onset of 2.1 months. Peripheral neuropathy was Grade 1 in 26% of patients, Grade 2 in 12%, and Grade 3 in 2.3%. Peripheral neuropathy resulted in POLIVY dose reduction in 2.9% of treated patients, dose delay in 1.2%, and permanent discontinuation in 2.9%. Sixty-five percent of patients reported improvement or resolution of peripheral neuropathy after a median of 1 month, and 48% reported complete resolution. The peripheral neuropathy is predominantly sensory; however, motor and sensorimotor peripheral neuropathy also occur. Monitor for symptoms of peripheral neuropathy such as hypoesthesia, hyperesthesia, paresthesia, dysesthesia, neuropathic pain, burning sensation, weakness, or gait disturbance. Patients experiencing new or worsening peripheral neuropathy may require a delay, dose reduction, or discontinuation of POLIVY. Infusion-Related Reactions POLIVY can cause severe infusion reactions. Delayed infusion-related reactions as late as 24 hours after receiving POLIVY have occurred. With premedication, 13% of patients (58/435) in POLARIX reported infusion-related reactions after the administration of POLIVY plus R-CHP. The reactions were Grade 1 in 4.4% of patients, Grade 2 in 8%, and Grade 3 in 1.1%. With premedication, 7% of patients (12/173) in Study GO29365 reported infusion-related reactions after the administration of POLIVY. The reactions were Grade 1 in 4.6% of patients, Grade 2 in 1.7%, and Grade 3 in 0.6%. Symptoms occurring in ≥1% of patients included chills, dyspnea, pyrexia, pruritus, rash, and chest discomfort. Administer an antihistamine and antipyretic prior to the administration of POLIVY, and monitor patients closely throughout the infusion. If an infusion-related reaction occurs, interrupt the infusion and institute appropriate medical management. Myelosuppression Treatment with POLIVY can cause serious or severe myelosuppression, including neutropenia, thrombocytopenia, and anemia. In POLARIX, 90% of patients treated with POLIVY plus R-CHP had primary prophylaxis with granulocyte colony-stimulating factor (G-CSF). Grade 3–4 hematologic adverse reactions included lymphopenia (44%), neutropenia (39%), febrile neutropenia (15%), anemia (14%), and thrombocytopenia (8%). In Study GO29365, in patients treated with POLIVY plus BR (n = 45), 42% received primary prophylaxis with G-CSF. Grade 3 or higher hematologic adverse reactions included neutropenia (42%), thrombocytopenia (40%), anemia (24%), lymphopenia (13%), and febrile neutropenia (11%). Grade 4 hematologic adverse reactions included neutropenia (24%), thrombocytopenia (16%), lymphopenia (9%), and febrile neutropenia (4.4%). Cytopenias were the most common reason for treatment discontinuation (18% of all patients). Monitor complete blood counts throughout treatment. Cytopenias may require a delay, dose reduction, or discontinuation of POLIVY. Administer prophylactic G-CSF for neutropenia in patients receiving POLIVY plus R-CHP. Consider prophylactic G-CSF administration in patients receiving POLIVY plus bendamustine and a rituximab product. Serious and Opportunistic Infections Fatal and/or serious infections, including opportunistic infections such as sepsis, pneumonia (including Pneumocystis jiroveci and other fungal pneumonia), herpesvirus infection, and cytomegalovirus infection have occurred in patients treated with POLIVY. In POLARIX, Grade 3–4 infections occurred in 14% (61/435) of patients treated with POLIVY plus R-CHP, and infection-related deaths were reported in 1.1% of patients. In Study GO29365, Grade 3 or higher infections occurred in 32% (55/173) of patients treated with POLIVY, and infection-related deaths were reported in 2.9% of patients within 90 days of last treatment. Closely monitor patients during treatment for signs of infection. Administer prophylaxis for Pneumocystis jiroveci pneumonia and herpesvirus. Administer prophylactic G-CSF for neutropenia as recommended. Progressive Multifocal Leukoencephalopathy (PML) PML has been reported after treatment with POLIVY plus bendamustine and obinutuzumab in Study GO29365 (0.6%, 1/173). Monitor for new or worsening neurological, cognitive, or behavioral changes. Hold POLIVY and any concomitant chemotherapy if PML is suspected, and permanently discontinue if the diagnosis is confirmed. Tumor Lysis Syndrome POLIVY may cause tumor lysis syndrome. Patients with high tumor burden and rapidly proliferative tumor may be at increased risk of tumor lysis syndrome. Monitor closely and take appropriate measures, including tumor lysis syndrome prophylaxis. Hepatotoxicity Serious cases of hepatotoxicity that were consistent with hepatocellular injury, including elevations of transaminases and/or bilirubin, have occurred in patients treated with POLIVY. In recipients of POLIVY plus R-CHP, Grade 3–4 elevation of ALT and AST developed in 1.4% and 0.7% of patients, respectively. In Study GO29365, Grade 3 and Grade 4 transaminase elevations each developed in 1.9% of patients. Preexisting liver disease, elevated baseline liver enzymes, and concomitant medications may increase the risk of hepatotoxicity. Monitor liver enzymes and bilirubin level. Embryo-Fetal Toxicity Based on the mechanism of action and findings from animal studies, POLIVY can cause fetal harm when administered to a pregnant woman. The small molecule component of POLIVY, monomethyl auristatin E, administered to rats caused adverse developmental outcomes, including embryo-fetal mortality and structural abnormalities, at exposures below those occurring clinically at the recommended dose. Advise pregnant women of the potential risk to a fetus. Advise females of reproductive potential to use effective contraception during treatment with POLIVY and for 3 months after the last dose. Advise male patients with female partners of reproductive potential to use effective contraception during treatment with POLIVY and for 5 months after the last dose. The Most Common Adverse Reactions The most common adverse reactions (≥20%), excluding laboratory abnormalities, in patients with previously untreated DLBCL treated with POLIVY in combination with R-CHP are peripheral neuropathy, nausea, fatigue, diarrhea, constipation, alopecia, and mucositis. The most common Grade 3 to 4 laboratory abnormalities (≥10%) are lymphopenia, neutropenia, hyperuricemia, and anemia. The most common adverse reactions (≥20%) in patients with relapsed or refractory DLBCL treated with POLIVY in combination with BR are neutropenia, thrombocytopenia, anemia, peripheral neuropathy, fatigue, diarrhea, pyrexia, decreased appetite, and pneumonia. Lactation Advise women not to breastfeed during treatment with POLIVY and for 2 months after the last dose. You may report side effects to the FDA at 1-800-FDA-1088 or www.fda.gov/medwatch. You may also report side effects to Genentech at 1-888-835-2555. Please see the full Prescribing Information for additional Important Safety Information.        Top    References  POLIVY Prescribing Information. South San Francisco, CA: Genentech, Inc.; April 2023.  POLIVY Prescribing Information. South San Francisco, CA: Genentech, Inc.; April 2023.  Referenced with permission from the NCCN Clinical Practice Guidelines in Oncology (NCCN Guidelines®) for B-Cell Lymphomas V.1.2024. © National Comprehensive Cancer Network, Inc. 2024. All rights reserved. Accessed January 22, 2024. To view the most recent and complete version of the guideline, go online to NCCN.org.  Referenced with permission from the NCCN Clinical Practice Guidelines in Oncology (NCCN Guidelines®) for B-Cell Lymphomas V.1.2024. © National Comprehensive Cancer Network, Inc. 2024. All rights reserved. Accessed January 22, 2024. To view the most recent and complete version of the guideline, go online to NCCN.org.  Sehn LH, Salles G. Diffuse large B-cell lymphoma. N Engl J Med. 2021;384(9):842-858. doi:10.1056/NEJMra2027612  Sehn LH, Salles G. Diffuse large B-cell lymphoma. N Engl J Med. 2021;384(9):842-858. doi:10.1056/NEJMra2027612  Crump M, Neelapu SS, Farooq U, et al. Outcomes in refractory diffuse large B-cell lymphoma: results from the international SCHOLAR-1 study. Blood. 2017;130(16):1800​-1808. doi:10.1182/blood-2017​-03​-769620  Crump M, Neelapu SS, Farooq U, et al. Outcomes in refractory diffuse large B-cell lymphoma: results from the international SCHOLAR-1 study. Blood. 2017;130(16):1800​-1808. doi:10.1182/blood-2017​-03​-769620  Maurer MJ, Habermann TM, Shi Q, et al. Utility of 2-year PFS24 to predict subsequent outcomes for patients with DLBCL enrolled on randomized clinical trials: findings from a surrogate endpoint in aggressive lymphoma (SEAL) analysis of individual patient data from 5853 patients. Blood. 2018; 128:3027.  Maurer MJ, Habermann TM, Shi Q, et al. Utility of 2-year PFS24 to predict subsequent outcomes for patients with DLBCL enrolled on randomized clinical trials: findings from a surrogate endpoint in aggressive lymphoma (SEAL) analysis of individual patient data from 5853 patients. Blood. 2018; 128:3027.  Morrison VA, Shou Y, Bell JA, et al. Evaluation of treatment patterns and survival among patients with diffuse large B-cell lymphoma in the USA. Future Oncol. 2019;15(9):1021​-1034.  Morrison VA, Shou Y, Bell JA, et al. Evaluation of treatment patterns and survival among patients with diffuse large B-cell lymphoma in the USA. Future Oncol. 2019;15(9):1021​-1034.  Purdum A, Tieu R, Reddy SR, Broder MS. Direct costs associated with relapsed diffuse large B-cell lymphoma therapies. Oncologist. 2019;24(9):1229​-1236. doi:10.1634/ theoncologist.2018​-0490.  Purdum A, Tieu R, Reddy SR, Broder MS. Direct costs associated with relapsed diffuse large B-cell lymphoma therapies. Oncologist. 2019;24(9):1229​-1236. doi:10.1634/ theoncologist.2018​-0490.  Wang R, Roth J, Ng C, Hossain F, Li J, Masaquel A. Cost of disease progression after frontline (1L) R-CHOP in diffuse large B-cell lymphoma (DLBCL). Presented at: the American Society of Hematology Annual Meeting in Atlanta, GA; December 12, 2021. Poster presentation; Abstract 3002.  Wang R, Roth J, Ng C, Hossain F, Li J, Masaquel A. Cost of disease progression after frontline (1L) R-CHOP in diffuse large B-cell lymphoma (DLBCL). Presented at: the American Society of Hematology Annual Meeting in Atlanta, GA; December 12, 2021. Poster presentation; Abstract 3002.  Ruppert AS, Dixon JG, Salles G, et al. International prognostic indices in diffuse large B-cell lymphoma: a comparison of IPI, R-IPI, and NCCN-IPI. Blood. 2020; 135(23): 2041​-2048.  Ruppert AS, Dixon JG, Salles G, et al. International prognostic indices in diffuse large B-cell lymphoma: a comparison of IPI, R-IPI, and NCCN-IPI. Blood. 2020; 135(23): 2041​-2048.  Kanas G, Ge Wenzhen, Quek R, et al. Epidemiology of diffuse large B-cell lymphoma (DLBCL) and follicular lymphoma (FL) in the United States and Western Europe: population-level projections for 2020-2025. Leuk Lymphoma. 2021;63()1:54-63.   Kanas G, Ge Wenzhen, Quek R, et al. Epidemiology of diffuse large B-cell lymphoma (DLBCL) and follicular lymphoma (FL) in the United States and Western Europe: population-level projections for 2020-2025. Leuk Lymphoma. 2021;63()1:54-63.   Harrysson S, Eloranta S, Ekberg S, et al. Incidence of relapsed/refractory diffuse large B-cell lymphoma (DLBCL) including CNS relapse in a population-based cohort of 4243 patients in Sweden. Blood Cancer J. 2021;11(1):9.   Harrysson S, Eloranta S, Ekberg S, et al. Incidence of relapsed/refractory diffuse large B-cell lymphoma (DLBCL) including CNS relapse in a population-based cohort of 4243 patients in Sweden. Blood Cancer J. 2021;11(1):9.   Shi X, Liu X, Li X, et al. Risk stratification for diffuse large B-cell lymphoma by integrating interim evaluation and international prognostic index: a multicenter retrospective study. Front Oncol. 2021;11:754964.  Shi X, Liu X, Li X, et al. Risk stratification for diffuse large B-cell lymphoma by integrating interim evaluation and international prognostic index: a multicenter retrospective study. Front Oncol. 2021;11:754964.  Iacoboni G, Zucca E, Ghielmini M, Stathis A. Methodology of clinical trials evaluating the incorporation of new drugs in the first-line treatment of patients with diffuse large B-cell lymphoma (DLBCL): a critical review. Ann Oncol. 2018;29(5):1120​-1129. doi:10.1093/annonc/mdy113  Iacoboni G, Zucca E, Ghielmini M, Stathis A. Methodology of clinical trials evaluating the incorporation of new drugs in the first-line treatment of patients with diffuse large B-cell lymphoma (DLBCL): a critical review. Ann Oncol. 2018;29(5):1120​-1129. doi:10.1093/annonc/mdy113  Fanale D, Bronte G, Passiglia F, et al. Stabilizing versus Destabilizing the Microtubules: A Double-Edge Sword for an Effective Cancer Treatment Option? Anal Cell Pathol. 2015;690916.  Fanale D, Bronte G, Passiglia F, et al. Stabilizing versus Destabilizing the Microtubules: A Double-Edge Sword for an Effective Cancer Treatment Option? Anal Cell Pathol. 2015;690916.  Tilly H, Morschhauser F, Sehn LH, et al. Polatuzumab vedotin in previously untreated diffuse large B-cell lymphoma. N Engl J Med. 2022;386(4):351​-363.  Tilly H, Morschhauser F, Sehn LH, et al. Polatuzumab vedotin in previously untreated diffuse large B-cell lymphoma. N Engl J Med. 2022;386(4):351​-363.  Li S, Young KH, Medeiros LJ. Diffuse large B-cell lymphoma. Pathology. 2018;50(1):74-87.   Li S, Young KH, Medeiros LJ. Diffuse large B-cell lymphoma. Pathology. 2018;50(1):74-87.   Poletto S, Novo M, Paruzza L, et al. Treatment strategies for patients with diffuse large B-cell lymphoma. Cancer Treat Rev. 2022;110:102443  Poletto S, Novo M, Paruzza L, et al. Treatment strategies for patients with diffuse large B-cell lymphoma. Cancer Treat Rev. 2022;110:102443  Clinical trial endpoints for the approval of cancer drugs and biologics: guidance for industry. US Food and Drug Administration. December 2018. Accessed February 23, 2024. https://www.fda.gov/media/71195/download  Clinical trial endpoints for the approval of cancer drugs and biologics: guidance for industry. US Food and Drug Administration. December 2018. Accessed February 23, 2024. https://www.fda.gov/media/71195/download  International Non-Hodgkin's Lymphoma Prognostic Factors Project. A predictive model for aggressive non-Hodgkin's lymphoma. N Engl J Med. 1993;329(14):987-994.  International Non-Hodgkin's Lymphoma Prognostic Factors Project. A predictive model for aggressive non-Hodgkin's lymphoma. N Engl J Med. 1993;329(14):987-994.  Tilly H, Morschhauser F, Sehn LH, et al. Polatuzumab vedotin in previously untreated diffuse large B-cell lymphoma - study protocol. N Engl J Med. 2022;386(4):351-363. doi:10.1056/NEJMoa2115304  Tilly H, Morschhauser F, Sehn LH, et al. Polatuzumab vedotin in previously untreated diffuse large B-cell lymphoma - study protocol. N Engl J Med. 2022;386(4):351-363. doi:10.1056/NEJMoa2115304  Cheson BD, Fisher RI, Barrington SF, et al. Recommendations for initial evaluation, staging, and response assessment of Hodgkin and non-Hodgkin lymphoma: the Lugano classification. J Clin Oncol. 2014;32(27):3059​-3068. doi:10.1200/JCO.2013.54.8800  Cheson BD, Fisher RI, Barrington SF, et al. Recommendations for initial evaluation, staging, and response assessment of Hodgkin and non-Hodgkin lymphoma: the Lugano classification. J Clin Oncol. 2014;32(27):3059​-3068. doi:10.1200/JCO.2013.54.8800   Data on File. South San Francisco, CA; Genentech, Inc. 2023.  Data on File. South San Francisco, CA; Genentech, Inc. 2023.             Contact Us            Privacy Policy            Terms & Conditions            Accessibility      Your Privacy Choices       WA Consumer Health Data Privacy Policy            Site Map      © 2024 Genentech USA, Inc. All rights reserved. This site is intended for U.S. residents only.          Close   We're here to help! Contact a representative For clinical questions, patient or practice resources, access & reimbursement information, and more, please complete this short form. A Genentech representative will be in touch as soon as possible. Personal Information (*Indicates a required field.)      First Name*      Last Name*      Email Address*      Zip Code of Practice Location*      Phone Number        Practice/Clinic/Hospital Name      By submitting this form, your information will be provided to Genentech and its agents in order to be contacted directly by a Genentech representative. You can find additional information about our privacy practices at https://www.gene.com/privacy-policy.  Submit  Thank you Your request has been submitted. A Genentech representative will be in touch soon but in the meantime, you can download the PI, or see the financial support resources.  Close        Link to Healthcare Professionals Site Close The information contained in this section of the site is intended for U.S. healthcare professionals only. Click \"OK\" if you are a healthcare professional.       Close           OK           Link to Third Party Site Close The link you have selected will take you away from this site to one that is not owned or controlled by Genentech, Inc. Genentech, Inc. makes no representation as to the accuracy of the information contained on sites we do not own or control. Genentech does not recommend and does not endorse the content on any third-party websites. Your use of third-party websites is at your own risk and subject to the terms and conditions of use for such sites.       Close           OK           We would like to collect your personal information, some of which may be considered sensitive personal information, such as health data, through cookies and similar technologies in order to support our marketing efforts, personalize the site, and improve its performance. By clicking “Accept All”, you confirm that we have your consent to collect and process your personal information in accordance with our Privacy Policy, which may include online targeted and social media advertising. You can personalize your specific preferences by clicking “Your Privacy Choices”.Your Privacy Choices Accept All The Global Privacy Signal that you have set in your devices browser has been recognized.Your Privacy ChoicesTargeting & Social Media CookiesStrictly Necessary CookiesFunctional CookiesPerformance CookiesYour Privacy Choices This website may use cookies as described in the categories on this page. By default, all cookie categories are ‘on’. Strictly Necessary cookies are ‘always active’ and may not be turned off. You may alter your cookie preferences for this website using the ‘on/off’ toggles and confirming your choices, or by using the buttons on the bottom of this page. Additional information about the company’s privacy practices can be found here Privacy Policy. To exercise other rights as may be allowed by state laws, please complete the form found here Data Subject Request Form. Targeting & Social Media Cookies Targeting & Social Media Cookies To personalize your specific preferences, use the toggle to turn the cookies \"on\" or \"off\".Targeting Cookies Switch Label labelThese cookies may be set through our site by our advertising partners. They may be used by those companies to build a profile of your interests and show you relevant advertisements on other sites. They do not store directly personal information, but are based on uniquely identifying your browser and internet device. If you do not allow these cookies, you will experience less targeted advertising.Social Media Cookies Switch Label labelThese cookies are set by a range of social media services that we have added to the site to enable you to share our content with your friends and networks (such as Facebook, Twitter, LinkedIn). They are capable of tracking your browser across other sites and building up a profile of your interests. This may impact the content and messages you see on other websites you visit. If you do not allow these cookies you may not be able to use or see these sharing tools.Strictly Necessary CookiesAlways ActiveThese cookies are necessary for the website to function and cannot be switched off in our systems. They are usually only set in response to actions made by you that amount to a request for services, such as setting your privacy preferences, logging in, or filling in forms. You can set your browser to block or alert you about these cookies, but blocking these cookies will prevent the site from working. These cookies do not store any personal information.Functional Cookies Functional Cookies These cookies enable our websites to provide enhanced functionality and personalization. They may be set by us or by third party service providers whose services we have added to our pages. If you reject these cookies, then some or all of these services may not function properly. Performance Cookies Performance Cookies These cookies allow us to count visits and traffic sources so we can measure and improve the performance of our site. They help us to know which pages are the most and least popular and see how visitors move around the site. We may collect your session ID, IP address, device identifiers, and your activity with the website. We may provide these cookies to third party service providers to help us run these analytics. If you block or opt out of these cookies, we will not know when you have visited our site, and will not be able to monitor its performance. If you are located in Europe, the personal data may be sent to a country (e.g. United States) that has not been deemed to provide an adequate level of data protection or appropriate safeguards. By accepting these cookies, you consent to the data processing for analytics purposes and to the transfer of your personal data to the United States each time you visit our site. Back ButtonCookie List Filter ButtonConsent Leg.Interest checkbox label label checkbox label label checkbox label labelClear checkbox label labelApply CancelConfirm My Cookie ChoicesReject All Cookies Allow All Cookies\n"
          ]
        }
      ]
    },
    {
      "cell_type": "code",
      "source": [
        "docs[0].metadata"
      ],
      "metadata": {
        "colab": {
          "base_uri": "https://localhost:8080/"
        },
        "id": "OgHf7wBvi_MV",
        "outputId": "4d262705-eae8-4f1b-c4a6-89d053c8ea83"
      },
      "execution_count": null,
      "outputs": [
        {
          "output_type": "execute_result",
          "data": {
            "text/plain": [
              "{'fname': 'polivy_summary.txt'}"
            ]
          },
          "metadata": {},
          "execution_count": 148
        }
      ]
    },
    {
      "cell_type": "code",
      "source": [
        "import tiktoken\n",
        "\n",
        "tokenizer = tiktoken.get_encoding('cl100k_base')\n",
        "\n",
        "# create the length function\n",
        "def tiktoken_len(text):\n",
        "    tokens = tokenizer.encode(\n",
        "        text,\n",
        "        disallowed_special=()\n",
        "    )\n",
        "    return len(tokens)\n",
        "\n",
        "\n",
        "tiktoken.encoding_for_model('gpt-3.5-turbo')"
      ],
      "metadata": {
        "colab": {
          "base_uri": "https://localhost:8080/"
        },
        "id": "MEFSQdXrhZbR",
        "outputId": "c84b14fc-f942-40d5-9b3a-196325024562"
      },
      "execution_count": null,
      "outputs": [
        {
          "output_type": "execute_result",
          "data": {
            "text/plain": [
              "<Encoding 'cl100k_base'>"
            ]
          },
          "metadata": {},
          "execution_count": 139
        }
      ]
    },
    {
      "cell_type": "code",
      "source": [
        "token_counts = [tiktoken_len(doc.page_content) for doc in docs]"
      ],
      "metadata": {
        "id": "eijYInrwhkF7"
      },
      "execution_count": null,
      "outputs": []
    },
    {
      "cell_type": "code",
      "source": [
        "print(f\"\"\"Min: {min(token_counts)}\n",
        "Avg: {int(sum(token_counts) / len(token_counts))}\n",
        "Max: {max(token_counts)}\"\"\")"
      ],
      "metadata": {
        "colab": {
          "base_uri": "https://localhost:8080/"
        },
        "id": "sDwhrpOxhoM6",
        "outputId": "2f219259-fae2-43ef-826e-41b328f83b0c"
      },
      "execution_count": null,
      "outputs": [
        {
          "output_type": "stream",
          "name": "stdout",
          "text": [
            "Min: 3459\n",
            "Avg: 6704\n",
            "Max: 7863\n"
          ]
        }
      ]
    },
    {
      "cell_type": "code",
      "source": [
        "import matplotlib.pyplot as plt\n",
        "import seaborn as sns\n",
        "\n",
        "# set style and color palette for the plot\n",
        "sns.set_style(\"whitegrid\")\n",
        "sns.set_palette(\"muted\")\n",
        "\n",
        "# create histogram\n",
        "plt.figure(figsize=(12, 6))\n",
        "sns.histplot(token_counts, kde=False, bins=50)\n",
        "\n",
        "# customize the plot info\n",
        "plt.title(\"Token Counts Histogram\")\n",
        "plt.xlabel(\"Token Count\")\n",
        "plt.ylabel(\"Frequency\")\n",
        "\n",
        "plt.show()"
      ],
      "metadata": {
        "colab": {
          "base_uri": "https://localhost:8080/",
          "height": 564
        },
        "id": "Vl_d9kBNhrdd",
        "outputId": "b96b21a5-40db-4491-e6c2-e4548d5352b0"
      },
      "execution_count": null,
      "outputs": [
        {
          "output_type": "display_data",
          "data": {
            "text/plain": [
              "<Figure size 1200x600 with 1 Axes>"
            ],
            "image/png": "[encoded data removed]"
          },
          "metadata": {}
        }
      ]
    },
    {
      "cell_type": "code",
      "source": [
        "from langchain.text_splitter import RecursiveCharacterTextSplitter\n",
        "\n",
        "text_splitter = RecursiveCharacterTextSplitter(\n",
        "    chunk_size=400,\n",
        "    chunk_overlap=20,  # number of tokens overlap between chunks\n",
        "    length_function=tiktoken_len,\n",
        "    separators=['\\n\\n', '\\n', ' ', '']\n",
        ")"
      ],
      "metadata": {
        "id": "uda6H7K4hwDs"
      },
      "execution_count": null,
      "outputs": []
    },
    {
      "cell_type": "code",
      "source": [
        "docs[5].page_content"
      ],
      "metadata": {
        "id": "JJbNoShuwZj8",
        "outputId": "44d33b2a-8aea-4f54-806b-5ecb77e27de8",
        "colab": {
          "base_uri": "https://localhost:8080/",
          "height": 157
        }
      },
      "execution_count": null,
      "outputs": [
        {
          "output_type": "execute_result",
          "data": {
            "text/plain": [
              "'epkinly_clinical-trial-results.txt.                 DLBCL Clinical Trial Results - EPKINLY® HCP    Skip to Main content EPKINLY is indicated for the treatment of adults with relapsed or refractory diffuse large B-cell lymphoma (DLBCL), not otherwise specified (NOS), including DLBCL arising from indolent lymphoma, and high-grade B-cell lymphoma (HGBCL) after 2 or more lines of systemic therapy. Approved under accelerated approval based on response rate and durability of response. Continued approval may be contingent upon verification and description of clinical benefit in a confirmatory trial(s). INDICATION X  For US Healthcare Professionals Full Prescribing Information Important Safety Information & Indications For Patients & Care Partners        3L+ Treatment Landscape MOA Efficacy  Study Design & Patient Characteristics Clinical Trial Results  Safety  Adverse Reactions CRS & ICANS Events Important Safety Information  Dosing & Administration  Dosing & Administration Adverse Reaction Management  Support  Support & Resources How to Order Contact a Representative Register for Updates  Register for Updates Contact a Representative Register for Updates For Patients & Care Partners 3L+ Diffuse Large B-cell Lymphoma  3L+ Diffuse Large B-cell Lymphoma 3L+ Follicular Lymphoma  Full Prescribing Information Important Safety Information & Indications            EPKINLY delivered an ORR of 61%, with 38% of patients achieving a deep response of CR1     See the full EPCORE® NHL-1 study design    Responses in select prespecified subgroups were consistent with the overall population2                    Data Limitation: Study was not powered to evaluate these prespecified subgroups. Data are exploratory and descriptive in nature. No formal inferences can be drawn.   In overall responders (61%, n=90/148), EPKINLY delivered durable responses in heavily pretreated 3L+ DLBCL, NOS patients1     In the efficacy population of 148 patients, the median number of prior therapies was 3 (range: 2-11), with 2 prior (30%), 3 prior (30%), and 4+ prior (40%). Prior therapies: autologous HSCT (18%), CAR T (39%). Refractory to last therapy (82%). Refractory to CAR T (29%) The median follow-up for DOR was 9.8 months (range: 0-17.3 months)  In a pre-specified analysis of complete responders (38%, n=56/148)1,2:        In the efficacy population of 148 patients, the median number of prior therapies was 3 (range: 2-11), with 2 prior (30%), 3 prior (30%), and 4+ prior (40%). Prior therapies: autologous HSCT (18%), CAR T (39%). Refractory to last therapy (82%). Refractory to CAR T (29%) The median follow-up for DOR was 9.8 months (range: 0-17.3 months)  In a pre-specified analysis of complete responders (38%, n=56/148)1,2:     Complete responses were achieved as late as 10.2 months2 The median follow-up for DOCR was 9.7 months (range: 8.3-12.1 months)2  *Efficacy results determined by Lugano criteria (2014) as assessed by Independent Review Committee (IRC). †Based on Kaplan-Meier estimate. \\xa0 3L=third line; CAR T=chimeric antigen receptor T-cell therapy; CI=confidence interval; CR=complete response; DOCR=duration of complete response; DOR=duration of response; DLBCL=diffuse large B-cell lymphoma; HSCT=hematopoietic stem cell transplant; IRC=Independent Review Committee; mDOCR=median duration of complete response; mDOR=median duration of response; NOS=not otherwise specified; NR=not reached; ORR=overall response rate; PR=partial response.     Find out more about clinical trial treatment-related adverse reactions that occurred with EPKINLY VIEW SAFETY PROFILE    IMPORTANT SAFETY INFORMATION BOXED WARNINGS Cytokine release syndrome (CRS), including serious or life-threatening reactions, can occur in patients receiving EPKINLY. Initiate treatment with the EPKINLY step-up\\xa0dosage schedule to reduce the incidence and severity of CRS. Withhold EPKINLY until CRS resolves or permanently discontinue based on severity. Immune effector cell–associated neurotoxicity syndrome (ICANS), including life-threatening and fatal reactions, can occur with EPKINLY. Monitor patients for neurological signs or symptoms of ICANS during treatment. Withhold EPKINLY until ICANS resolves or permanently discontinue based on severity.   CRS CRS occurred in 51% of patients with large B-cell lymphoma (LBCL) in the clinical trial (37% grade 1, 17% grade 2, and 2.5% grade 3) and recurred in 16% of patients. Most events (92%) occurred during cycle 1, with 61% occurring after the 48 mg dose on cycle 1, day 15. CRS occurred in 49% of patients with FL receiving the recommended 3-step up dosage schedule in the clinical trial (45% grade 1, 9% grade 2) and recurred in 23% of patients. Most events (88%) occurred during cycle 1, with 49% occurring after the 48 mg dose on cycle 1, day 22. In patients who experienced CRS, the signs and symptoms included pyrexia, hypotension, hypoxia, dyspnea, chills, and tachycardia. Concurrent neurological adverse reactions associated with CRS occurred in 2.5% of patients with LBCL (reactions included headache, confusional state, tremors, dizziness, and ataxia) and 4.7% of patients with FL (reactions included headache and dizziness). Administer pretreatment medications to reduce the risk of CRS. Patients with DLBCL or high-grade B-cell lymphoma should be hospitalized for 24 hours following administration of the first full 48 mg dose. Monitor patients for potential CRS. At the first signs or symptoms of CRS, manage per current practice guidelines and administer supportive care as appropriate. ICANS ICANS occurred in 6% of patients with LBCL in the clinical trial (4.5% grade 1, 1.3% grade 2, 0.6% fatal). Of the 10 ICANS events, 9 occurred in cycle 1 of treatment. ICANS occurred in 6% of patients with FL receiving the 2-step up dosage schedule in the clinical trial (3.9% grade 1, 2.4% grade 2). The onset of ICANS can be concurrent with CRS, following resolution of CRS, or in the absence of CRS. Clinical manifestations of ICANS included, but were not limited to, confusional state, lethargy, tremor, dysgraphia, aphasia, and non-convulsive status epilepticus. Monitor patients for potential ICANS. At the first signs or symptoms of ICANS, manage per current practice guidelines and administer supportive care as appropriate. Infections EPKINLY can cause serious and fatal infections. Serious infections, including opportunistic infections, were reported in 15% of patients with LBCL in the clinical trial (most common: 4.5% sepsis, 3.2% pneumonia). Fatal infections occurred in 1.3% of patients (1.3% COVID-19). Serious infections, including opportunistic infections, were reported in 40% of patients with FL receiving the 2-step up dosage schedule in the clinical trial (most common: 20% COVID-19, 13% pneumonia, 3% urinary tract infections). Fatal infections occurred in 6% of patients (5% COVID-19, 0.8% pneumonia, 0.8% sepsis). Monitor patients for signs and symptoms of infection prior to and during treatment and treat appropriately. Avoid administration in patients with active infections. Withhold or consider permanent discontinuation of EPKINLY based on severity. Prior to starting EPKINLY, provide Pneumocystis jirovecii pneumonia (PJP) prophylaxis and consider prophylaxis against herpes virus. Cytopenias EPKINLY can cause serious or severe cytopenias. In the clinical trial of patients with LBCL, grade 3 or 4 events occurred in 32% (neutrophils decreased), 12% (hemoglobin decreased), and 12% (platelets decreased). Febrile neutropenia occurred in 2.5%. In the clinical trial of patients with FL receiving the 2-step up dosage schedule, grade 3 or 4 events occurred in 30% (neutrophils decreased), 10% (hemoglobin decreased), and 8% (platelets decreased). Febrile neutropenia occurred in 3.1%. Monitor complete blood counts throughout treatment. Based on severity of cytopenias, temporarily withhold or permanently discontinue EPKINLY. Consider prophylactic granulocyte colony-stimulating factor administration as applicable. Embryo-Fetal Toxicity EPKINLY may cause fetal harm when administered to a pregnant woman. Advise females of reproductive potential to use effective contraception during treatment with EPKINLY and for 4 months after the last dose. Verify pregnancy status in females of reproductive potential prior to initiating EPKINLY. Adverse Reactions DLBCL/HGBCL: Most common (≥20%) adverse reactions were CRS, fatigue, musculoskeletal pain, injection site reactions, pyrexia, abdominal pain, nausea, and diarrhea. Most common grade 3 to 4 laboratory abnormalities (≥10%) were decreased lymphocytes, decreased neutrophils, decreased white blood cells, decreased hemoglobin, and decreased platelets. FL: Most common (≥20%) adverse reactions were injection site reactions, CRS, COVID-19, fatigue, upper respiratory tract infection, musculoskeletal pain, rash, diarrhea, pyrexia, cough, and headache. The most common grade 3 to 4 laboratory abnormalities (≥10%) were decreased lymphocytes, decreased neutrophils, decreased white blood cells, and decreased hemoglobin. Use in Specific Populations Lactation: Advise women not to breastfeed during treatment and for 4 months after the last dose of EPKINLY. Geriatric Use: In patients with relapsed or refractory FL who received EPKINLY in the clinical trial, 52% were ≥65 years old, and 13% were ≥75 years old. A higher rate of fatal adverse reactions, primarily infections, including COVID-19, was observed in patients ≥65 years old compared to younger adult patients. No overall difference in efficacy was observed. INDICATIONS EPKINLY is indicated for the treatment of adults with: relapsed or refractory diffuse large B-cell lymphoma (DLBCL), not otherwise specified (NOS), including DLBCL arising from indolent lymphoma, and high-grade B-cell lymphoma (HGBCL) after 2 or more lines of systemic therapy. relapsed or refractory follicular lymphoma (FL) after 2 or more lines of systemic therapy. These indications are approved under accelerated approval based on response rate and durability of response. Continued approval for these indications may be contingent upon verification and description of clinical benefit in confirmatory trials. Please see full Prescribing Information, including Boxed Warnings. COM-US-EPK-0000798   References: 1. EPKINLY [package insert]. Plainsboro, NJ: Genmab US, Inc. and North Chicago, IL: AbbVie Inc. 2024.\\xa02. Data on file. Plainsboro, NJ: Genmab US, Inc. and North Chicago, IL: AbbVie Inc. 2023.     Site Map Terms & Conditions Accessibility Statement Contact Us Terms of Use Privacy Notice Cookies Settings Your Privacy Choices EPKINLY, EPCORE, and MyNavCare are trademarks of Genmab A/S. ©2024 Genmab A/S and AbbVie. All rights reserved. 06/2024 COM-US-EPK-0000797                                              You are leaving www.epkinly.com. You are leaving the AbbVie website and connecting to a site that is not under the control of AbbVie. AbbVie is not responsible for the content of any such site or any further links from such site. AbbVie is providing these links to you only as a convenience and the inclusion of any link does not imply the endorsement of the linked site by AbbVie. You should also be aware that the linked site may be governed by its own set of terms and conditions and privacy policy for which AbbVie has no responsibility. Conversely, the presence of this link does not imply the linked site’s endorsement of AbbVie. Do you wish to leave this site?  Yes No  05/23 COM-US-EPK-0000085     Leaving Genmab & AbbVie Website By clicking this link, you will be leaving this site and connecting to a site neither owned nor operated by Genmab and AbbVie. Genmab and AbbVie are not responsible for the contents of any such website or any further links from such website. Genmab and AbbVie are providing these links as a convenience, and the inclusion of any link does not imply endorsement of the linked website by Genmab and AbbVie. You should also be aware that the linked website may be governed by its own set of terms and conditions and privacy policy, for which Genmab and AbbVie have no responsibility. Do you wish to leave this site?  Yes No  COM-US-EPK-0000724  05/23 COM-US-EPK-0000085     You are leaving www.epkinly.com. You are leaving the AbbVie website and connecting to a site that is not under the control of AbbVie. AbbVie is not responsible for the content of any such site or any further links from such site. AbbVie is providing these links to you only as a convenience and the inclusion of any link does not imply the endorsement of the linked site by AbbVie. You should also be aware that the linked site may be governed by its own set of terms and conditions and privacy policy for which AbbVie has no responsibility. Conversely, the presence of this link does not imply the linked site’s endorsement of AbbVie. Do you wish to leave this site?  Yes No  05/2023 COM-US-EPK-0000085     Are you a registered healthcare professional?  Yes No  COM-US-EPK-0000724  COM-US-EPK-0000724     Leaving Genmab & AbbVie Website By clicking this link, you will be leaving this site and connecting to a site neither owned nor operated by Genmab and AbbVie. Genmab and AbbVie are not responsible for the contents of any such website or any further links from such website. Genmab and AbbVie are providing these links as a convenience, and the inclusion of any link does not imply endorsement of the linked website by Genmab and AbbVie. You should also be aware that the linked website may be governed by its own set of terms and conditions and privacy policy, for which Genmab and AbbVie have no responsibility. Do you wish to leave this site?  Yes No  05/2023 COM-US-EPK-0000085     You are leaving the product website. You are leaving the AbbVie website and connecting to a site that is not under the control of AbbVie. AbbVie is not responsible for the content of any such site or any further links from such site. AbbVie is providing these links to you only as a convenience and the inclusion of any link does not imply the endorsement of the linked site by AbbVie. You should also be aware that the linked site may be governed by its own set of terms and conditions and privacy policy for which AbbVie has no responsibility.\\u202f Conversely, the presence of this link does not imply the linked site’s endorsement of AbbVie.\\u202f \\u200bDo you wish to leave this site?   Yes  No  COM-US-EPK-0000087      You are leaving the product website. You are leaving the AbbVie website and connecting to a site that is not under the control of AbbVie. AbbVie is not responsible for the content of any such site or any further links from such site. AbbVie is providing these links to you only as a convenience and the inclusion of any link does not imply the endorsement of the linked site by AbbVie. You should also be aware that the linked site may be governed by its own set of terms and conditions and privacy policy for which AbbVie has no responsibility.\\u202f Conversely, the presence of this link does not imply the linked site’s endorsement of AbbVie.\\u202f \\u200bDo you wish to leave this site?   Yes  No  COM-US-EPK-0000087 - WoL      You are leaving the product website. You are leaving the AbbVie website and connecting to a site that is not under the control of AbbVie. AbbVie is not responsible for the content of any such site or any further links from such site. AbbVie is providing these links to you only as a convenience and the inclusion of any link does not imply the endorsement of the linked site by AbbVie. You should also be aware that the linked site may be governed by its own set of terms and conditions and privacy policy for which AbbVie has no responsibility.\\u202f Conversely, the presence of this link does not imply the linked site’s endorsement of AbbVie.\\u202f \\u200bDo you wish to leave this site?   Yes  No  COM-US-EPK-0000724      You are leaving the product website. You are leaving the AbbVie website and connecting to a site that is not under the control of AbbVie. AbbVie is not responsible for the content of any such site or any further links from such site. AbbVie is providing these links to you only as a convenience and the inclusion of any link does not imply the endorsement of the linked site by AbbVie. You should also be aware that the linked site may be governed by its own set of terms and conditions and privacy policy for which AbbVie has no responsibility.\\u202f Conversely, the presence of this link does not imply the linked site’s endorsement of AbbVie.\\u202f \\u200bDo you wish to leave this site?   Yes  No  COM-US-EPK-0000724      You are leaving the product website. You are leaving the AbbVie website and connecting to a site that is not under the control of AbbVie. AbbVie is not responsible for the content of any such site or any further links from such site. AbbVie is providing these links to you only as a convenience and the inclusion of any link does not imply the endorsement of the linked site by AbbVie. You should also be aware that the linked site may be governed by its own set of terms and conditions and privacy policy for which AbbVie has no responsibility.\\u202f Conversely, the presence of this link does not imply the linked site’s endorsement of AbbVie.\\u202f \\u200bDo you wish to leave this site?   Yes  No  COM-US-EPK-0000724      You are leaving the product website. You are leaving the AbbVie website and connecting to a site that is not under the control of AbbVie. AbbVie is not responsible for the content of any such site or any further links from such site. AbbVie is providing these links to you only as a convenience and the inclusion of any link does not imply the endorsement of the linked site by AbbVie. You should also be aware that the linked site may be governed by its own set of terms and conditions and privacy policy for which AbbVie has no responsibility.\\u202f Conversely, the presence of this link does not imply the linked site’s endorsement of AbbVie.\\u202f \\u200bDo you wish to leave this site?   Yes  No  COM-US-EPK-0000724       INDICATIONS EPKINLY is indicated for the treatment of adults with: relapsed or refractory diffuse large B-cell lymphoma (DLBCL), not otherwise specified (NOS), including DLBCL arising from indolent lymphoma, and high-grade B-cell lymphoma (HGBCL) after 2 or more lines of systemic therapy. relapsed or refractory follicular lymphoma (FL) after 2 or more lines of systemic therapy. IMPORTANT SAFETY INFORMATION BOXED WARNINGS: CRS and ICANS Cytokine release syndrome (CRS), including serious or life-threatening reactions, can occur in patients receiving EPKINLY. Initiate treatment with the EPKINLY step-up dosage schedule to reduce the incidence and severity of CRS. Withhold EPKINLY until CRS resolves or permanently discontinue based on severity. Immune effector cell–associated neurotoxicity syndrome (ICANS), including life-threatening and fatal reactions, can occur with EPKINLY. Monitor patients for neurological signs or symptoms of ICANS during treatment. Withhold EPKINLY until ICANS resolves or permanently discontinue based on severity.   IMPORTANT SAFETY INFORMATION BOXED WARNINGS: CRS and ICANS Cytokine release syndrome (CRS), including serious or life-threatening reactions, can occur in patients receiving EPKINLY. Initiate treatment with the EPKINLY step-up\\xa0dosage schedule to reduce the incidence and severity of CRS. Withhold EPKINLY until CRS resolves or permanently discontinue based on severity. Immune effector cell–associated neurotoxicity syndrome (ICANS), including life-threatening and fatal reactions, can occur with EPKINLY. Monitor patients for neurological signs or symptoms of ICANS during treatment. Withhold EPKINLY until ICANS resolves or permanently discontinue based on severity.   INDICATIONS EPKINLY is indicated for the treatment of adults with: relapsed or refractory diffuse large B-cell lymphoma (DLBCL), not otherwise specified (NOS), including DLBCL arising from indolent lymphoma, and high-grade B-cell lymphoma (HGBCL) after 2 or more lines of systemic therapy. relapsed or refractory follicular lymphoma (FL) after 2 or more lines of systemic therapy. IMPORTANT SAFETY INFORMATION BOXED WARNINGS: CRS and ICANS Cytokine release syndrome (CRS), including serious or life-threatening reactions, can occur in patients receiving EPKINLY. Initiate treatment with the EPKINLY step-up dosage schedule to reduce the incidence and severity of CRS. Withhold EPKINLY until CRS resolves or permanently discontinue based on severity. Immune effector cell–associated neurotoxicity syndrome (ICANS), including life-threatening and fatal reactions, can occur with EPKINLY. Monitor patients for neurological signs or symptoms of ICANS during treatment. Withhold EPKINLY until ICANS resolves or permanently discontinue based on severity.   IMPORTANT SAFETY INFORMATION BOXED WARNINGS: CRS and ICANS Cytokine release syndrome (CRS), including serious or life-threatening reactions, can occur in patients receiving EPKINLY. Initiate treatment with the EPKINLY step-up\\xa0dosage schedule to reduce the incidence and severity of CRS. Withhold EPKINLY until CRS resolves or permanently discontinue based on severity. Immune effector cell–associated neurotoxicity syndrome (ICANS), including life-threatening and fatal reactions, can occur with EPKINLY. Monitor patients for neurological signs or symptoms of ICANS during treatment. Withhold EPKINLY until ICANS resolves or permanently discontinue based on severity.    IMPORTANT SAFETY INFORMATION BOXED WARNINGS Cytokine release syndrome (CRS), including serious or life-threatening reactions, can occur in patients receiving EPKINLY. Initiate treatment with the EPKINLY step-up\\xa0dosage schedule to reduce the incidence and severity of CRS. Withhold EPKINLY until CRS resolves or permanently discontinue based on severity. Immune effector cell–associated neurotoxicity syndrome (ICANS), including life-threatening and fatal reactions, can occur with EPKINLY. Monitor patients for neurological signs or symptoms of ICANS during treatment. Withhold EPKINLY until ICANS resolves or permanently discontinue based on severity.  CRS CRS occurred in 51% of patients with large B-cell lymphoma (LBCL) in the clinical trial (37% grade 1, 17% grade 2, and 2.5% grade 3) and recurred in 16% of patients. Most events (92%) occurred during cycle 1, with 61% occurring after the 48 mg dose on cycle 1, day 15. CRS occurred in 49% of patients with FL receiving the recommended 3-step up dosage schedule in the clinical trial (45% grade 1, 9% grade 2) and recurred in 23% of patients. Most events (88%) occurred during cycle 1, with 49% occurring after the 48 mg dose on cycle 1, day 22. In patients who experienced CRS, the signs and symptoms included pyrexia, hypotension, hypoxia, dyspnea, chills, and tachycardia. Concurrent neurological adverse reactions associated with CRS occurred in 2.5% of patients with LBCL (reactions included headache, confusional state, tremors, dizziness, and ataxia) and 4.7% of patients with FL (reactions included headache and dizziness). Administer pretreatment medications to reduce the risk of CRS. Patients with DLBCL or high-grade B-cell lymphoma should be hospitalized for 24 hours following administration of the first full 48 mg dose. Monitor patients for potential CRS. At the first signs or symptoms of CRS, manage per current practice guidelines and administer supportive care as appropriate. ICANS ICANS occurred in 6% of patients with LBCL in the clinical trial (4.5% grade 1, 1.3% grade 2, 0.6% fatal). Of the 10 ICANS events, 9 occurred in cycle 1 of treatment. ICANS occurred in 6% of patients with FL receiving the 2-step up dosage schedule in the clinical trial (3.9% grade 1, 2.4% grade 2). The onset of ICANS can be concurrent with CRS, following resolution of CRS, or in the absence of CRS. Clinical manifestations of ICANS included, but were not limited to, confusional state, lethargy, tremor, dysgraphia, aphasia, and non-convulsive status epilepticus. Monitor patients for potential ICANS. At the first signs or symptoms of ICANS, manage per current practice guidelines and administer supportive care as appropriate. Infections EPKINLY can cause serious and fatal infections. Serious infections, including opportunistic infections, were reported in 15% of patients with LBCL in the clinical trial (most common: 4.5% sepsis, 3.2% pneumonia). Fatal infections occurred in 1.3% of patients (1.3% COVID-19). Serious infections, including opportunistic infections, were reported in 40% of patients with FL receiving the 2-step up dosage schedule in the clinical trial (most common: 20% COVID-19, 13% pneumonia, 3% urinary tract infections). Fatal infections occurred in 6% of patients (5% COVID-19, 0.8% pneumonia, 0.8% sepsis). Monitor patients for signs and symptoms of infection prior to and during treatment and treat appropriately. Avoid administration in patients with active infections. Withhold or consider permanent discontinuation of EPKINLY based on severity. Prior to starting EPKINLY, provide Pneumocystis jirovecii pneumonia (PJP) prophylaxis and consider prophylaxis against herpes virus. Cytopenias EPKINLY can cause serious or severe cytopenias. In the clinical trial of patients with LBCL, grade 3 or 4 events occurred in 32% (neutrophils decreased), 12% (hemoglobin decreased), and 12% (platelets decreased). Febrile neutropenia occurred in 2.5%. In the clinical trial of patients with FL receiving the 2-step up dosage schedule, grade 3 or 4 events occurred in 30% (neutrophils decreased), 10% (hemoglobin decreased), and 8% (platelets decreased). Febrile neutropenia occurred in 3.1%. Monitor complete blood counts throughout treatment. Based on severity of cytopenias, temporarily withhold or permanently discontinue EPKINLY. Consider prophylactic granulocyte colony-stimulating factor administration as applicable. Embryo-Fetal Toxicity EPKINLY may cause fetal harm when administered to a pregnant woman. Advise females of reproductive potential to use effective contraception during treatment with EPKINLY and for 4 months after the last dose. Verify pregnancy status in females of reproductive potential prior to initiating EPKINLY. Adverse Reactions DLBCL/HGBCL: Most common (≥20%) adverse reactions were CRS, fatigue, musculoskeletal pain, injection site reactions, pyrexia, abdominal pain, nausea, and diarrhea. Most common grade 3 to 4 laboratory abnormalities (≥10%) were decreased lymphocytes, decreased neutrophils, decreased white blood cells, decreased hemoglobin, and decreased platelets. FL: Most common (≥20%) adverse reactions were injection site reactions, CRS, COVID-19, fatigue, upper respiratory tract infection, musculoskeletal pain, rash, diarrhea, pyrexia, cough, and headache. The most common grade 3 to 4 laboratory abnormalities (≥10%) were decreased lymphocytes, decreased neutrophils, decreased white blood cells, and decreased hemoglobin. Use in Specific Populations Lactation: Advise women not to breastfeed during treatment and for 4 months after the last dose of EPKINLY. Geriatric Use: In patients with relapsed or refractory FL who received EPKINLY in the clinical trial, 52% were ≥65 years old, and 13% were ≥75 years old. A higher rate of fatal adverse reactions, primarily infections, including COVID-19, was observed in patients ≥65 years old compared to younger adult patients. No overall difference in efficacy was observed. INDICATIONS EPKINLY is indicated for the treatment of adults with: relapsed or refractory diffuse large B-cell lymphoma (DLBCL), not otherwise specified (NOS), including DLBCL arising from indolent lymphoma, and high-grade B-cell lymphoma (HGBCL) after 2 or more lines of systemic therapy. relapsed or refractory follicular lymphoma (FL) after 2 or more lines of systemic therapy. These indications are approved under accelerated approval based on response rate and durability of response. Continued approval for these indications may be contingent upon verification and description of clinical benefit in confirmatory trials. Please see full Prescribing Information, including Boxed Warnings. COM-US-EPK-0000798            '"
            ],
            "application/vnd.google.colaboratory.intrinsic+json": {
              "type": "string"
            }
          },
          "metadata": {},
          "execution_count": 154
        }
      ]
    },
    {
      "cell_type": "code",
      "source": [
        "from tqdm.auto import tqdm\n",
        "\n",
        "dataset = []\n",
        "\n",
        "for doc in tqdm(docs):\n",
        "    source = doc.metadata['fname'].replace('.txt', '')\n",
        "    chunks = text_splitter.split_text(doc.page_content)\n",
        "    for i, chunk in enumerate(chunks):\n",
        "        dataset.append({\n",
        "            'text': chunk,\n",
        "            'source': source\n",
        "        })\n",
        "\n",
        "len(dataset)\n"
      ],
      "metadata": {
        "colab": {
          "base_uri": "https://localhost:8080/",
          "height": 66,
          "referenced_widgets": [
            "c469c264a0ce482d8f3c9efd2dc0fbb1",
            "351f746777be472488dc68b7ff2324e4",
            "9dfbea903e524b16b7269041595cf481",
            "1b0e4ca705ee4b51b86c52c854e6380c",
            "da7451536a0e41f0b6f51925c9417735",
            "e41214a72e6c4d3ea20a7790703fde08",
            "00b8fb582f154aa392fac436fa7605de",
            "542d560720e242e48adb91b8c9751b99",
            "a0bcd66c6ffc448aa3ad8d69f46b9084",
            "44ee16a0db824022aa5d055bf6e7d8bf",
            "1bfab6d77e8649129ed651c58a0a19e8"
          ]
        },
        "id": "dHgCiWtTh19N",
        "outputId": "3b2bc7cc-fd5d-44cf-b260-b6a06d8579cd"
      },
      "execution_count": null,
      "outputs": [
        {
          "output_type": "display_data",
          "data": {
            "text/plain": [
              "  0%|          | 0/8 [00:00<?, ?it/s]"
            ],
            "application/vnd.jupyter.widget-view+json": {
              "version_major": 2,
              "version_minor": 0,
              "model_id": "c469c264a0ce482d8f3c9efd2dc0fbb1"
            }
          },
          "metadata": {}
        },
        {
          "output_type": "execute_result",
          "data": {
            "text/plain": [
              "149"
            ]
          },
          "metadata": {},
          "execution_count": 155
        }
      ]
    },
    {
      "cell_type": "code",
      "source": [
        "type(dataset[1])"
      ],
      "metadata": {
        "id": "iuhECkR_wBLt",
        "outputId": "c53b4089-e2f8-41ff-d615-6ca40ae1d28e",
        "colab": {
          "base_uri": "https://localhost:8080/"
        }
      },
      "execution_count": null,
      "outputs": [
        {
          "output_type": "execute_result",
          "data": {
            "text/plain": [
              "dict"
            ]
          },
          "metadata": {},
          "execution_count": 164
        }
      ]
    },
    {
      "cell_type": "code",
      "source": [
        "from pinecone import Pinecone\n",
        "\n",
        "# initialize connection to pinecone (get API key at app.pinecone.io)\n",
        "api_key = userdata.get('pinecone')\n",
        "\n",
        "# configure client\n",
        "pc = Pinecone(api_key=api_key)"
      ],
      "metadata": {
        "id": "SXmpbkAHt8zJ"
      },
      "execution_count": null,
      "outputs": []
    },
    {
      "cell_type": "code",
      "source": [
        "from pinecone import ServerlessSpec\n",
        "\n",
        "spec = ServerlessSpec(\n",
        "    cloud=\"aws\", region=\"us-east-1\"\n",
        ")"
      ],
      "metadata": {
        "id": "MkoHsUouvFkI"
      },
      "execution_count": null,
      "outputs": []
    },
    {
      "cell_type": "code",
      "source": [
        "import time\n",
        "\n",
        "index_name = 'trials-rag'\n",
        "existing_indexes = [\n",
        "    index_info[\"name\"] for index_info in pc.list_indexes()\n",
        "]\n",
        "\n",
        "# check if index already exists (it shouldn't if this is first time)\n",
        "if index_name not in existing_indexes:\n",
        "    # if does not exist, create index\n",
        "    pc.create_index(\n",
        "        index_name,\n",
        "        dimension=1536,  # dimensionality of ada 002\n",
        "        metric='cosine',\n",
        "        spec=spec\n",
        "    )\n",
        "    # wait for index to be initialized\n",
        "    while not pc.describe_index(index_name).status['ready']:\n",
        "        time.sleep(1)\n",
        "\n",
        "# connect to index\n",
        "index = pc.Index(index_name)\n",
        "time.sleep(1)\n",
        "# view index stats\n",
        "index.describe_index_stats()"
      ],
      "metadata": {
        "id": "lnFIlFiOvKvl",
        "outputId": "a3ad0df0-5c69-40f6-c6a3-3dc4f3197adf",
        "colab": {
          "base_uri": "https://localhost:8080/"
        }
      },
      "execution_count": null,
      "outputs": [
        {
          "output_type": "execute_result",
          "data": {
            "text/plain": [
              "{'dimension': 1536,\n",
              " 'index_fullness': 0.0,\n",
              " 'namespaces': {},\n",
              " 'total_vector_count': 0}"
            ]
          },
          "metadata": {},
          "execution_count": 167
        }
      ]
    },
    {
      "cell_type": "code",
      "source": [
        "from langchain.embeddings.openai import OpenAIEmbeddings\n",
        "\n",
        "embed_model = OpenAIEmbeddings(model=\"text-embedding-ada-002\", openai_api_key=userdata.get('testkey'))"
      ],
      "metadata": {
        "id": "rBQfQUXxvXoE"
      },
      "execution_count": null,
      "outputs": []
    },
    {
      "cell_type": "code",
      "source": [
        "from tqdm.auto import tqdm  # for progress bar\n",
        "\n",
        "data = pd.DataFrame(dataset)\n",
        "data['chunk-id'] = data.index\n",
        "\n",
        "batch_size = 100\n",
        "\n",
        "for i in tqdm(range(0, len(data), batch_size)):\n",
        "    i_end = min(len(data), i+batch_size)\n",
        "    # get batch of data\n",
        "    batch = data.iloc[i:i_end]\n",
        "    # generate unique ids for each chunk\n",
        "    ids = [f\"{x['chunk-id']}\" for i, x in batch.iterrows()]\n",
        "    # get text to embed\n",
        "    texts = [x['text'] for _, x in batch.iterrows()]\n",
        "    # embed text\n",
        "    embeds = embed_model.embed_documents(texts)\n",
        "    # get metadata to store in Pinecone\n",
        "    metadata = [\n",
        "        {'text': x['text'],\n",
        "         'source': x['source']} for i, x in batch.iterrows()\n",
        "    ]\n",
        "    # add to Pinecone\n",
        "    index.upsert(vectors=zip(ids, embeds, metadata))"
      ],
      "metadata": {
        "id": "Yiuo5ybEvuYr",
        "outputId": "dc6ce2c8-afb2-4c8d-d360-b25f7cfe98db",
        "colab": {
          "base_uri": "https://localhost:8080/",
          "height": 49,
          "referenced_widgets": [
            "24544a465e7542c9938884435174e8c5",
            "5c17ecbc9fe74f96aca883954b3b55b5",
            "8b2bbc1a53fa411aa7d755b08cf3e181",
            "4db7a84f7b5a4a8da3bce1bbe8b9281b",
            "22b855668a4a476fa1ae996dd7dadb5c",
            "6d1ff3d86b3a4f62a22b9fe03d0fed8f",
            "bdbe6b21cbe547808852692495157a95",
            "00c8292d75ba45699784a78435133ace",
            "927eabca8cdd47a8ac704d1d37cbe201",
            "04190553a5284466984ae22ce112d30d",
            "067e0a2423204f19b19b7f5a39bc3a4a"
          ]
        }
      },
      "execution_count": null,
      "outputs": [
        {
          "output_type": "display_data",
          "data": {
            "text/plain": [
              "  0%|          | 0/2 [00:00<?, ?it/s]"
            ],
            "application/vnd.jupyter.widget-view+json": {
              "version_major": 2,
              "version_minor": 0,
              "model_id": "24544a465e7542c9938884435174e8c5"
            }
          },
          "metadata": {}
        }
      ]
    },
    {
      "cell_type": "code",
      "source": [
        "index.describe_index_stats()"
      ],
      "metadata": {
        "id": "Ofk-mbHz4eai",
        "outputId": "db32b214-e6c5-4d92-8264-9df12264de62",
        "colab": {
          "base_uri": "https://localhost:8080/"
        }
      },
      "execution_count": null,
      "outputs": [
        {
          "output_type": "execute_result",
          "data": {
            "text/plain": [
              "{'dimension': 1536,\n",
              " 'index_fullness': 0.0,\n",
              " 'namespaces': {'': {'vector_count': 149}},\n",
              " 'total_vector_count': 149}"
            ]
          },
          "metadata": {},
          "execution_count": 180
        }
      ]
    },
    {
      "cell_type": "code",
      "source": [
        "from langchain.vectorstores import Pinecone\n",
        "\n",
        "text_field = \"text\"  # the metadata field that contains our text\n",
        "\n",
        "# initialize the vector store object\n",
        "vectorstore = Pinecone(\n",
        "    index, embed_model.embed_query, text_field\n",
        ")"
      ],
      "metadata": {
        "id": "3PGOL4xP6GAT",
        "outputId": "2adb5528-d38f-4e8b-b822-504167ba5302",
        "colab": {
          "base_uri": "https://localhost:8080/"
        }
      },
      "execution_count": null,
      "outputs": [
        {
          "output_type": "stream",
          "name": "stderr",
          "text": [
            "/usr/local/lib/python3.10/dist-packages/langchain_core/_api/deprecation.py:117: LangChainDeprecationWarning: The class `langchain_community.vectorstores.pinecone.Pinecone` was deprecated in langchain-community 0.0.18 and will be removed in 0.2.0. An updated version of the class exists in the langchain-pinecone package and should be used instead. To use it run `pip install -U langchain-pinecone` and import as `from langchain_pinecone import Pinecone`.\n",
            "  warn_deprecated(\n",
            "/usr/local/lib/python3.10/dist-packages/langchain_community/vectorstores/pinecone.py:68: UserWarning: Passing in `embedding` as a Callable is deprecated. Please pass in an Embeddings object instead.\n",
            "  warnings.warn(\n"
          ]
        }
      ]
    },
    {
      "cell_type": "code",
      "source": [
        "query = \"What were the results of the EPCORE NHL-1 trial?\"\n",
        "\n",
        "vectorstore.similarity_search(query, k=3)"
      ],
      "metadata": {
        "id": "NLcXWej_6VQk",
        "outputId": "fa9e7691-ef63-4ec8-c719-0a4089d81e5d",
        "colab": {
          "base_uri": "https://localhost:8080/"
        }
      },
      "execution_count": null,
      "outputs": [
        {
          "output_type": "execute_result",
          "data": {
            "text/plain": [
              "[Document(page_content='Efficacy was evaluated in 148 patients with DLBCL, NOS, including DLBCL arising from indolent lymphoma, and HGBCL.  EPCORE NHL-1 trial   Primary endpoint*: ORR (CR+PR) \\xa0 Select secondary endpoints included2*: CR rate, DOR, DOCR, time to response \\xa0 KEY INCLUSION CRITERIA3: ECOG PS 0-2 | Prior CAR T allowed | ≥2 prior lines of antineoplastic therapy, including ≥1 anti-CD20 mAb KEY EXCLUSION CRITERIA: CNS involvement of lymphoma | Allogeneic HSCT or solid organ transplant | Ongoing active infection | Known impaired T-cell immunity \\xa0 \\xa0 \\xa0 \\xa0 \\xa0 \\xa0   DOSING SCHEDULE     SUBCUTANEOUS EPKINLY 48 mg Weekly, cycles 1†-3 Every other week, cycles 4-9 Every 4 weeks, cycles 10+ \\xa0 Cycle=28 days.    Patients continued to receive EPKINLY until disease progression or unacceptable toxicity.  Strategies to minimize occurrence and severity of CRS: Step-up dosage: step-up dose 1 of 0.16 mg on C1D1, step-up dose 2 of 0.8 mg on C1D8, and full dose of 48 mg on C1D15. Patient should be hospitalized for 24 hours after C1D15 dosage of 48 mg Prophylactic treatment with corticosteroids, antihistamines, and antipyretics during C1 and as needed during C2+  Please see the Dosing Information and full Prescribing Information for recommended dosing schedule and prophylaxis.   EPKINLY was evaluated in heavily pretreated 3L+ DLBCL patients1 Patient characteristics  EPKINLY was studied in a population of patients with complex treatment', metadata={'source': 'epkinly_study-design'}),\n",
              " Document(page_content='of patients (1.3% COVID-19, 0.6% hepatotoxicity, 0.6% ICANS, 0.6% myocardial infarction, 0.6% pulmonary embolism)1 Most adverse reactions occurred early in treatment (C1-3), and incidence declined after 12 weeks2 Low discontinuation rate (3.8%) due to any adverse reaction2 Adverse reactions that led to discontinuation included COVID-19, CRS, ICANS, pleural effusion, and fatigue2 Dosage interruptions due to an adverse reaction occurred in 34% of patients (reactions occurring ≥3%: CRS, neutropenia, sepsis, and thrombocytopenia)1  Learn more about the EPCORE® NHL-1 study ASTCT=American Society for Transplantation and Cellular Therapy; C1-3=cycles 1-3; COVID-19=coronavirus disease of 2019; CRS=cytokine release syndrome; CTCAE=Common Terminology Criteria for Adverse Events; ICANS=immune effector cell-associated neurotoxicity syndrome; NHL=non-Hodgkin lymphoma.    Has your care facility historically managed CRS? Yes No I do not know  Managing CRS events. Learn more about dosing modifications for CRS events VIEW DOSING MODIFICATIONS  Obtain information about CRS with EPKINLY. Resources are available to learn how to manage these events EXPLORE CRS EVENTS  Connect with a representative to help you learn more about EPKINLY CONTACT A REP  Reset       Review the CRS and ICANS events that occurred in the clinical trial  FIND OUT MORE    IMPORTANT SAFETY INFORMATION BOXED WARNINGS Cytokine release syndrome (CRS), including serious or life-threatening reactions, can occur in patients receiving EPKINLY. Initiate treatment with the', metadata={'source': 'epkinly_adverse-reactions'}),\n",
              " Document(page_content='0.05. The hierarchical testing order was PFS, modified EFS, and then CR rate and overall survival.  Objective response\\xa0at EOT in patients receiving POLIVY + R-CHP vs R-CHOP1,¶  \\xa0 POLIVY + R-CHP (n=440) R-CHOP (n=439) Objective response rate, % (95% CI) 86 (82, 89) 84 (80, 87) CR rate, % 78 (74, 82) 74 (70, 78) Difference in\\xa0CR rate, % (95% CI) 3.9 (-1.9, 9.7) p-value# 0.1557  ¶By blinded independent central review, per 2014 Lugano response criteria. #Cochran-Mantel-Haenszel chi-squared test, with a two-sided significance boundary of 0.01.   Overall survival data1 With an estimated median follow-up of 3.3 years, the prespecified final analysis of OS showed no statistically significant difference, with a HR of 0.94 (95% CI: 0.67, 1.33) In a descriptive analysis, the OS HR in patients with DLBCL, NOS was 1.02 (95% CI: 0.70, 1.49), and in patients with HGBL it was 0.42 (95% CI: 0.15, 1.19) No formal inferences may be drawn from this analysis Patients receiving subsequent lymphoma therapy (ITT Population)15 Limitations: No formal inferences may be drawn from this observational information. Information on subsequent treatment was collected per protocol, but no formal analyses were conducted. POLARIX was a global trial: availability of subsequent therapy options and local practice patterns varied. New anti-lymphoma therapy', metadata={'source': 'polivy_trial-results'})]"
            ]
          },
          "metadata": {},
          "execution_count": 182
        }
      ]
    },
    {
      "cell_type": "code",
      "source": [
        "def augment_prompt(query: str):\n",
        "    # get top 3 results from knowledge base\n",
        "    results = vectorstore.similarity_search(query, k=3)\n",
        "    # get the text from the results\n",
        "    source_knowledge = \"\\n\".join([x.page_content for x in results])\n",
        "    # feed into an augmented prompt\n",
        "    augmented_prompt = f\"\"\"Using the contexts below, answer the query.\n",
        "\n",
        "    Contexts:\n",
        "    {source_knowledge}\n",
        "\n",
        "    Query: {query}\"\"\"\n",
        "    return augmented_prompt"
      ],
      "metadata": {
        "id": "nr60a3m-6x3h"
      },
      "execution_count": null,
      "outputs": []
    },
    {
      "cell_type": "code",
      "source": [
        "print(augment_prompt(query))"
      ],
      "metadata": {
        "id": "3ZAcG9Hc619-",
        "outputId": "ffe2d3aa-b53c-4ca3-9079-2258cfe0d844",
        "colab": {
          "base_uri": "https://localhost:8080/"
        }
      },
      "execution_count": null,
      "outputs": [
        {
          "output_type": "stream",
          "name": "stdout",
          "text": [
            "Using the contexts below, answer the query.\n",
            "\n",
            "    Contexts:\n",
            "    Efficacy was evaluated in 148 patients with DLBCL, NOS, including DLBCL arising from indolent lymphoma, and HGBCL.  EPCORE NHL-1 trial   Primary endpoint*: ORR (CR+PR)   Select secondary endpoints included2*: CR rate, DOR, DOCR, time to response   KEY INCLUSION CRITERIA3: ECOG PS 0-2 | Prior CAR T allowed | ≥2 prior lines of antineoplastic therapy, including ≥1 anti-CD20 mAb KEY EXCLUSION CRITERIA: CNS involvement of lymphoma | Allogeneic HSCT or solid organ transplant | Ongoing active infection | Known impaired T-cell immunity               DOSING SCHEDULE     SUBCUTANEOUS EPKINLY 48 mg Weekly, cycles 1†-3 Every other week, cycles 4-9 Every 4 weeks, cycles 10+   Cycle=28 days.    Patients continued to receive EPKINLY until disease progression or unacceptable toxicity.  Strategies to minimize occurrence and severity of CRS: Step-up dosage: step-up dose 1 of 0.16 mg on C1D1, step-up dose 2 of 0.8 mg on C1D8, and full dose of 48 mg on C1D15. Patient should be hospitalized for 24 hours after C1D15 dosage of 48 mg Prophylactic treatment with corticosteroids, antihistamines, and antipyretics during C1 and as needed during C2+  Please see the Dosing Information and full Prescribing Information for recommended dosing schedule and prophylaxis.   EPKINLY was evaluated in heavily pretreated 3L+ DLBCL patients1 Patient characteristics  EPKINLY was studied in a population of patients with complex treatment\n",
            "of patients (1.3% COVID-19, 0.6% hepatotoxicity, 0.6% ICANS, 0.6% myocardial infarction, 0.6% pulmonary embolism)1 Most adverse reactions occurred early in treatment (C1-3), and incidence declined after 12 weeks2 Low discontinuation rate (3.8%) due to any adverse reaction2 Adverse reactions that led to discontinuation included COVID-19, CRS, ICANS, pleural effusion, and fatigue2 Dosage interruptions due to an adverse reaction occurred in 34% of patients (reactions occurring ≥3%: CRS, neutropenia, sepsis, and thrombocytopenia)1  Learn more about the EPCORE® NHL-1 study ASTCT=American Society for Transplantation and Cellular Therapy; C1-3=cycles 1-3; COVID-19=coronavirus disease of 2019; CRS=cytokine release syndrome; CTCAE=Common Terminology Criteria for Adverse Events; ICANS=immune effector cell-associated neurotoxicity syndrome; NHL=non-Hodgkin lymphoma.    Has your care facility historically managed CRS? Yes No I do not know  Managing CRS events. Learn more about dosing modifications for CRS events VIEW DOSING MODIFICATIONS  Obtain information about CRS with EPKINLY. Resources are available to learn how to manage these events EXPLORE CRS EVENTS  Connect with a representative to help you learn more about EPKINLY CONTACT A REP  Reset       Review the CRS and ICANS events that occurred in the clinical trial  FIND OUT MORE    IMPORTANT SAFETY INFORMATION BOXED WARNINGS Cytokine release syndrome (CRS), including serious or life-threatening reactions, can occur in patients receiving EPKINLY. Initiate treatment with the\n",
            "0.05. The hierarchical testing order was PFS, modified EFS, and then CR rate and overall survival.  Objective response at EOT in patients receiving POLIVY + R-CHP vs R-CHOP1,¶    POLIVY + R-CHP (n=440) R-CHOP (n=439) Objective response rate, % (95% CI) 86 (82, 89) 84 (80, 87) CR rate, % 78 (74, 82) 74 (70, 78) Difference in CR rate, % (95% CI) 3.9 (-1.9, 9.7) p-value# 0.1557  ¶By blinded independent central review, per 2014 Lugano response criteria. #Cochran-Mantel-Haenszel chi-squared test, with a two-sided significance boundary of 0.01.   Overall survival data1 With an estimated median follow-up of 3.3 years, the prespecified final analysis of OS showed no statistically significant difference, with a HR of 0.94 (95% CI: 0.67, 1.33) In a descriptive analysis, the OS HR in patients with DLBCL, NOS was 1.02 (95% CI: 0.70, 1.49), and in patients with HGBL it was 0.42 (95% CI: 0.15, 1.19) No formal inferences may be drawn from this analysis Patients receiving subsequent lymphoma therapy (ITT Population)15 Limitations: No formal inferences may be drawn from this observational information. Information on subsequent treatment was collected per protocol, but no formal analyses were conducted. POLARIX was a global trial: availability of subsequent therapy options and local practice patterns varied. New anti-lymphoma therapy\n",
            "\n",
            "    Query: What were the results of the EPCORE NHL-1 trial?\n"
          ]
        }
      ]
    },
    {
      "cell_type": "code",
      "source": [
        "# create a new user prompt\n",
        "prompt = HumanMessage(\n",
        "    content=augment_prompt(query)\n",
        ")\n",
        "# add to messages\n",
        "messages.append(prompt)\n",
        "\n",
        "res = chat(messages)\n",
        "\n",
        "print(res.content)"
      ],
      "metadata": {
        "id": "8Umx4St67MpK",
        "outputId": "58c1dab2-2a53-4928-c90c-2189cfeca238",
        "colab": {
          "base_uri": "https://localhost:8080/"
        }
      },
      "execution_count": null,
      "outputs": [
        {
          "output_type": "stream",
          "name": "stdout",
          "text": [
            "The results of the EPCORE NHL-1 trial showed that the primary endpoint, which was the Overall Response Rate (ORR) defined as complete response (CR) plus partial response (PR), was evaluated in 148 patients with Diffuse Large B-Cell Lymphoma (DLBCL), Not Otherwise Specified (NOS), including DLBCL arising from indolent lymphoma, and High-Grade B-Cell Lymphoma (HGBCL). The trial also evaluated select secondary endpoints, including CR rate, duration of response (DOR), duration of CR (DOCR), and time to response.\n",
            "\n",
            "The dosing schedule for the subcutaneous administration of EPKINLY included a step-up dosage strategy to minimize the occurrence and severity of cytokine release syndrome (CRS). Patients received EPKINLY until disease progression or unacceptable toxicity. Adverse reactions, including CRS, were managed with dosing modifications and prophylactic treatment with corticosteroids, antihistamines, and antipyretics.\n",
            "\n",
            "Overall, the trial demonstrated efficacy in heavily pretreated patients with DLBCL, NOS, and HGBCL, with the primary endpoint of ORR met. The trial results also showed a low discontinuation rate (3.8%) due to adverse reactions, with most adverse reactions occurring early in treatment and incidence declining after 12 weeks.\n",
            "\n",
            "For more detailed information on the specific results and outcomes of the EPCORE NHL-1 trial, I recommend reviewing the published study data or contacting the researchers involved in the trial for further information.\n"
          ]
        }
      ]
    },
    {
      "cell_type": "code",
      "source": [],
      "metadata": {
        "id": "ppGp6ixe7eub"
      },
      "execution_count": null,
      "outputs": []
    }
  ]
}