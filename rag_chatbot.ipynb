{
  "nbformat": 4,
  "nbformat_minor": 0,
  "metadata": {
    "colab": {
      "provenance": [],
      "include_colab_link": true
    },
    "kernelspec": {
      "name": "python3",
      "display_name": "Python 3"
    },
    "language_info": {
      "name": "python"
    },
    "widgets": {
      "application/vnd.jupyter.widget-state+json": {
        "bd720e69f65a453e883620109fe631bd": {
          "model_module": "@jupyter-widgets/controls",
          "model_name": "HBoxModel",
          "model_module_version": "1.5.0",
          "state": {
            "_dom_classes": [],
            "_model_module": "@jupyter-widgets/controls",
            "_model_module_version": "1.5.0",
            "_model_name": "HBoxModel",
            "_view_count": null,
            "_view_module": "@jupyter-widgets/controls",
            "_view_module_version": "1.5.0",
            "_view_name": "HBoxView",
            "box_style": "",
            "children": [
              "IPY_MODEL_ea0e8a5e331740af9b7efe0a4b026589",
              "IPY_MODEL_dbf41a3821d5479abcf2317d749943e1",
              "IPY_MODEL_9cacd63824714e3e8480592e5e5d16fd"
            ],
            "layout": "IPY_MODEL_0714da85fc0b4ed7acfc61d586432bf8"
          }
        },
        "ea0e8a5e331740af9b7efe0a4b026589": {
          "model_module": "@jupyter-widgets/controls",
          "model_name": "HTMLModel",
          "model_module_version": "1.5.0",
          "state": {
            "_dom_classes": [],
            "_model_module": "@jupyter-widgets/controls",
            "_model_module_version": "1.5.0",
            "_model_name": "HTMLModel",
            "_view_count": null,
            "_view_module": "@jupyter-widgets/controls",
            "_view_module_version": "1.5.0",
            "_view_name": "HTMLView",
            "description": "",
            "description_tooltip": null,
            "layout": "IPY_MODEL_2233de171f704e45bcec404195a78fea",
            "placeholder": "​",
            "style": "IPY_MODEL_2f93fb32e1c64777b94449c3c44f7d02",
            "value": "  0%"
          }
        },
        "dbf41a3821d5479abcf2317d749943e1": {
          "model_module": "@jupyter-widgets/controls",
          "model_name": "FloatProgressModel",
          "model_module_version": "1.5.0",
          "state": {
            "_dom_classes": [],
            "_model_module": "@jupyter-widgets/controls",
            "_model_module_version": "1.5.0",
            "_model_name": "FloatProgressModel",
            "_view_count": null,
            "_view_module": "@jupyter-widgets/controls",
            "_view_module_version": "1.5.0",
            "_view_name": "ProgressView",
            "bar_style": "danger",
            "description": "",
            "description_tooltip": null,
            "layout": "IPY_MODEL_fbf97f5e7e344e7d93c1addfd4ae0ed6",
            "max": 8,
            "min": 0,
            "orientation": "horizontal",
            "style": "IPY_MODEL_e4561960216b43159d46118bbf3232bb",
            "value": 0
          }
        },
        "9cacd63824714e3e8480592e5e5d16fd": {
          "model_module": "@jupyter-widgets/controls",
          "model_name": "HTMLModel",
          "model_module_version": "1.5.0",
          "state": {
            "_dom_classes": [],
            "_model_module": "@jupyter-widgets/controls",
            "_model_module_version": "1.5.0",
            "_model_name": "HTMLModel",
            "_view_count": null,
            "_view_module": "@jupyter-widgets/controls",
            "_view_module_version": "1.5.0",
            "_view_name": "HTMLView",
            "description": "",
            "description_tooltip": null,
            "layout": "IPY_MODEL_61cbe362d4e5475b9439855596f1f6ed",
            "placeholder": "​",
            "style": "IPY_MODEL_801689fa1bb249b8872239c691ae5452",
            "value": " 0/8 [00:00&lt;?, ?it/s]"
          }
        },
        "0714da85fc0b4ed7acfc61d586432bf8": {
          "model_module": "@jupyter-widgets/base",
          "model_name": "LayoutModel",
          "model_module_version": "1.2.0",
          "state": {
            "_model_module": "@jupyter-widgets/base",
            "_model_module_version": "1.2.0",
            "_model_name": "LayoutModel",
            "_view_count": null,
            "_view_module": "@jupyter-widgets/base",
            "_view_module_version": "1.2.0",
            "_view_name": "LayoutView",
            "align_content": null,
            "align_items": null,
            "align_self": null,
            "border": null,
            "bottom": null,
            "display": null,
            "flex": null,
            "flex_flow": null,
            "grid_area": null,
            "grid_auto_columns": null,
            "grid_auto_flow": null,
            "grid_auto_rows": null,
            "grid_column": null,
            "grid_gap": null,
            "grid_row": null,
            "grid_template_areas": null,
            "grid_template_columns": null,
            "grid_template_rows": null,
            "height": null,
            "justify_content": null,
            "justify_items": null,
            "left": null,
            "margin": null,
            "max_height": null,
            "max_width": null,
            "min_height": null,
            "min_width": null,
            "object_fit": null,
            "object_position": null,
            "order": null,
            "overflow": null,
            "overflow_x": null,
            "overflow_y": null,
            "padding": null,
            "right": null,
            "top": null,
            "visibility": null,
            "width": null
          }
        },
        "2233de171f704e45bcec404195a78fea": {
          "model_module": "@jupyter-widgets/base",
          "model_name": "LayoutModel",
          "model_module_version": "1.2.0",
          "state": {
            "_model_module": "@jupyter-widgets/base",
            "_model_module_version": "1.2.0",
            "_model_name": "LayoutModel",
            "_view_count": null,
            "_view_module": "@jupyter-widgets/base",
            "_view_module_version": "1.2.0",
            "_view_name": "LayoutView",
            "align_content": null,
            "align_items": null,
            "align_self": null,
            "border": null,
            "bottom": null,
            "display": null,
            "flex": null,
            "flex_flow": null,
            "grid_area": null,
            "grid_auto_columns": null,
            "grid_auto_flow": null,
            "grid_auto_rows": null,
            "grid_column": null,
            "grid_gap": null,
            "grid_row": null,
            "grid_template_areas": null,
            "grid_template_columns": null,
            "grid_template_rows": null,
            "height": null,
            "justify_content": null,
            "justify_items": null,
            "left": null,
            "margin": null,
            "max_height": null,
            "max_width": null,
            "min_height": null,
            "min_width": null,
            "object_fit": null,
            "object_position": null,
            "order": null,
            "overflow": null,
            "overflow_x": null,
            "overflow_y": null,
            "padding": null,
            "right": null,
            "top": null,
            "visibility": null,
            "width": null
          }
        },
        "2f93fb32e1c64777b94449c3c44f7d02": {
          "model_module": "@jupyter-widgets/controls",
          "model_name": "DescriptionStyleModel",
          "model_module_version": "1.5.0",
          "state": {
            "_model_module": "@jupyter-widgets/controls",
            "_model_module_version": "1.5.0",
            "_model_name": "DescriptionStyleModel",
            "_view_count": null,
            "_view_module": "@jupyter-widgets/base",
            "_view_module_version": "1.2.0",
            "_view_name": "StyleView",
            "description_width": ""
          }
        },
        "fbf97f5e7e344e7d93c1addfd4ae0ed6": {
          "model_module": "@jupyter-widgets/base",
          "model_name": "LayoutModel",
          "model_module_version": "1.2.0",
          "state": {
            "_model_module": "@jupyter-widgets/base",
            "_model_module_version": "1.2.0",
            "_model_name": "LayoutModel",
            "_view_count": null,
            "_view_module": "@jupyter-widgets/base",
            "_view_module_version": "1.2.0",
            "_view_name": "LayoutView",
            "align_content": null,
            "align_items": null,
            "align_self": null,
            "border": null,
            "bottom": null,
            "display": null,
            "flex": null,
            "flex_flow": null,
            "grid_area": null,
            "grid_auto_columns": null,
            "grid_auto_flow": null,
            "grid_auto_rows": null,
            "grid_column": null,
            "grid_gap": null,
            "grid_row": null,
            "grid_template_areas": null,
            "grid_template_columns": null,
            "grid_template_rows": null,
            "height": null,
            "justify_content": null,
            "justify_items": null,
            "left": null,
            "margin": null,
            "max_height": null,
            "max_width": null,
            "min_height": null,
            "min_width": null,
            "object_fit": null,
            "object_position": null,
            "order": null,
            "overflow": null,
            "overflow_x": null,
            "overflow_y": null,
            "padding": null,
            "right": null,
            "top": null,
            "visibility": null,
            "width": null
          }
        },
        "e4561960216b43159d46118bbf3232bb": {
          "model_module": "@jupyter-widgets/controls",
          "model_name": "ProgressStyleModel",
          "model_module_version": "1.5.0",
          "state": {
            "_model_module": "@jupyter-widgets/controls",
            "_model_module_version": "1.5.0",
            "_model_name": "ProgressStyleModel",
            "_view_count": null,
            "_view_module": "@jupyter-widgets/base",
            "_view_module_version": "1.2.0",
            "_view_name": "StyleView",
            "bar_color": null,
            "description_width": ""
          }
        },
        "61cbe362d4e5475b9439855596f1f6ed": {
          "model_module": "@jupyter-widgets/base",
          "model_name": "LayoutModel",
          "model_module_version": "1.2.0",
          "state": {
            "_model_module": "@jupyter-widgets/base",
            "_model_module_version": "1.2.0",
            "_model_name": "LayoutModel",
            "_view_count": null,
            "_view_module": "@jupyter-widgets/base",
            "_view_module_version": "1.2.0",
            "_view_name": "LayoutView",
            "align_content": null,
            "align_items": null,
            "align_self": null,
            "border": null,
            "bottom": null,
            "display": null,
            "flex": null,
            "flex_flow": null,
            "grid_area": null,
            "grid_auto_columns": null,
            "grid_auto_flow": null,
            "grid_auto_rows": null,
            "grid_column": null,
            "grid_gap": null,
            "grid_row": null,
            "grid_template_areas": null,
            "grid_template_columns": null,
            "grid_template_rows": null,
            "height": null,
            "justify_content": null,
            "justify_items": null,
            "left": null,
            "margin": null,
            "max_height": null,
            "max_width": null,
            "min_height": null,
            "min_width": null,
            "object_fit": null,
            "object_position": null,
            "order": null,
            "overflow": null,
            "overflow_x": null,
            "overflow_y": null,
            "padding": null,
            "right": null,
            "top": null,
            "visibility": null,
            "width": null
          }
        },
        "801689fa1bb249b8872239c691ae5452": {
          "model_module": "@jupyter-widgets/controls",
          "model_name": "DescriptionStyleModel",
          "model_module_version": "1.5.0",
          "state": {
            "_model_module": "@jupyter-widgets/controls",
            "_model_module_version": "1.5.0",
            "_model_name": "DescriptionStyleModel",
            "_view_count": null,
            "_view_module": "@jupyter-widgets/base",
            "_view_module_version": "1.2.0",
            "_view_name": "StyleView",
            "description_width": ""
          }
        }
      }
    }
  },
  "cells": [
    {
      "cell_type": "markdown",
      "metadata": {
        "id": "view-in-github",
        "colab_type": "text"
      },
      "source": [
        "<a href=\"https://colab.research.google.com/github/hateley/RAG-chatbot/blob/main/rag_chatbot.ipynb\" target=\"_parent\"><img src=\"https://colab.research.google.com/assets/colab-badge.svg\" alt=\"Open In Colab\"/></a>"
      ]
    },
    {
      "cell_type": "markdown",
      "source": [
        "Building a Question and Answer system that uses RAG from drug trail information on Epkinly and Polivy. This system relies primarily on LangChain."
      ],
      "metadata": {
        "id": "0agTTRe0H3Km"
      }
    },
    {
      "cell_type": "markdown",
      "source": [
        "### Install libraries\n",
        "\n",
        "**We need:**\n",
        "* **langchain**: This is a library for GenAI. We'll use it to chain together different language models and components for our chatbot.\n",
        "* **openai**: This is the official OpenAI Python client. We'll use it to interact with the OpenAI API and generate responses for our chatbot.\n",
        "* **pinecone-client**: This is the official Pinecone Python client. We'll use it to interact with the Pinecone API and store our chatbot's knowledge base in a vector database."
      ],
      "metadata": {
        "id": "bK2HuJjiIT1i"
      }
    },
    {
      "cell_type": "code",
      "source": [
        "# install necessary libraries\n",
        "!pip install -qU \\\n",
        "    langchain==0.0.354 \\\n",
        "    openai==1.6.1 \\\n",
        "    datasets==2.10.1 \\\n",
        "    pinecone-client==3.1.0 \\\n",
        "    tiktoken==0.5.2 \\\n",
        "    matplotlib \\\n",
        "    seaborn \\\n",
        "    pandas \\\n",
        "    tqdm"
      ],
      "metadata": {
        "id": "bXkxrcG6H20E",
        "colab": {
          "base_uri": "https://localhost:8080/"
        },
        "outputId": "81144d58-f676-44be-924a-12fdfb2fad06"
      },
      "execution_count": 87,
      "outputs": [
        {
          "output_type": "stream",
          "name": "stdout",
          "text": [
            "\u001b[2K   \u001b[90m━━━━━━━━━━━━━━━━━━━━━━━━━━━━━━━━━━━━━━━━\u001b[0m \u001b[32m13.0/13.0 MB\u001b[0m \u001b[31m45.6 MB/s\u001b[0m eta \u001b[36m0:00:00\u001b[0m\n",
            "\u001b[?25h\u001b[31mERROR: pip's dependency resolver does not currently take into account all the packages that are installed. This behaviour is the source of the following dependency conflicts.\n",
            "cudf-cu12 24.4.1 requires pandas<2.2.2dev0,>=2.0, but you have pandas 2.2.2 which is incompatible.\n",
            "cudf-cu12 24.4.1 requires pyarrow<15.0.0a0,>=14.0.1, but you have pyarrow 17.0.0 which is incompatible.\n",
            "google-colab 1.0.0 requires pandas==2.1.4, but you have pandas 2.2.2 which is incompatible.\n",
            "google-colab 1.0.0 requires requests==2.31.0, but you have requests 2.32.3 which is incompatible.\n",
            "ibis-framework 8.0.0 requires pyarrow<16,>=2, but you have pyarrow 17.0.0 which is incompatible.\u001b[0m\u001b[31m\n",
            "\u001b[0m"
          ]
        }
      ]
    },
    {
      "cell_type": "markdown",
      "source": [
        "## Make a simple chatbot first"
      ],
      "metadata": {
        "id": "R7vl3irqJ_AC"
      }
    },
    {
      "cell_type": "code",
      "source": [
        "#initialize the ChatOpenAI object\n",
        "\n",
        "import os\n",
        "from langchain.chat_models import ChatOpenAI\n",
        "from google.colab import userdata\n",
        "\n",
        "chat = ChatOpenAI(\n",
        "    openai_api_key=userdata.get('testkey'),\n",
        "    model='gpt-3.5-turbo'\n",
        ")"
      ],
      "metadata": {
        "id": "sCeWN6DjIIEY"
      },
      "execution_count": 9,
      "outputs": []
    },
    {
      "cell_type": "code",
      "source": [
        "from langchain.schema import (\n",
        "    SystemMessage,\n",
        "    HumanMessage,\n",
        "    AIMessage\n",
        ")\n",
        "\n",
        "messages = [\n",
        "    SystemMessage(content=\"You are a helpful assistant.\"),\n",
        "    HumanMessage(content=\"Hi AI, how are you today?\"),\n",
        "    AIMessage(content=\"I'm great thank you. How can I help you?\"),\n",
        "    HumanMessage(content=\"I'd like to understand string theory.\")\n",
        "]"
      ],
      "metadata": {
        "id": "-DdvsFQQJyQ3"
      },
      "execution_count": 10,
      "outputs": []
    },
    {
      "cell_type": "code",
      "source": [
        "#res = chat(messages)\n",
        "print(res.content)"
      ],
      "metadata": {
        "colab": {
          "base_uri": "https://localhost:8080/"
        },
        "id": "ZRGnAEkCMu6k",
        "outputId": "68cd20c1-6362-4a9f-87b4-d5d01050f345"
      },
      "execution_count": 12,
      "outputs": [
        {
          "output_type": "stream",
          "name": "stdout",
          "text": [
            "String theory is a theoretical framework in physics that attempts to reconcile quantum mechanics and general relativity. It posits that the fundamental building blocks of the universe are not point-like particles, but rather tiny, vibrating strings. These strings can give rise to different particles depending on their vibrational patterns.\n",
            "\n",
            "String theory suggests that there are multiple dimensions beyond the familiar three spatial dimensions and one time dimension. The theory also proposes the existence of different vibrational modes of the strings, which correspond to different particles and forces in the universe.\n",
            "\n",
            "One of the key ideas in string theory is the concept of supersymmetry, which posits a symmetry between particles with integer spin (bosons) and particles with half-integer spin (fermions). Supersymmetry is believed to help resolve some of the issues in particle physics, such as the hierarchy problem and unifying the fundamental forces of nature.\n",
            "\n",
            "String theory has generated a lot of interest and research in the physics community, but it is still a highly speculative and complex area of study. Researchers continue to work on developing the theory further and exploring its implications for our understanding of the universe.\n"
          ]
        }
      ]
    },
    {
      "cell_type": "code",
      "source": [
        "# add history so we can continue the conversation\n",
        "\n",
        "# add latest AI response to messages\n",
        "messages.append(res)\n",
        "\n",
        "# now create a new user prompt\n",
        "prompt = HumanMessage(\n",
        "    content=\"Why do physicists believe it can produce a 'unified theory'?\"\n",
        ")\n",
        "# add to messages\n",
        "messages.append(prompt)\n",
        "\n",
        "# send to chat-gpt\n",
        "res = chat(messages)\n",
        "\n",
        "print(res.content)"
      ],
      "metadata": {
        "colab": {
          "base_uri": "https://localhost:8080/"
        },
        "id": "4J5KgX11NSWa",
        "outputId": "0637dacb-5cb8-45b6-f887-47d94de73ef0"
      },
      "execution_count": 13,
      "outputs": [
        {
          "output_type": "stream",
          "name": "stdout",
          "text": [
            "Physicists believe that string theory has the potential to produce a unified theory because it has the ability to incorporate all of the fundamental forces of nature (gravity, electromagnetism, weak nuclear force, and strong nuclear force) within a single framework. In traditional particle physics, these forces are described by different theories (such as quantum field theory for the Standard Model and general relativity for gravity) that do not easily reconcile with each other.\n",
            "\n",
            "String theory, on the other hand, offers a more comprehensive and consistent framework that can potentially describe all of these forces in a unified manner. By treating particles as vibrating strings in higher-dimensional spacetime, string theory can naturally incorporate gravity along with the other forces. This suggests that all forces and particles in the universe may emerge from a single underlying theory.\n",
            "\n",
            "Additionally, string theory provides a way to reconcile quantum mechanics with general relativity, which has been a long-standing challenge in theoretical physics. By describing the fundamental building blocks of the universe as strings rather than point-like particles, string theory offers a more fundamental and mathematically elegant approach to understanding the nature of reality.\n",
            "\n",
            "While string theory has not yet been confirmed by experimental evidence, its mathematical consistency and potential to unify the fundamental forces of nature make it an appealing candidate for a unified theory of physics. Physicists continue to explore and develop string theory in the hopes of uncovering new insights into the nature of the universe.\n"
          ]
        }
      ]
    },
    {
      "cell_type": "code",
      "source": [
        "# right now it doesn't know about the info we want to talk about\n",
        "\n",
        "# add latest AI response to messages\n",
        "messages.append(res)\n",
        "\n",
        "# now create a new user prompt\n",
        "prompt = HumanMessage(\n",
        "    content=\"What were the results of the EPCORE NHL-1 trial?\"\n",
        ")\n",
        "# add to messages\n",
        "messages.append(prompt)\n",
        "\n",
        "# send to OpenAI\n",
        "res = chat(messages)\n",
        "\n",
        "messages.append(res)"
      ],
      "metadata": {
        "id": "l3T45TsXNbwS"
      },
      "execution_count": 14,
      "outputs": []
    },
    {
      "cell_type": "code",
      "source": [
        "print(res.content)"
      ],
      "metadata": {
        "colab": {
          "base_uri": "https://localhost:8080/"
        },
        "id": "E2JFVwcLNnD9",
        "outputId": "42708c97-9c5c-4260-dac8-c57d71018612"
      },
      "execution_count": 15,
      "outputs": [
        {
          "output_type": "stream",
          "name": "stdout",
          "text": [
            "The EPCORE NHL-1 trial was a clinical trial evaluating the safety and efficacy of a novel treatment for patients with non-Hodgkin lymphoma (NHL). Unfortunately, as of my last update, I do not have specific information on the results of the EPCORE NHL-1 trial. Clinical trial results are typically published in scientific journals or presented at medical conferences once the study is completed.\n",
            "\n",
            "If you are interested in the results of the EPCORE NHL-1 trial, I recommend checking clinical trial registries, medical journals, or contacting the researchers involved in the study for more information. Keep in mind that the results of clinical trials can have important implications for patient care and future research in the field of oncology.\n"
          ]
        }
      ]
    },
    {
      "cell_type": "markdown",
      "source": [
        "## Import data about the clinical trials"
      ],
      "metadata": {
        "id": "Vryy2SL8N4ig"
      }
    },
    {
      "cell_type": "code",
      "source": [
        "from google.colab import files\n",
        "\n",
        "uploaded = files.upload()\n",
        "\n",
        "for fn in uploaded.keys():\n",
        "  print('User uploaded file \"{name}\" with length {length} bytes'.format(\n",
        "      name=fn, length=len(uploaded[fn])))\n"
      ],
      "metadata": {
        "colab": {
          "base_uri": "https://localhost:8080/",
          "height": 527
        },
        "collapsed": true,
        "id": "hzZekfrkR_0W",
        "outputId": "9b1771a7-5326-4802-f7db-2ee18f844f84"
      },
      "execution_count": 42,
      "outputs": [
        {
          "output_type": "display_data",
          "data": {
            "text/plain": [
              "<IPython.core.display.HTML object>"
            ],
            "text/html": [
              "\n",
              "     <input type=\"file\" id=\"files-8f9acfec-f29c-43ca-ab74-c96ff191cac6\" name=\"files[]\" multiple disabled\n",
              "        style=\"border:none\" />\n",
              "     <output id=\"result-8f9acfec-f29c-43ca-ab74-c96ff191cac6\">\n",
              "      Upload widget is only available when the cell has been executed in the\n",
              "      current browser session. Please rerun this cell to enable.\n",
              "      </output>\n",
              "      <script>// Copyright 2017 Google LLC\n",
              "//\n",
              "// Licensed under the Apache License, Version 2.0 (the \"License\");\n",
              "// you may not use this file except in compliance with the License.\n",
              "// You may obtain a copy of the License at\n",
              "//\n",
              "//      http://www.apache.org/licenses/LICENSE-2.0\n",
              "//\n",
              "// Unless required by applicable law or agreed to in writing, software\n",
              "// distributed under the License is distributed on an \"AS IS\" BASIS,\n",
              "// WITHOUT WARRANTIES OR CONDITIONS OF ANY KIND, either express or implied.\n",
              "// See the License for the specific language governing permissions and\n",
              "// limitations under the License.\n",
              "\n",
              "/**\n",
              " * @fileoverview Helpers for google.colab Python module.\n",
              " */\n",
              "(function(scope) {\n",
              "function span(text, styleAttributes = {}) {\n",
              "  const element = document.createElement('span');\n",
              "  element.textContent = text;\n",
              "  for (const key of Object.keys(styleAttributes)) {\n",
              "    element.style[key] = styleAttributes[key];\n",
              "  }\n",
              "  return element;\n",
              "}\n",
              "\n",
              "// Max number of bytes which will be uploaded at a time.\n",
              "const MAX_PAYLOAD_SIZE = 100 * 1024;\n",
              "\n",
              "function _uploadFiles(inputId, outputId) {\n",
              "  const steps = uploadFilesStep(inputId, outputId);\n",
              "  const outputElement = document.getElementById(outputId);\n",
              "  // Cache steps on the outputElement to make it available for the next call\n",
              "  // to uploadFilesContinue from Python.\n",
              "  outputElement.steps = steps;\n",
              "\n",
              "  return _uploadFilesContinue(outputId);\n",
              "}\n",
              "\n",
              "// This is roughly an async generator (not supported in the browser yet),\n",
              "// where there are multiple asynchronous steps and the Python side is going\n",
              "// to poll for completion of each step.\n",
              "// This uses a Promise to block the python side on completion of each step,\n",
              "// then passes the result of the previous step as the input to the next step.\n",
              "function _uploadFilesContinue(outputId) {\n",
              "  const outputElement = document.getElementById(outputId);\n",
              "  const steps = outputElement.steps;\n",
              "\n",
              "  const next = steps.next(outputElement.lastPromiseValue);\n",
              "  return Promise.resolve(next.value.promise).then((value) => {\n",
              "    // Cache the last promise value to make it available to the next\n",
              "    // step of the generator.\n",
              "    outputElement.lastPromiseValue = value;\n",
              "    return next.value.response;\n",
              "  });\n",
              "}\n",
              "\n",
              "/**\n",
              " * Generator function which is called between each async step of the upload\n",
              " * process.\n",
              " * @param {string} inputId Element ID of the input file picker element.\n",
              " * @param {string} outputId Element ID of the output display.\n",
              " * @return {!Iterable<!Object>} Iterable of next steps.\n",
              " */\n",
              "function* uploadFilesStep(inputId, outputId) {\n",
              "  const inputElement = document.getElementById(inputId);\n",
              "  inputElement.disabled = false;\n",
              "\n",
              "  const outputElement = document.getElementById(outputId);\n",
              "  outputElement.innerHTML = '';\n",
              "\n",
              "  const pickedPromise = new Promise((resolve) => {\n",
              "    inputElement.addEventListener('change', (e) => {\n",
              "      resolve(e.target.files);\n",
              "    });\n",
              "  });\n",
              "\n",
              "  const cancel = document.createElement('button');\n",
              "  inputElement.parentElement.appendChild(cancel);\n",
              "  cancel.textContent = 'Cancel upload';\n",
              "  const cancelPromise = new Promise((resolve) => {\n",
              "    cancel.onclick = () => {\n",
              "      resolve(null);\n",
              "    };\n",
              "  });\n",
              "\n",
              "  // Wait for the user to pick the files.\n",
              "  const files = yield {\n",
              "    promise: Promise.race([pickedPromise, cancelPromise]),\n",
              "    response: {\n",
              "      action: 'starting',\n",
              "    }\n",
              "  };\n",
              "\n",
              "  cancel.remove();\n",
              "\n",
              "  // Disable the input element since further picks are not allowed.\n",
              "  inputElement.disabled = true;\n",
              "\n",
              "  if (!files) {\n",
              "    return {\n",
              "      response: {\n",
              "        action: 'complete',\n",
              "      }\n",
              "    };\n",
              "  }\n",
              "\n",
              "  for (const file of files) {\n",
              "    const li = document.createElement('li');\n",
              "    li.append(span(file.name, {fontWeight: 'bold'}));\n",
              "    li.append(span(\n",
              "        `(${file.type || 'n/a'}) - ${file.size} bytes, ` +\n",
              "        `last modified: ${\n",
              "            file.lastModifiedDate ? file.lastModifiedDate.toLocaleDateString() :\n",
              "                                    'n/a'} - `));\n",
              "    const percent = span('0% done');\n",
              "    li.appendChild(percent);\n",
              "\n",
              "    outputElement.appendChild(li);\n",
              "\n",
              "    const fileDataPromise = new Promise((resolve) => {\n",
              "      const reader = new FileReader();\n",
              "      reader.onload = (e) => {\n",
              "        resolve(e.target.result);\n",
              "      };\n",
              "      reader.readAsArrayBuffer(file);\n",
              "    });\n",
              "    // Wait for the data to be ready.\n",
              "    let fileData = yield {\n",
              "      promise: fileDataPromise,\n",
              "      response: {\n",
              "        action: 'continue',\n",
              "      }\n",
              "    };\n",
              "\n",
              "    // Use a chunked sending to avoid message size limits. See b/62115660.\n",
              "    let position = 0;\n",
              "    do {\n",
              "      const length = Math.min(fileData.byteLength - position, MAX_PAYLOAD_SIZE);\n",
              "      const chunk = new Uint8Array(fileData, position, length);\n",
              "      position += length;\n",
              "\n",
              "      const base64 = btoa(String.fromCharCode.apply(null, chunk));\n",
              "      yield {\n",
              "        response: {\n",
              "          action: 'append',\n",
              "          file: file.name,\n",
              "          data: base64,\n",
              "        },\n",
              "      };\n",
              "\n",
              "      let percentDone = fileData.byteLength === 0 ?\n",
              "          100 :\n",
              "          Math.round((position / fileData.byteLength) * 100);\n",
              "      percent.textContent = `${percentDone}% done`;\n",
              "\n",
              "    } while (position < fileData.byteLength);\n",
              "  }\n",
              "\n",
              "  // All done.\n",
              "  yield {\n",
              "    response: {\n",
              "      action: 'complete',\n",
              "    }\n",
              "  };\n",
              "}\n",
              "\n",
              "scope.google = scope.google || {};\n",
              "scope.google.colab = scope.google.colab || {};\n",
              "scope.google.colab._files = {\n",
              "  _uploadFiles,\n",
              "  _uploadFilesContinue,\n",
              "};\n",
              "})(self);\n",
              "</script> "
            ]
          },
          "metadata": {}
        },
        {
          "output_type": "stream",
          "name": "stdout",
          "text": [
            "Saving epkinly_adverse-reactions.txt to epkinly_adverse-reactions (1).txt\n",
            "Saving epkinly_clinical-trial-results.txt to epkinly_clinical-trial-results (1).txt\n",
            "Saving epkinly_important-safety-information.txt to epkinly_important-safety-information (1).txt\n",
            "Saving epkinly_study-design.txt to epkinly_study-design (1).txt\n",
            "Saving polivy_important-safety-information.txt to polivy_important-safety-information (1).txt\n",
            "Saving polivy_polarix-trial.html#trial-design.txt to polivy_polarix-trial.html#trial-design (1).txt\n",
            "Saving polivy_summary.txt to polivy_summary (1).txt\n",
            "Saving polivy_trial-results.txt to polivy_trial-results (1).txt\n",
            "User uploaded file \"epkinly_adverse-reactions (1).txt\" with length 29809 bytes\n",
            "User uploaded file \"epkinly_clinical-trial-results (1).txt\" with length 29133 bytes\n",
            "User uploaded file \"epkinly_important-safety-information (1).txt\" with length 26388 bytes\n",
            "User uploaded file \"epkinly_study-design (1).txt\" with length 30434 bytes\n",
            "User uploaded file \"polivy_important-safety-information (1).txt\" with length 17077 bytes\n",
            "User uploaded file \"polivy_polarix-trial.html#trial-design (1).txt\" with length 32181 bytes\n",
            "User uploaded file \"polivy_summary (1).txt\" with length 31868 bytes\n",
            "User uploaded file \"polivy_trial-results (1).txt\" with length 32651 bytes\n"
          ]
        }
      ]
    },
    {
      "cell_type": "code",
      "source": [
        "uploaded.keys()"
      ],
      "metadata": {
        "colab": {
          "base_uri": "https://localhost:8080/"
        },
        "id": "CPLPDV-HTWBu",
        "outputId": "5d8b0003-cb9d-42df-c604-bfef5d2dd4ca"
      },
      "execution_count": 44,
      "outputs": [
        {
          "output_type": "execute_result",
          "data": {
            "text/plain": [
              "dict_keys(['epkinly_adverse-reactions (1).txt', 'epkinly_clinical-trial-results (1).txt', 'epkinly_important-safety-information (1).txt', 'epkinly_study-design (1).txt', 'polivy_important-safety-information (1).txt', 'polivy_polarix-trial.html#trial-design (1).txt', 'polivy_summary (1).txt', 'polivy_trial-results (1).txt'])"
            ]
          },
          "metadata": {},
          "execution_count": 44
        }
      ]
    },
    {
      "cell_type": "code",
      "source": [
        "import pandas as pd\n",
        "\n",
        "df = pd.read_csv(\"/content/scraped.tsv\", sep='\\t')\n",
        "df.columns"
      ],
      "metadata": {
        "id": "bYwXsvLFkul7",
        "outputId": "422e321d-b778-41ed-ca6a-286c748d3820",
        "colab": {
          "base_uri": "https://localhost:8080/"
        }
      },
      "execution_count": 99,
      "outputs": [
        {
          "output_type": "execute_result",
          "data": {
            "text/plain": [
              "Index(['fname', 'text'], dtype='object')"
            ]
          },
          "metadata": {},
          "execution_count": 99
        }
      ]
    },
    {
      "cell_type": "code",
      "source": [
        "from langchain.document_loaders import DataFrameLoader\n",
        "\n",
        "loader = DataFrameLoader(\n",
        "    df,\n",
        "    page_content_column=\"text\"\n",
        ")\n",
        "docs = loader.load()"
      ],
      "metadata": {
        "id": "3fXPK6u5gVbs"
      },
      "execution_count": 106,
      "outputs": []
    },
    {
      "cell_type": "code",
      "source": [
        "len(docs)"
      ],
      "metadata": {
        "colab": {
          "base_uri": "https://localhost:8080/"
        },
        "id": "ZekB3swrgb48",
        "outputId": "1337a9e4-3760-480e-98ab-0d52380a62ea"
      },
      "execution_count": 107,
      "outputs": [
        {
          "output_type": "execute_result",
          "data": {
            "text/plain": [
              "8"
            ]
          },
          "metadata": {},
          "execution_count": 107
        }
      ]
    },
    {
      "cell_type": "code",
      "source": [
        "print(docs[0].page_content)"
      ],
      "metadata": {
        "colab": {
          "base_uri": "https://localhost:8080/"
        },
        "id": "L_zRtUC1g0uH",
        "outputId": "aeca8833-65e5-4016-9144-c0921d6f8fe5"
      },
      "execution_count": 108,
      "outputs": [
        {
          "output_type": "stream",
          "name": "stdout",
          "text": [
            "polivy_summary.txt.  POLIVY® (polatuzumab vedotin-piiq) Safety Profile             For Patients and Caregivers         MENU          Order Practice Materials       Order Practice Materials        Prescribing Information        Prescribing Information        Contact a Representative        Contact a Representative        Safety       Safety        3L DLBCL Indication       3L DLBCL Indication    Home  About POLIVY  Unmet Need in DLBCL How POLIVY Is Thought to Work  Efficacy  POLARIX Trial POLARIX Trial Results  Safety  POLIVY Side Effects Important Safety Information  Dosing & Administration  Preparation & Storage POLIVY Dosing Administering POLIVY Dose Modifications  Resources  Printable Resources Helpful Links for Your Patients Helpful Resources for Your Practice Practice Forms & Documents  Financial Support  Financial Assistance Options Eligibility & Enrollment Financial Support FAQs   Order Practice Materials Prescribing Information  Contact a Representative  Safety 3L DLBCL Indication  For Patients and Caregivers      POLIVY® Safety     Quick Links   Adverse Reactions  Dose Reduction & Discontinuation Rates  Drug Interactions  The majority of adverse reactions ≥10% were generally comparable across treatment arms1,* *Adverse reactions with ≥5% difference in all grades or grade ≥3 include (POLIVY + R-CHP vs R-CHOP): diarrhea (all grades: 31% vs 20%; grade ≥3: 3.9% vs 1.8%), febrile neutropenia (all grades and grade ≥3: 15% vs 9%), and nausea (all grades: 42% vs 37%; grade ≥3: 1.1% vs 0.5%). Most common adverse reactions in ≥20% of patients   The rates of peripheral neuropathy between the POLIVY + R-CHP vs R-CHOP arms were 53% vs 54%, respectively1 The rates of febrile neutropenia between the POLIVY + R-CHP vs R-CHOP arms were 15% and 9% respectively (for all grades and grade ≥ 3)1 The rates of grade 3-4 infections were comparable between POLIVY + R-CHP vs R-CHOP arms (14% vs 11%)19 Serious ARs occurred in 34% of patients who received POLIVY + R-CHP vs 30.6% of patients who received R-CHOP1,15 Serious ARs in ≥5% of patients who received POLIVY + R-CHP included febrile neutropenia and pneumonia1 Fatal ARs within 90 days of last treatment occurred in 3% of patients who received POLIVY + R-CHP vs 2.3% of patients who received R-CHOP. These were primarily from infection, including pneumonia (0.9% and 0.7%, respectively) and sepsis (0.2% and 0.7%, respectively) in the POLIVY + R-CHP vs R-CHOP arms1,15 New or worsening Grade 3 to 4 laboratory abnormalities in ≥10% of patients were lymphopenia, neutropenia, hyperuricemia, and anemia1 Select adverse reactions occurring in ≥10% of patients treated with POLIVY + R-CHP in POLARIX1    POLIVY + R-CHP (n=435) R-CHOP (n=438)   All Grades (%) Grade 3-4 (%) All Grades (%) Grade 3-4 (%) Blood and lymphatic system disorders† Lymphopenia 80 44 77 44 Anemia 68 14 67 11 Neutropenia 60 39 60 42 Thrombocytopenia 32 8 33 6 Febrile neutropenia‡ 15 15 9 9 Investigations† Creatinine increased 66 0.7 64 0.9 Aspartate aminotransferase increased 26 0.7 23 1.1 Alanine aminotransferase increased 25 1.4 27 0.5 Alkaline phosphatase increased 23 0 22 0.5 Uric acid increased 19 18 17 16 Weight decreased 13 0.9 12 0.2 Nervous system disorders Peripheral neuropathy§,‖ 53 1.6 54 1.1 Altered taste 14 0 16 0 Headache 13 0.2 14 0.9 Gastrointestinal disorders Nausea 42 1.1 37 0.5 Diarrhea 31 3.9 20 1.8 Constipation 29 1.1 29 0.2 Mucositis¶ 22 1.4 19 0.5 Abdominal pain# 16 1.1 14 1.6 Vomiting 15 1.1 14 0.7 General disorders Fatigue 37 2.5 38 3.0 Pyrexia 16 1.4 13 0 Edema** 14 0.5 11 0.2 Infusion-related reaction†† 13 1.1 16 1.6 Skin and subcutaneous tissue disorders Alopecia 24 0 24 0.2 Rash‡‡ 13 0.7 11 0 Musculoskeletal disorders Musculoskeletal pain§§ 19 0.5 21 1.8 Infections Upper respiratory tract infection‖‖ 17 0.5 16 0.5 Metabolism and nutrition disorders Decreased Appetite 17 1.1 14 0.7 Respiratory disorders Cough 15 0 14 0 Dyspnea 13 0.9 10 0.9      This table includes a combination of grouped and ungrouped terms. Events were graded using NCI CTCAE version 4.0. †Laboratory values are based on integrated analysis of laboratory and adverse reaction data. Reported investigations exclude electrolytes. ‡Febrile neutropenia includes febrile neutropenia, febrile bone marrow aplasia, and neutropenic sepsis. §At last assessment, peripheral neuropathy was unresolved in 42% in the POLIVY + R-CHP arm and in 33%in the R-CHOP arm. ‖Peripheral neuropathy includes all terms containing “neuropathy”, neuralgia, dysesthesia, paresthesia, hypoesthesia, peroneal nerve palsy, hypotonia, hyporeflexia, neuromyopathy, and hyperesthesia. ¶Mucositis includes stomatitis, oropharyngeal pain, mucosal inflammation, mouth ulceration, oral pain, oropharyngeal discomfort, aphthous ulcer, odynophagia, oral discomfort, tongue blistering, and tongue ulceration. #Abdominal pain includes abdominal pain, abdominal discomfort, gastrointestinal pain, epigastric discomfort, and related terms. **Edema includes edema, face edema, swelling face, edema peripheral, fluid overload, fluid retention, pulmonary edema, peripheral swelling, and swelling. ††Infusion related reaction is reflective of the combination regimen due to same-day administration. ‡‡Rash includes rash, dermatitis, and related terms. §§Musculoskeletal pain includes musculoskeletal pain, back pain, musculoskeletal chest pain, neck pain, myalgia, and bone pain. ‖‖Upper respiratory tract infection incudes sinusitis, laryngitis, pharyngitis, nasopharyngitis, rhinitis, and specific infections. Other clinically relevant adverse reactions in <10% of patients who received POLIVY + R-CHP included pneumonia, herpesvirus infection, sepsis, cytomegalovirus infection, tumor lysis syndrome, renal insufficiency, and pneumonitis.  Dose reductions & discontinuation rates with POLIVY + R-CHP vs R-CHOP1,15,19    POLIVY (n=435) Vincristine (n=438) ARs leading to dose reduction 6% 10.3% ARs leading to permanent discontinuation 4.4% 5% ARs leading to dose interruption 18% 15.3%     More patients received 6 cycles of POLIVY vs vincristine (92% vs 89%)15    Drug interactions Strong CYP3A inhibitors Concomitant use with a strong CYP3A4 inhibitor may increase unconjugated MMAE AUC, which may increase POLIVY toxicities. Monitor patients for signs of toxicity Strong CYP3A inducers Concomitant use with a strong CYP3A4 inducer may decrease unconjugated MMAE AUC AR = adverse reaction; AUC = area under the construction-time curve; CYP3A = cytochrome P450 family 3 subfamily A; NCI CTCAE = National Cancer Institute Common Terminology Criteria for Adverse Events.     Order Practice Materials     Order now      Contact a Representative     Contact Us        NEXT: Important Safety Information           Important Safety Information and Indication       Back to Top    Indication POLIVY in combination with a rituximab product, cyclophosphamide, doxorubicin, and prednisone (R-CHP) is indicated for the treatment of adult patients who have previously untreated diffuse large B-cell lymphoma (DLBCL), not otherwise specified (NOS) or high-grade B-cell lymphoma (HGBL) and who have an International Prognostic Index score of 2 or greater. POLIVY in combination with bendamustine and a rituximab product (BR) is indicated for the treatment of adult patients with relapsed or refractory DLBCL, NOS, after at least two prior therapies.  Important Safety Information Peripheral Neuropathy POLIVY can cause severe peripheral neuropathy. Peripheral neuropathy occurs as early as the first cycle of treatment and is cumulative. POLIVY may exacerbate preexisting peripheral neuropathy. In POLARIX, of 435 patients treated with POLIVY plus R-CHP, 53% reported new or worsening peripheral neuropathy, with a median time to onset of 2.3 months. Peripheral neuropathy was Grade 1 in 39% of patients, Grade 2 in 12%, and Grade 3 in 1.6%. Peripheral neuropathy resulted in dose reduction in 4% of treated patients and treatment discontinuation in 0.7%. Among patients with peripheral neuropathy after POLIVY, 58% reported resolution after a median of 4 months. In Study GO29365, of 173 patients treated with POLIVY, 40% reported new or worsening peripheral neuropathy, with a median time to onset of 2.1 months. Peripheral neuropathy was Grade 1 in 26% of patients, Grade 2 in 12%, and Grade 3 in 2.3%. Peripheral neuropathy resulted in POLIVY dose reduction in 2.9% of treated patients, dose delay in 1.2%, and permanent discontinuation in 2.9%. Sixty-five percent of patients reported improvement or resolution of peripheral neuropathy after a median of 1 month, and 48% reported complete resolution. The peripheral neuropathy is predominantly sensory; however, motor and sensorimotor peripheral neuropathy also occur. Monitor for symptoms of peripheral neuropathy such as hypoesthesia, hyperesthesia, paresthesia, dysesthesia, neuropathic pain, burning sensation, weakness, or gait disturbance. Patients experiencing new or worsening peripheral neuropathy may require a delay, dose reduction, or discontinuation of POLIVY. Infusion-Related Reactions POLIVY can cause severe infusion reactions. Delayed infusion-related reactions as late as 24 hours after receiving POLIVY have occurred. With premedication, 13% of patients (58/435) in POLARIX reported infusion-related reactions after the administration of POLIVY plus R-CHP. The reactions were Grade 1 in 4.4% of patients, Grade 2 in 8%, and Grade 3 in 1.1%. With premedication, 7% of patients (12/173) in Study GO29365 reported infusion-related reactions after the administration of POLIVY. The reactions were Grade 1 in 4.6% of patients, Grade 2 in 1.7%, and Grade 3 in 0.6%. Symptoms occurring in ≥1% of patients included chills, dyspnea, pyrexia, pruritus, rash, and chest discomfort. Administer an antihistamine and antipyretic prior to the administration of POLIVY, and monitor patients closely throughout the infusion. If an infusion-related reaction occurs, interrupt the infusion and institute appropriate medical management. Myelosuppression Treatment with POLIVY can cause serious or severe myelosuppression, including neutropenia, thrombocytopenia, and anemia. In POLARIX, 90% of patients treated with POLIVY plus R-CHP had primary prophylaxis with granulocyte colony-stimulating factor (G-CSF). Grade 3–4 hematologic adverse reactions included lymphopenia (44%), neutropenia (39%), febrile neutropenia (15%), anemia (14%), and thrombocytopenia (8%). In Study GO29365, in patients treated with POLIVY plus BR (n = 45), 42% received primary prophylaxis with G-CSF. Grade 3 or higher hematologic adverse reactions included neutropenia (42%), thrombocytopenia (40%), anemia (24%), lymphopenia (13%), and febrile neutropenia (11%). Grade 4 hematologic adverse reactions included neutropenia (24%), thrombocytopenia (16%), lymphopenia (9%), and febrile neutropenia (4.4%). Cytopenias were the most common reason for treatment discontinuation (18% of all patients). Monitor complete blood counts throughout treatment. Cytopenias may require a delay, dose reduction, or discontinuation of POLIVY. Administer prophylactic G-CSF for neutropenia in patients receiving POLIVY plus R-CHP. Consider prophylactic G-CSF administration in patients receiving POLIVY plus bendamustine and a rituximab product. Serious and Opportunistic Infections Fatal and/or serious infections, including opportunistic infections such as sepsis, pneumonia (including Pneumocystis jiroveci and other fungal pneumonia), herpesvirus infection, and cytomegalovirus infection have occurred in patients treated with POLIVY. In POLARIX, Grade 3–4 infections occurred in 14% (61/435) of patients treated with POLIVY plus R-CHP, and infection-related deaths were reported in 1.1% of patients. In Study GO29365, Grade 3 or higher infections occurred in 32% (55/173) of patients treated with POLIVY, and infection-related deaths were reported in 2.9% of patients within 90 days of last treatment. Closely monitor patients during treatment for signs of infection. Administer prophylaxis for Pneumocystis jiroveci pneumonia and herpesvirus. Administer prophylactic G-CSF for neutropenia as recommended. Progressive Multifocal Leukoencephalopathy (PML) PML has been reported after treatment with POLIVY plus bendamustine and obinutuzumab in Study GO29365 (0.6%, 1/173). Monitor for new or worsening neurological, cognitive, or behavioral changes. Hold POLIVY and any concomitant chemotherapy if PML is suspected, and permanently discontinue if the diagnosis is confirmed. Tumor Lysis Syndrome POLIVY may cause tumor lysis syndrome. Patients with high tumor burden and rapidly proliferative tumor may be at increased risk of tumor lysis syndrome. Monitor closely and take appropriate measures, including tumor lysis syndrome prophylaxis. Hepatotoxicity Serious cases of hepatotoxicity that were consistent with hepatocellular injury, including elevations of transaminases and/or bilirubin, have occurred in patients treated with POLIVY. In recipients of POLIVY plus R-CHP, Grade 3–4 elevation of ALT and AST developed in 1.4% and 0.7% of patients, respectively. In Study GO29365, Grade 3 and Grade 4 transaminase elevations each developed in 1.9% of patients. Preexisting liver disease, elevated baseline liver enzymes, and concomitant medications may increase the risk of hepatotoxicity. Monitor liver enzymes and bilirubin level. Embryo-Fetal Toxicity Based on the mechanism of action and findings from animal studies, POLIVY can cause fetal harm when administered to a pregnant woman. The small molecule component of POLIVY, monomethyl auristatin E, administered to rats caused adverse developmental outcomes, including embryo-fetal mortality and structural abnormalities, at exposures below those occurring clinically at the recommended dose. Advise pregnant women of the potential risk to a fetus. Advise females of reproductive potential to use effective contraception during treatment with POLIVY and for 3 months after the last dose. Advise male patients with female partners of reproductive potential to use effective contraception during treatment with POLIVY and for 5 months after the last dose. The Most Common Adverse Reactions The most common adverse reactions (≥20%), excluding laboratory abnormalities, in patients with previously untreated DLBCL treated with POLIVY in combination with R-CHP are peripheral neuropathy, nausea, fatigue, diarrhea, constipation, alopecia, and mucositis. The most common Grade 3 to 4 laboratory abnormalities (≥10%) are lymphopenia, neutropenia, hyperuricemia, and anemia. The most common adverse reactions (≥20%) in patients with relapsed or refractory DLBCL treated with POLIVY in combination with BR are neutropenia, thrombocytopenia, anemia, peripheral neuropathy, fatigue, diarrhea, pyrexia, decreased appetite, and pneumonia. Lactation Advise women not to breastfeed during treatment with POLIVY and for 2 months after the last dose. You may report side effects to the FDA at 1-800-FDA-1088 or www.fda.gov/medwatch. You may also report side effects to Genentech at 1-888-835-2555. Please see the full Prescribing Information for additional Important Safety Information.        Top    References  POLIVY Prescribing Information. South San Francisco, CA: Genentech, Inc.; April 2023.  POLIVY Prescribing Information. South San Francisco, CA: Genentech, Inc.; April 2023.  Referenced with permission from the NCCN Clinical Practice Guidelines in Oncology (NCCN Guidelines®) for B-Cell Lymphomas V.1.2024. © National Comprehensive Cancer Network, Inc. 2024. All rights reserved. Accessed January 22, 2024. To view the most recent and complete version of the guideline, go online to NCCN.org.  Referenced with permission from the NCCN Clinical Practice Guidelines in Oncology (NCCN Guidelines®) for B-Cell Lymphomas V.1.2024. © National Comprehensive Cancer Network, Inc. 2024. All rights reserved. Accessed January 22, 2024. To view the most recent and complete version of the guideline, go online to NCCN.org.  Sehn LH, Salles G. Diffuse large B-cell lymphoma. N Engl J Med. 2021;384(9):842-858. doi:10.1056/NEJMra2027612  Sehn LH, Salles G. Diffuse large B-cell lymphoma. N Engl J Med. 2021;384(9):842-858. doi:10.1056/NEJMra2027612  Crump M, Neelapu SS, Farooq U, et al. Outcomes in refractory diffuse large B-cell lymphoma: results from the international SCHOLAR-1 study. Blood. 2017;130(16):1800​-1808. doi:10.1182/blood-2017​-03​-769620  Crump M, Neelapu SS, Farooq U, et al. Outcomes in refractory diffuse large B-cell lymphoma: results from the international SCHOLAR-1 study. Blood. 2017;130(16):1800​-1808. doi:10.1182/blood-2017​-03​-769620  Maurer MJ, Habermann TM, Shi Q, et al. Utility of 2-year PFS24 to predict subsequent outcomes for patients with DLBCL enrolled on randomized clinical trials: findings from a surrogate endpoint in aggressive lymphoma (SEAL) analysis of individual patient data from 5853 patients. Blood. 2018; 128:3027.  Maurer MJ, Habermann TM, Shi Q, et al. Utility of 2-year PFS24 to predict subsequent outcomes for patients with DLBCL enrolled on randomized clinical trials: findings from a surrogate endpoint in aggressive lymphoma (SEAL) analysis of individual patient data from 5853 patients. Blood. 2018; 128:3027.  Morrison VA, Shou Y, Bell JA, et al. Evaluation of treatment patterns and survival among patients with diffuse large B-cell lymphoma in the USA. Future Oncol. 2019;15(9):1021​-1034.  Morrison VA, Shou Y, Bell JA, et al. Evaluation of treatment patterns and survival among patients with diffuse large B-cell lymphoma in the USA. Future Oncol. 2019;15(9):1021​-1034.  Purdum A, Tieu R, Reddy SR, Broder MS. Direct costs associated with relapsed diffuse large B-cell lymphoma therapies. Oncologist. 2019;24(9):1229​-1236. doi:10.1634/ theoncologist.2018​-0490.  Purdum A, Tieu R, Reddy SR, Broder MS. Direct costs associated with relapsed diffuse large B-cell lymphoma therapies. Oncologist. 2019;24(9):1229​-1236. doi:10.1634/ theoncologist.2018​-0490.  Wang R, Roth J, Ng C, Hossain F, Li J, Masaquel A. Cost of disease progression after frontline (1L) R-CHOP in diffuse large B-cell lymphoma (DLBCL). Presented at: the American Society of Hematology Annual Meeting in Atlanta, GA; December 12, 2021. Poster presentation; Abstract 3002.  Wang R, Roth J, Ng C, Hossain F, Li J, Masaquel A. Cost of disease progression after frontline (1L) R-CHOP in diffuse large B-cell lymphoma (DLBCL). Presented at: the American Society of Hematology Annual Meeting in Atlanta, GA; December 12, 2021. Poster presentation; Abstract 3002.  Ruppert AS, Dixon JG, Salles G, et al. International prognostic indices in diffuse large B-cell lymphoma: a comparison of IPI, R-IPI, and NCCN-IPI. Blood. 2020; 135(23): 2041​-2048.  Ruppert AS, Dixon JG, Salles G, et al. International prognostic indices in diffuse large B-cell lymphoma: a comparison of IPI, R-IPI, and NCCN-IPI. Blood. 2020; 135(23): 2041​-2048.  Kanas G, Ge Wenzhen, Quek R, et al. Epidemiology of diffuse large B-cell lymphoma (DLBCL) and follicular lymphoma (FL) in the United States and Western Europe: population-level projections for 2020-2025. Leuk Lymphoma. 2021;63()1:54-63.   Kanas G, Ge Wenzhen, Quek R, et al. Epidemiology of diffuse large B-cell lymphoma (DLBCL) and follicular lymphoma (FL) in the United States and Western Europe: population-level projections for 2020-2025. Leuk Lymphoma. 2021;63()1:54-63.   Harrysson S, Eloranta S, Ekberg S, et al. Incidence of relapsed/refractory diffuse large B-cell lymphoma (DLBCL) including CNS relapse in a population-based cohort of 4243 patients in Sweden. Blood Cancer J. 2021;11(1):9.   Harrysson S, Eloranta S, Ekberg S, et al. Incidence of relapsed/refractory diffuse large B-cell lymphoma (DLBCL) including CNS relapse in a population-based cohort of 4243 patients in Sweden. Blood Cancer J. 2021;11(1):9.   Shi X, Liu X, Li X, et al. Risk stratification for diffuse large B-cell lymphoma by integrating interim evaluation and international prognostic index: a multicenter retrospective study. Front Oncol. 2021;11:754964.  Shi X, Liu X, Li X, et al. Risk stratification for diffuse large B-cell lymphoma by integrating interim evaluation and international prognostic index: a multicenter retrospective study. Front Oncol. 2021;11:754964.  Iacoboni G, Zucca E, Ghielmini M, Stathis A. Methodology of clinical trials evaluating the incorporation of new drugs in the first-line treatment of patients with diffuse large B-cell lymphoma (DLBCL): a critical review. Ann Oncol. 2018;29(5):1120​-1129. doi:10.1093/annonc/mdy113  Iacoboni G, Zucca E, Ghielmini M, Stathis A. Methodology of clinical trials evaluating the incorporation of new drugs in the first-line treatment of patients with diffuse large B-cell lymphoma (DLBCL): a critical review. Ann Oncol. 2018;29(5):1120​-1129. doi:10.1093/annonc/mdy113  Fanale D, Bronte G, Passiglia F, et al. Stabilizing versus Destabilizing the Microtubules: A Double-Edge Sword for an Effective Cancer Treatment Option? Anal Cell Pathol. 2015;690916.  Fanale D, Bronte G, Passiglia F, et al. Stabilizing versus Destabilizing the Microtubules: A Double-Edge Sword for an Effective Cancer Treatment Option? Anal Cell Pathol. 2015;690916.  Tilly H, Morschhauser F, Sehn LH, et al. Polatuzumab vedotin in previously untreated diffuse large B-cell lymphoma. N Engl J Med. 2022;386(4):351​-363.  Tilly H, Morschhauser F, Sehn LH, et al. Polatuzumab vedotin in previously untreated diffuse large B-cell lymphoma. N Engl J Med. 2022;386(4):351​-363.  Li S, Young KH, Medeiros LJ. Diffuse large B-cell lymphoma. Pathology. 2018;50(1):74-87.   Li S, Young KH, Medeiros LJ. Diffuse large B-cell lymphoma. Pathology. 2018;50(1):74-87.   Poletto S, Novo M, Paruzza L, et al. Treatment strategies for patients with diffuse large B-cell lymphoma. Cancer Treat Rev. 2022;110:102443  Poletto S, Novo M, Paruzza L, et al. Treatment strategies for patients with diffuse large B-cell lymphoma. Cancer Treat Rev. 2022;110:102443  Clinical trial endpoints for the approval of cancer drugs and biologics: guidance for industry. US Food and Drug Administration. December 2018. Accessed February 23, 2024. https://www.fda.gov/media/71195/download  Clinical trial endpoints for the approval of cancer drugs and biologics: guidance for industry. US Food and Drug Administration. December 2018. Accessed February 23, 2024. https://www.fda.gov/media/71195/download  International Non-Hodgkin's Lymphoma Prognostic Factors Project. A predictive model for aggressive non-Hodgkin's lymphoma. N Engl J Med. 1993;329(14):987-994.  International Non-Hodgkin's Lymphoma Prognostic Factors Project. A predictive model for aggressive non-Hodgkin's lymphoma. N Engl J Med. 1993;329(14):987-994.  Tilly H, Morschhauser F, Sehn LH, et al. Polatuzumab vedotin in previously untreated diffuse large B-cell lymphoma - study protocol. N Engl J Med. 2022;386(4):351-363. doi:10.1056/NEJMoa2115304  Tilly H, Morschhauser F, Sehn LH, et al. Polatuzumab vedotin in previously untreated diffuse large B-cell lymphoma - study protocol. N Engl J Med. 2022;386(4):351-363. doi:10.1056/NEJMoa2115304  Cheson BD, Fisher RI, Barrington SF, et al. Recommendations for initial evaluation, staging, and response assessment of Hodgkin and non-Hodgkin lymphoma: the Lugano classification. J Clin Oncol. 2014;32(27):3059​-3068. doi:10.1200/JCO.2013.54.8800  Cheson BD, Fisher RI, Barrington SF, et al. Recommendations for initial evaluation, staging, and response assessment of Hodgkin and non-Hodgkin lymphoma: the Lugano classification. J Clin Oncol. 2014;32(27):3059​-3068. doi:10.1200/JCO.2013.54.8800   Data on File. South San Francisco, CA; Genentech, Inc. 2023.  Data on File. South San Francisco, CA; Genentech, Inc. 2023.             Contact Us            Privacy Policy            Terms & Conditions            Accessibility      Your Privacy Choices       WA Consumer Health Data Privacy Policy            Site Map      © 2024 Genentech USA, Inc. All rights reserved. This site is intended for U.S. residents only.          Close   We're here to help! Contact a representative For clinical questions, patient or practice resources, access & reimbursement information, and more, please complete this short form. A Genentech representative will be in touch as soon as possible. Personal Information (*Indicates a required field.)      First Name*      Last Name*      Email Address*      Zip Code of Practice Location*      Phone Number        Practice/Clinic/Hospital Name      By submitting this form, your information will be provided to Genentech and its agents in order to be contacted directly by a Genentech representative. You can find additional information about our privacy practices at https://www.gene.com/privacy-policy.  Submit  Thank you Your request has been submitted. A Genentech representative will be in touch soon but in the meantime, you can download the PI, or see the financial support resources.  Close        Link to Healthcare Professionals Site Close The information contained in this section of the site is intended for U.S. healthcare professionals only. Click \"OK\" if you are a healthcare professional.       Close           OK           Link to Third Party Site Close The link you have selected will take you away from this site to one that is not owned or controlled by Genentech, Inc. Genentech, Inc. makes no representation as to the accuracy of the information contained on sites we do not own or control. Genentech does not recommend and does not endorse the content on any third-party websites. Your use of third-party websites is at your own risk and subject to the terms and conditions of use for such sites.       Close           OK           We would like to collect your personal information, some of which may be considered sensitive personal information, such as health data, through cookies and similar technologies in order to support our marketing efforts, personalize the site, and improve its performance. By clicking “Accept All”, you confirm that we have your consent to collect and process your personal information in accordance with our Privacy Policy, which may include online targeted and social media advertising. You can personalize your specific preferences by clicking “Your Privacy Choices”.Your Privacy Choices Accept All The Global Privacy Signal that you have set in your devices browser has been recognized.Your Privacy ChoicesTargeting & Social Media CookiesStrictly Necessary CookiesFunctional CookiesPerformance CookiesYour Privacy Choices This website may use cookies as described in the categories on this page. By default, all cookie categories are ‘on’. Strictly Necessary cookies are ‘always active’ and may not be turned off. You may alter your cookie preferences for this website using the ‘on/off’ toggles and confirming your choices, or by using the buttons on the bottom of this page. Additional information about the company’s privacy practices can be found here Privacy Policy. To exercise other rights as may be allowed by state laws, please complete the form found here Data Subject Request Form. Targeting & Social Media Cookies Targeting & Social Media Cookies To personalize your specific preferences, use the toggle to turn the cookies \"on\" or \"off\".Targeting Cookies Switch Label labelThese cookies may be set through our site by our advertising partners. They may be used by those companies to build a profile of your interests and show you relevant advertisements on other sites. They do not store directly personal information, but are based on uniquely identifying your browser and internet device. If you do not allow these cookies, you will experience less targeted advertising.Social Media Cookies Switch Label labelThese cookies are set by a range of social media services that we have added to the site to enable you to share our content with your friends and networks (such as Facebook, Twitter, LinkedIn). They are capable of tracking your browser across other sites and building up a profile of your interests. This may impact the content and messages you see on other websites you visit. If you do not allow these cookies you may not be able to use or see these sharing tools.Strictly Necessary CookiesAlways ActiveThese cookies are necessary for the website to function and cannot be switched off in our systems. They are usually only set in response to actions made by you that amount to a request for services, such as setting your privacy preferences, logging in, or filling in forms. You can set your browser to block or alert you about these cookies, but blocking these cookies will prevent the site from working. These cookies do not store any personal information.Functional Cookies Functional Cookies These cookies enable our websites to provide enhanced functionality and personalization. They may be set by us or by third party service providers whose services we have added to our pages. If you reject these cookies, then some or all of these services may not function properly. Performance Cookies Performance Cookies These cookies allow us to count visits and traffic sources so we can measure and improve the performance of our site. They help us to know which pages are the most and least popular and see how visitors move around the site. We may collect your session ID, IP address, device identifiers, and your activity with the website. We may provide these cookies to third party service providers to help us run these analytics. If you block or opt out of these cookies, we will not know when you have visited our site, and will not be able to monitor its performance. If you are located in Europe, the personal data may be sent to a country (e.g. United States) that has not been deemed to provide an adequate level of data protection or appropriate safeguards. By accepting these cookies, you consent to the data processing for analytics purposes and to the transfer of your personal data to the United States each time you visit our site. Back ButtonCookie List Filter ButtonConsent Leg.Interest checkbox label label checkbox label label checkbox label labelClear checkbox label labelApply CancelConfirm My Cookie ChoicesReject All Cookies Allow All Cookies\n"
          ]
        }
      ]
    },
    {
      "cell_type": "code",
      "source": [
        "docs[5].metadata"
      ],
      "metadata": {
        "id": "OgHf7wBvi_MV",
        "outputId": "62a839bf-29ac-459b-f232-9fde045bdae7",
        "colab": {
          "base_uri": "https://localhost:8080/"
        }
      },
      "execution_count": 109,
      "outputs": [
        {
          "output_type": "execute_result",
          "data": {
            "text/plain": [
              "{'fname': 'epkinly_clinical-trial-results.txt'}"
            ]
          },
          "metadata": {},
          "execution_count": 109
        }
      ]
    },
    {
      "cell_type": "code",
      "source": [
        "import tiktoken\n",
        "\n",
        "tokenizer = tiktoken.get_encoding('cl100k_base')\n",
        "\n",
        "# create the length function\n",
        "def tiktoken_len(text):\n",
        "    tokens = tokenizer.encode(\n",
        "        text,\n",
        "        disallowed_special=()\n",
        "    )\n",
        "    return len(tokens)\n",
        "\n",
        "\n",
        "tiktoken.encoding_for_model('gpt-3.5-turbo')"
      ],
      "metadata": {
        "id": "MEFSQdXrhZbR",
        "outputId": "422dc727-79c8-4cef-db8e-1160a4501698",
        "colab": {
          "base_uri": "https://localhost:8080/"
        }
      },
      "execution_count": 60,
      "outputs": [
        {
          "output_type": "execute_result",
          "data": {
            "text/plain": [
              "<Encoding 'cl100k_base'>"
            ]
          },
          "metadata": {},
          "execution_count": 60
        }
      ]
    },
    {
      "cell_type": "code",
      "source": [
        "token_counts = [tiktoken_len(doc.page_content) for doc in docs]"
      ],
      "metadata": {
        "id": "eijYInrwhkF7"
      },
      "execution_count": 68,
      "outputs": []
    },
    {
      "cell_type": "code",
      "source": [
        "print(f\"\"\"Min: {min(token_counts)}\n",
        "Avg: {int(sum(token_counts) / len(token_counts))}\n",
        "Max: {max(token_counts)}\"\"\")"
      ],
      "metadata": {
        "id": "sDwhrpOxhoM6",
        "outputId": "3f056d37-c65a-45db-ed76-aff63f101733",
        "colab": {
          "base_uri": "https://localhost:8080/"
        }
      },
      "execution_count": 69,
      "outputs": [
        {
          "output_type": "stream",
          "name": "stdout",
          "text": [
            "Min: 3476\n",
            "Avg: 6720\n",
            "Max: 7884\n"
          ]
        }
      ]
    },
    {
      "cell_type": "code",
      "source": [
        "import matplotlib.pyplot as plt\n",
        "import seaborn as sns\n",
        "\n",
        "# set style and color palette for the plot\n",
        "sns.set_style(\"whitegrid\")\n",
        "sns.set_palette(\"muted\")\n",
        "\n",
        "# create histogram\n",
        "plt.figure(figsize=(12, 6))\n",
        "sns.histplot(token_counts, kde=False, bins=50)\n",
        "\n",
        "# customize the plot info\n",
        "plt.title(\"Token Counts Histogram\")\n",
        "plt.xlabel(\"Token Count\")\n",
        "plt.ylabel(\"Frequency\")\n",
        "\n",
        "plt.show()"
      ],
      "metadata": {
        "id": "Vl_d9kBNhrdd",
        "outputId": "85e4f22d-76f4-4f7a-a575-112cc354adde",
        "colab": {
          "base_uri": "https://localhost:8080/",
          "height": 564
        }
      },
      "execution_count": 70,
      "outputs": [
        {
          "output_type": "display_data",
          "data": {
            "text/plain": [
              "<Figure size 1200x600 with 1 Axes>"
            ],
            "image/png": "[encoded data removed]"
          },
          "metadata": {}
        }
      ]
    },
    {
      "cell_type": "code",
      "source": [
        "from langchain.text_splitter import RecursiveCharacterTextSplitter\n",
        "\n",
        "text_splitter = RecursiveCharacterTextSplitter(\n",
        "    chunk_size=400,\n",
        "    chunk_overlap=20,  # number of tokens overlap between chunks\n",
        "    length_function=tiktoken_len,\n",
        "    separators=['\\n\\n', '\\n', ' ', '']\n",
        ")"
      ],
      "metadata": {
        "id": "uda6H7K4hwDs"
      },
      "execution_count": 64,
      "outputs": []
    },
    {
      "cell_type": "code",
      "source": [
        "chunks = text_splitter.split_text(docs[5].page_content)\n",
        "len(chunks)"
      ],
      "metadata": {
        "id": "e_OMA6BoiQ7e",
        "outputId": "71b1a0c4-6b25-4d5b-92ae-530ff32fc561",
        "colab": {
          "base_uri": "https://localhost:8080/"
        }
      },
      "execution_count": 72,
      "outputs": [
        {
          "output_type": "execute_result",
          "data": {
            "text/plain": [
              "19"
            ]
          },
          "metadata": {},
          "execution_count": 72
        }
      ]
    },
    {
      "cell_type": "code",
      "source": [
        "tiktoken_len(chunks[0]), tiktoken_len(chunks[1])"
      ],
      "metadata": {
        "id": "hNsBg4BRiUcO",
        "outputId": "819ad764-8ea5-4889-d6e6-6a1f146ca7b6",
        "colab": {
          "base_uri": "https://localhost:8080/"
        }
      },
      "execution_count": 73,
      "outputs": [
        {
          "output_type": "execute_result",
          "data": {
            "text/plain": [
              "(16, 341)"
            ]
          },
          "metadata": {},
          "execution_count": 73
        }
      ]
    },
    {
      "cell_type": "code",
      "source": [
        "import hashlib\n",
        "m = hashlib.md5()  # this will convert URL into unique ID\n",
        "\n",
        "url = docs[5].metadata['source'].replace('rtdocs/', 'https://')\n",
        "print(url)\n",
        "\n",
        "# convert URL to unique ID\n",
        "m.update(url.encode('utf-8'))\n",
        "uid = m.hexdigest()[:12]\n",
        "print(uid)"
      ],
      "metadata": {
        "id": "ymeVpBL1icTF",
        "outputId": "19df0612-b8e2-4cf0-e1b8-b3f40ee124db",
        "colab": {
          "base_uri": "https://localhost:8080/"
        }
      },
      "execution_count": 74,
      "outputs": [
        {
          "output_type": "execute_result",
          "data": {
            "text/plain": [
              "[': 5\\nfname: epkinly_clinical-trial-results.txt',\n",
              " 'text: epkinly_clinical-trial-results.txt.                 DLBCL Clinical Trial Results - EPKINLY® HCP    Skip to Main content EPKINLY is indicated for the treatment of adults with relapsed or refractory diffuse large B-cell lymphoma (DLBCL), not otherwise specified (NOS), including DLBCL arising from indolent lymphoma, and high-grade B-cell lymphoma (HGBCL) after 2 or more lines of systemic therapy. Approved under accelerated approval based on response rate and durability of response. Continued approval may be contingent upon verification and description of clinical benefit in a confirmatory trial(s). INDICATION X  For US Healthcare Professionals Full Prescribing Information Important Safety Information & Indications For Patients & Care Partners        3L+ Treatment Landscape MOA Efficacy  Study Design & Patient Characteristics Clinical Trial Results  Safety  Adverse Reactions CRS & ICANS Events Important Safety Information  Dosing & Administration  Dosing & Administration Adverse Reaction Management  Support  Support & Resources How to Order Contact a Representative Register for Updates  Register for Updates Contact a Representative Register for Updates For Patients & Care Partners 3L+ Diffuse Large B-cell Lymphoma  3L+ Diffuse Large B-cell Lymphoma 3L+ Follicular Lymphoma  Full Prescribing Information Important Safety Information & Indications            EPKINLY delivered an ORR of 61%, with 38% of patients achieving a deep response of CR1     See the full EPCORE® NHL-1 study design    Responses in select prespecified subgroups were consistent with the overall population2                    Data',\n",
              " 'Data Limitation: Study was not powered to evaluate these prespecified subgroups. Data are exploratory and descriptive in nature. No formal inferences can be drawn.   In overall responders (61%, n=90/148), EPKINLY delivered durable responses in heavily pretreated 3L+ DLBCL, NOS patients1     In the efficacy population of 148 patients, the median number of prior therapies was 3 (range: 2-11), with 2 prior (30%), 3 prior (30%), and 4+ prior (40%). Prior therapies: autologous HSCT (18%), CAR T (39%). Refractory to last therapy (82%). Refractory to CAR T (29%) The median follow-up for DOR was 9.8 months (range: 0-17.3 months)  In a pre-specified analysis of complete responders (38%, n=56/148)1,2:        In the efficacy population of 148 patients, the median number of prior therapies was 3 (range: 2-11), with 2 prior (30%), 3 prior (30%), and 4+ prior (40%). Prior therapies: autologous HSCT (18%), CAR T (39%). Refractory to last therapy (82%). Refractory to CAR T (29%) The median follow-up for DOR was 9.8 months (range: 0-17.3 months)  In a pre-specified analysis of complete responders (38%, n=56/148)1,2:     Complete responses were achieved as late as 10.2 months2 The median follow-up for DOCR was 9.7 months (range: 8.3-12.1 months)2',\n",
              " 'was 9.7 months (range: 8.3-12.1 months)2  *Efficacy results determined by Lugano criteria (2014) as assessed by Independent Review Committee (IRC). †Based on Kaplan-Meier estimate. \\xa0 3L=third line; CAR T=chimeric antigen receptor T-cell therapy; CI=confidence interval; CR=complete response; DOCR=duration of complete response; DOR=duration of response; DLBCL=diffuse large B-cell lymphoma; HSCT=hematopoietic stem cell transplant; IRC=Independent Review Committee; mDOCR=median duration of complete response; mDOR=median duration of response; NOS=not otherwise specified; NR=not reached; ORR=overall response rate; PR=partial response.     Find out more about clinical trial treatment-related adverse reactions that occurred with EPKINLY VIEW SAFETY PROFILE    IMPORTANT SAFETY INFORMATION BOXED WARNINGS Cytokine release syndrome (CRS), including serious or life-threatening reactions, can occur in patients receiving EPKINLY. Initiate treatment with the EPKINLY step-up\\xa0dosage schedule to reduce the incidence and severity of CRS. Withhold EPKINLY until CRS resolves or permanently discontinue based on severity. Immune effector cell–associated neurotoxicity syndrome (ICANS), including life-threatening and fatal reactions, can occur with EPKINLY. Monitor patients for neurological signs or symptoms of ICANS during treatment. Withhold EPKINLY until ICANS resolves or permanently discontinue based on severity.   CRS CRS occurred in 51% of patients with large B-cell lymphoma (LBCL) in the clinical trial (37% grade 1, 17% grade 2, and 2.5% grade 3) and recurred in 16% of patients. Most events',\n",
              " 'grade 3) and recurred in 16% of patients. Most events (92%) occurred during cycle 1, with 61% occurring after the 48 mg dose on cycle 1, day 15. CRS occurred in 49% of patients with FL receiving the recommended 3-step up dosage schedule in the clinical trial (45% grade 1, 9% grade 2) and recurred in 23% of patients. Most events (88%) occurred during cycle 1, with 49% occurring after the 48 mg dose on cycle 1, day 22. In patients who experienced CRS, the signs and symptoms included pyrexia, hypotension, hypoxia, dyspnea, chills, and tachycardia. Concurrent neurological adverse reactions associated with CRS occurred in 2.5% of patients with LBCL (reactions included headache, confusional state, tremors, dizziness, and ataxia) and 4.7% of patients with FL (reactions included headache and dizziness). Administer pretreatment medications to reduce the risk of CRS. Patients with DLBCL or high-grade B-cell lymphoma should be hospitalized for 24 hours following administration of the first full 48 mg dose. Monitor patients for potential CRS. At the first signs or symptoms of CRS, manage per current practice guidelines and administer supportive care as appropriate. ICANS ICANS occurred in 6% of patients with LBCL in the clinical trial (4.5% grade 1, 1.3% grade 2, 0.6% fatal). Of the 10 ICANS events, 9 occurred in cycle 1 of treatment. ICANS occurred in 6% of patients with FL receiving the 2-step up dosage schedule in the clinical trial (3.9% grade 1, 2.4% grade 2). The onset of ICANS can be concurrent with',\n",
              " '2.4% grade 2). The onset of ICANS can be concurrent with CRS, following resolution of CRS, or in the absence of CRS. Clinical manifestations of ICANS included, but were not limited to, confusional state, lethargy, tremor, dysgraphia, aphasia, and non-convulsive status epilepticus. Monitor patients for potential ICANS. At the first signs or symptoms of ICANS, manage per current practice guidelines and administer supportive care as appropriate. Infections EPKINLY can cause serious and fatal infections. Serious infections, including opportunistic infections, were reported in 15% of patients with LBCL in the clinical trial (most common: 4.5% sepsis, 3.2% pneumonia). Fatal infections occurred in 1.3% of patients (1.3% COVID-19). Serious infections, including opportunistic infections, were reported in 40% of patients with FL receiving the 2-step up dosage schedule in the clinical trial (most common: 20% COVID-19, 13% pneumonia, 3% urinary tract infections). Fatal infections occurred in 6% of patients (5% COVID-19, 0.8% pneumonia, 0.8% sepsis). Monitor patients for signs and symptoms of infection prior to and during treatment and treat appropriately. Avoid administration in patients with active infections. Withhold or consider permanent discontinuation of EPKINLY based on severity. Prior to starting EPKINLY, provide Pneumocystis jirovecii pneumonia (PJP) prophylaxis and consider prophylaxis against herpes virus. Cytopenias EPKINLY can cause serious or severe cytopenias. In the clinical trial of patients with LBCL, grade 3 or 4 events occurred in 32% (neutrophils decreased), 12% (hemoglobin decreased), and 12%',\n",
              " '(neutrophils decreased), 12% (hemoglobin decreased), and 12% (platelets decreased). Febrile neutropenia occurred in 2.5%. In the clinical trial of patients with FL receiving the 2-step up dosage schedule, grade 3 or 4 events occurred in 30% (neutrophils decreased), 10% (hemoglobin decreased), and 8% (platelets decreased). Febrile neutropenia occurred in 3.1%. Monitor complete blood counts throughout treatment. Based on severity of cytopenias, temporarily withhold or permanently discontinue EPKINLY. Consider prophylactic granulocyte colony-stimulating factor administration as applicable. Embryo-Fetal Toxicity EPKINLY may cause fetal harm when administered to a pregnant woman. Advise females of reproductive potential to use effective contraception during treatment with EPKINLY and for 4 months after the last dose. Verify pregnancy status in females of reproductive potential prior to initiating EPKINLY. Adverse Reactions DLBCL/HGBCL: Most common (≥20%) adverse reactions were CRS, fatigue, musculoskeletal pain, injection site reactions, pyrexia, abdominal pain, nausea, and diarrhea. Most common grade 3 to 4 laboratory abnormalities (≥10%) were decreased lymphocytes, decreased neutrophils, decreased white blood cells, decreased hemoglobin, and decreased platelets. FL: Most common (≥20%) adverse reactions were injection site reactions, CRS, COVID-19, fatigue, upper respiratory tract infection, musculoskeletal pain, rash, diarrhea, pyrexia, cough, and headache. The most common grade 3 to 4 laboratory abnormalities (≥10%) were decreased lymphocytes, decreased neutrophils, decreased white blood cells, and decreased hemoglobin. Use in Specific Populations Lactation: Advise women not to breastfeed during treatment and for 4 months',\n",
              " 'Populations Lactation: Advise women not to breastfeed during treatment and for 4 months after the last dose of EPKINLY. Geriatric Use: In patients with relapsed or refractory FL who received EPKINLY in the clinical trial, 52% were ≥65 years old, and 13% were ≥75 years old. A higher rate of fatal adverse reactions, primarily infections, including COVID-19, was observed in patients ≥65 years old compared to younger adult patients. No overall difference in efficacy was observed. INDICATIONS EPKINLY is indicated for the treatment of adults with: relapsed or refractory diffuse large B-cell lymphoma (DLBCL), not otherwise specified (NOS), including DLBCL arising from indolent lymphoma, and high-grade B-cell lymphoma (HGBCL) after 2 or more lines of systemic therapy. relapsed or refractory follicular lymphoma (FL) after 2 or more lines of systemic therapy. These indications are approved under accelerated approval based on response rate and durability of response. Continued approval for these indications may be contingent upon verification and description of clinical benefit in confirmatory trials. Please see full Prescribing Information, including Boxed Warnings. COM-US-EPK-0000798   References: 1. EPKINLY [package insert]. Plainsboro, NJ: Genmab US, Inc. and North Chicago, IL: AbbVie Inc. 2024.\\xa02. Data on file. Plainsboro, NJ: Genmab US, Inc. and North Chicago, IL: AbbVie Inc. 2023.     Site Map Terms & Conditions Accessibility Statement Contact Us Terms of Use Privacy Notice Cookies Settings Your Privacy Choices EPKINLY, EPCORE, and MyNavCare are trademarks of Genmab A/S. ©2024 Genmab A/S and AbbVie. All rights',\n",
              " 'A/S. ©2024 Genmab A/S and AbbVie. All rights reserved. 06/2024 COM-US-EPK-0000797                                              You are leaving www.epkinly.com. You are leaving the AbbVie website and connecting to a site that is not under the control of AbbVie. AbbVie is not responsible for the content of any such site or any further links from such site. AbbVie is providing these links to you only as a convenience and the inclusion of any link does not imply the endorsement of the linked site by AbbVie. You should also be aware that the linked site may be governed by its own set of terms and conditions and privacy policy for which AbbVie has no responsibility. Conversely, the presence of this link does not imply the linked site’s endorsement of AbbVie. Do you wish to leave this site?  Yes No  05/23 COM-US-EPK-0000085     Leaving Genmab & AbbVie Website By clicking this link, you will be leaving this site and connecting to a site neither owned nor operated by Genmab and AbbVie. Genmab and AbbVie are not responsible for the contents of any such website or any further links from such website. Genmab and AbbVie are providing these links as a convenience, and the inclusion of any link does not imply endorsement of the linked website by Genmab and AbbVie. You should also be aware that the linked website may be governed by its own set of terms and conditions and privacy policy, for which Genmab and AbbVie have no responsibility. Do you wish to leave this site?  Yes No',\n",
              " 'and AbbVie have no responsibility. Do you wish to leave this site?  Yes No  COM-US-EPK-0000724  05/23 COM-US-EPK-0000085     You are leaving www.epkinly.com. You are leaving the AbbVie website and connecting to a site that is not under the control of AbbVie. AbbVie is not responsible for the content of any such site or any further links from such site. AbbVie is providing these links to you only as a convenience and the inclusion of any link does not imply the endorsement of the linked site by AbbVie. You should also be aware that the linked site may be governed by its own set of terms and conditions and privacy policy for which AbbVie has no responsibility. Conversely, the presence of this link does not imply the linked site’s endorsement of AbbVie. Do you wish to leave this site?  Yes No  05/2023 COM-US-EPK-0000085     Are you a registered healthcare professional?  Yes No  COM-US-EPK-0000724  COM-US-EPK-0000724     Leaving Genmab & AbbVie Website By clicking this link, you will be leaving this site and connecting to a site neither owned nor operated by Genmab and AbbVie. Genmab and AbbVie are not responsible for the contents of any such website or any further links from such website. Genmab and AbbVie are providing these links as a convenience, and the inclusion of any link does not imply endorsement of the linked website by Genmab and AbbVie. You should also be aware that the linked website may be governed by its own set of terms and conditions and privacy policy, for which Genmab and AbbVie have no responsibility. Do you wish to leave this site?  Yes No',\n",
              " 'and AbbVie have no responsibility. Do you wish to leave this site?  Yes No  05/2023 COM-US-EPK-0000085     You are leaving the product website. You are leaving the AbbVie website and connecting to a site that is not under the control of AbbVie. AbbVie is not responsible for the content of any such site or any further links from such site. AbbVie is providing these links to you only as a convenience and the inclusion of any link does not imply the endorsement of the linked site by AbbVie. You should also be aware that the linked site may be governed by its own set of terms and conditions and privacy policy for which AbbVie has no responsibility.\\u202f Conversely, the presence of this link does not imply the linked site’s endorsement of AbbVie.\\u202f \\u200bDo you wish to leave this site?   Yes  No  COM-US-EPK-0000087      You are leaving the product website. You are leaving the AbbVie website and connecting to a site that is not under the control of AbbVie. AbbVie is not responsible for the content of any such site or any further links from such site. AbbVie is providing these links to you only as a convenience and the inclusion of any link does not imply the endorsement of the linked site by AbbVie. You should also be aware that the linked site may be governed by its own set of terms and conditions and privacy policy for which AbbVie has no responsibility.\\u202f Conversely, the presence of this link does not imply the linked site’s endorsement of AbbVie.\\u202f \\u200bDo you wish to leave this site?   Yes  No  COM-US-EPK-0000087 - WoL      You are leaving the product website. You are leaving the AbbVie website and connecting to a',\n",
              " 'You are leaving the product website. You are leaving the AbbVie website and connecting to a site that is not under the control of AbbVie. AbbVie is not responsible for the content of any such site or any further links from such site. AbbVie is providing these links to you only as a convenience and the inclusion of any link does not imply the endorsement of the linked site by AbbVie. You should also be aware that the linked site may be governed by its own set of terms and conditions and privacy policy for which AbbVie has no responsibility.\\u202f Conversely, the presence of this link does not imply the linked site’s endorsement of AbbVie.\\u202f \\u200bDo you wish to leave this site?   Yes  No  COM-US-EPK-0000724      You are leaving the product website. You are leaving the AbbVie website and connecting to a site that is not under the control of AbbVie. AbbVie is not responsible for the content of any such site or any further links from such site. AbbVie is providing these links to you only as a convenience and the inclusion of any link does not imply the endorsement of the linked site by AbbVie. You should also be aware that the linked site may be governed by its own set of terms and conditions and privacy policy for which AbbVie has no responsibility.\\u202f Conversely, the presence of this link does not imply the linked site’s endorsement of AbbVie.\\u202f \\u200bDo you wish to leave this site?   Yes  No  COM-US-EPK-0000724      You are leaving the product website. You are leaving the AbbVie website and connecting to a site that is not under the control of AbbVie. AbbVie is not responsible for the content of any such site or any further links from such site. AbbVie is providing these links',\n",
              " 'content of any such site or any further links from such site. AbbVie is providing these links to you only as a convenience and the inclusion of any link does not imply the endorsement of the linked site by AbbVie. You should also be aware that the linked site may be governed by its own set of terms and conditions and privacy policy for which AbbVie has no responsibility.\\u202f Conversely, the presence of this link does not imply the linked site’s endorsement of AbbVie.\\u202f \\u200bDo you wish to leave this site?   Yes  No  COM-US-EPK-0000724      You are leaving the product website. You are leaving the AbbVie website and connecting to a site that is not under the control of AbbVie. AbbVie is not responsible for the content of any such site or any further links from such site. AbbVie is providing these links to you only as a convenience and the inclusion of any link does not imply the endorsement of the linked site by AbbVie. You should also be aware that the linked site may be governed by its own set of terms and conditions and privacy policy for which AbbVie has no responsibility.\\u202f Conversely, the presence of this link does not imply the linked site’s endorsement of AbbVie.\\u202f \\u200bDo you wish to leave this site?   Yes  No  COM-US-EPK-0000724       INDICATIONS EPKINLY is indicated for the treatment of adults with: relapsed or refractory diffuse large B-cell lymphoma (DLBCL), not otherwise specified (NOS), including DLBCL arising from indolent lymphoma, and high-grade B-cell lymphoma (HGBCL) after 2 or more lines of systemic therapy. relapsed or refractory follicular lymphoma (FL) after 2 or more lines of systemic therapy. IMPORTANT SAFETY',\n",
              " 'follicular lymphoma (FL) after 2 or more lines of systemic therapy. IMPORTANT SAFETY INFORMATION BOXED WARNINGS: CRS and ICANS Cytokine release syndrome (CRS), including serious or life-threatening reactions, can occur in patients receiving EPKINLY. Initiate treatment with the EPKINLY step-up dosage schedule to reduce the incidence and severity of CRS. Withhold EPKINLY until CRS resolves or permanently discontinue based on severity. Immune effector cell–associated neurotoxicity syndrome (ICANS), including life-threatening and fatal reactions, can occur with EPKINLY. Monitor patients for neurological signs or symptoms of ICANS during treatment. Withhold EPKINLY until ICANS resolves or permanently discontinue based on severity.   IMPORTANT SAFETY INFORMATION BOXED WARNINGS: CRS and ICANS Cytokine release syndrome (CRS), including serious or life-threatening reactions, can occur in patients receiving EPKINLY. Initiate treatment with the EPKINLY step-up\\xa0dosage schedule to reduce the incidence and severity of CRS. Withhold EPKINLY until CRS resolves or permanently discontinue based on severity. Immune effector cell–associated neurotoxicity syndrome (ICANS), including life-threatening and fatal reactions, can occur with EPKINLY. Monitor patients for neurological signs or symptoms of ICANS during treatment. Withhold EPKINLY until ICANS resolves or permanently discontinue based on severity.   INDICATIONS EPKINLY is indicated for the treatment of adults with: relapsed or refractory diffuse large B-cell lymphoma (DLBCL), not otherwise specified (NOS), including DLBCL arising from indolent lymphoma, and high-grade B-cell lymphoma (HGBCL) after 2 or more lines of systemic therapy. relapsed or refractory follicular lymphoma (FL) after 2 or more lines of systemic therapy.',\n",
              " 'or refractory follicular lymphoma (FL) after 2 or more lines of systemic therapy. IMPORTANT SAFETY INFORMATION BOXED WARNINGS: CRS and ICANS Cytokine release syndrome (CRS), including serious or life-threatening reactions, can occur in patients receiving EPKINLY. Initiate treatment with the EPKINLY step-up dosage schedule to reduce the incidence and severity of CRS. Withhold EPKINLY until CRS resolves or permanently discontinue based on severity. Immune effector cell–associated neurotoxicity syndrome (ICANS), including life-threatening and fatal reactions, can occur with EPKINLY. Monitor patients for neurological signs or symptoms of ICANS during treatment. Withhold EPKINLY until ICANS resolves or permanently discontinue based on severity.   IMPORTANT SAFETY INFORMATION BOXED WARNINGS: CRS and ICANS Cytokine release syndrome (CRS), including serious or life-threatening reactions, can occur in patients receiving EPKINLY. Initiate treatment with the EPKINLY step-up\\xa0dosage schedule to reduce the incidence and severity of CRS. Withhold EPKINLY until CRS resolves or permanently discontinue based on severity. Immune effector cell–associated neurotoxicity syndrome (ICANS), including life-threatening and fatal reactions, can occur with EPKINLY. Monitor patients for neurological signs or symptoms of ICANS during treatment. Withhold EPKINLY until ICANS resolves or permanently discontinue based on severity.    IMPORTANT SAFETY INFORMATION BOXED WARNINGS Cytokine release syndrome (CRS), including serious or life-threatening reactions, can occur in patients receiving EPKINLY. Initiate treatment with the EPKINLY step-up\\xa0dosage schedule to reduce the incidence and severity of CRS. Withhold EPKINLY until CRS resolves or permanently discontinue based on severity. Immune effector cell–associated neurotoxicity syndrome',\n",
              " 'or permanently discontinue based on severity. Immune effector cell–associated neurotoxicity syndrome (ICANS), including life-threatening and fatal reactions, can occur with EPKINLY. Monitor patients for neurological signs or symptoms of ICANS during treatment. Withhold EPKINLY until ICANS resolves or permanently discontinue based on severity.  CRS CRS occurred in 51% of patients with large B-cell lymphoma (LBCL) in the clinical trial (37% grade 1, 17% grade 2, and 2.5% grade 3) and recurred in 16% of patients. Most events (92%) occurred during cycle 1, with 61% occurring after the 48 mg dose on cycle 1, day 15. CRS occurred in 49% of patients with FL receiving the recommended 3-step up dosage schedule in the clinical trial (45% grade 1, 9% grade 2) and recurred in 23% of patients. Most events (88%) occurred during cycle 1, with 49% occurring after the 48 mg dose on cycle 1, day 22. In patients who experienced CRS, the signs and symptoms included pyrexia, hypotension, hypoxia, dyspnea, chills, and tachycardia. Concurrent neurological adverse reactions associated with CRS occurred in 2.5% of patients with LBCL (reactions included headache, confusional state, tremors, dizziness, and ataxia) and 4.7% of patients with FL (reactions included headache and dizziness). Administer pretreatment medications to reduce the risk of CRS. Patients with DLBCL or high-grade B-cell lymphoma should be hospitalized for 24 hours following administration of the first full 48 mg dose. Monitor patients for potential CRS. At the first signs or symptoms of CRS, manage per current practice guidelines and administer supportive care',\n",
              " 'CRS. At the first signs or symptoms of CRS, manage per current practice guidelines and administer supportive care as appropriate. ICANS ICANS occurred in 6% of patients with LBCL in the clinical trial (4.5% grade 1, 1.3% grade 2, 0.6% fatal). Of the 10 ICANS events, 9 occurred in cycle 1 of treatment. ICANS occurred in 6% of patients with FL receiving the 2-step up dosage schedule in the clinical trial (3.9% grade 1, 2.4% grade 2). The onset of ICANS can be concurrent with CRS, following resolution of CRS, or in the absence of CRS. Clinical manifestations of ICANS included, but were not limited to, confusional state, lethargy, tremor, dysgraphia, aphasia, and non-convulsive status epilepticus. Monitor patients for potential ICANS. At the first signs or symptoms of ICANS, manage per current practice guidelines and administer supportive care as appropriate. Infections EPKINLY can cause serious and fatal infections. Serious infections, including opportunistic infections, were reported in 15% of patients with LBCL in the clinical trial (most common: 4.5% sepsis, 3.2% pneumonia). Fatal infections occurred in 1.3% of patients (1.3% COVID-19). Serious infections, including opportunistic infections, were reported in 40% of patients with FL receiving the 2-step up dosage schedule in the clinical trial (most common: 20% COVID-19, 13% pneumonia, 3% urinary tract infections). Fatal infections occurred in 6% of patients (5% COVID-19, 0.8% pneumonia, 0.8% sepsis). Monitor patients for signs and symptoms of infection prior to and during treatment and treat appropriately. Avoid administration in',\n",
              " 'Monitor patients for signs and symptoms of infection prior to and during treatment and treat appropriately. Avoid administration in patients with active infections. Withhold or consider permanent discontinuation of EPKINLY based on severity. Prior to starting EPKINLY, provide Pneumocystis jirovecii pneumonia (PJP) prophylaxis and consider prophylaxis against herpes virus. Cytopenias EPKINLY can cause serious or severe cytopenias. In the clinical trial of patients with LBCL, grade 3 or 4 events occurred in 32% (neutrophils decreased), 12% (hemoglobin decreased), and 12% (platelets decreased). Febrile neutropenia occurred in 2.5%. In the clinical trial of patients with FL receiving the 2-step up dosage schedule, grade 3 or 4 events occurred in 30% (neutrophils decreased), 10% (hemoglobin decreased), and 8% (platelets decreased). Febrile neutropenia occurred in 3.1%. Monitor complete blood counts throughout treatment. Based on severity of cytopenias, temporarily withhold or permanently discontinue EPKINLY. Consider prophylactic granulocyte colony-stimulating factor administration as applicable. Embryo-Fetal Toxicity EPKINLY may cause fetal harm when administered to a pregnant woman. Advise females of reproductive potential to use effective contraception during treatment with EPKINLY and for 4 months after the last dose. Verify pregnancy status in females of reproductive potential prior to initiating EPKINLY. Adverse Reactions DLBCL/HGBCL: Most common (≥20%) adverse reactions were CRS, fatigue, musculoskeletal pain, injection site reactions, pyrexia, abdominal pain, nausea, and diarrhea. Most common grade 3 to 4 laboratory abnormalities (≥10%) were decreased lymphocytes, decreased neutrophils, decreased white blood',\n",
              " 'laboratory abnormalities (≥10%) were decreased lymphocytes, decreased neutrophils, decreased white blood cells, decreased hemoglobin, and decreased platelets. FL: Most common (≥20%) adverse reactions were injection site reactions, CRS, COVID-19, fatigue, upper respiratory tract infection, musculoskeletal pain, rash, diarrhea, pyrexia, cough, and headache. The most common grade 3 to 4 laboratory abnormalities (≥10%) were decreased lymphocytes, decreased neutrophils, decreased white blood cells, and decreased hemoglobin. Use in Specific Populations Lactation: Advise women not to breastfeed during treatment and for 4 months after the last dose of EPKINLY. Geriatric Use: In patients with relapsed or refractory FL who received EPKINLY in the clinical trial, 52% were ≥65 years old, and 13% were ≥75 years old. A higher rate of fatal adverse reactions, primarily infections, including COVID-19, was observed in patients ≥65 years old compared to younger adult patients. No overall difference in efficacy was observed. INDICATIONS EPKINLY is indicated for the treatment of adults with: relapsed or refractory diffuse large B-cell lymphoma (DLBCL), not otherwise specified (NOS), including DLBCL arising from indolent lymphoma, and high-grade B-cell lymphoma (HGBCL) after 2 or more lines of systemic therapy. relapsed or refractory follicular lymphoma (FL) after 2 or more lines of systemic therapy. These indications are approved under accelerated approval based on response rate and durability of response. Continued approval for these indications may be contingent upon verification and description of clinical benefit in confirmatory trials. Please see full Prescribing Information, including Boxed Warnings. COM-US-EPK-0000798']"
            ]
          },
          "metadata": {},
          "execution_count": 74
        }
      ]
    },
    {
      "cell_type": "code",
      "source": [
        "from tqdm.auto import tqdm\n",
        "\n",
        "documents = []\n",
        "\n",
        "for doc in tqdm(docs):\n",
        "    url = doc.metadata['source'].replace('rtdocs/', 'https://')\n",
        "    m.update(url.encode('utf-8'))\n",
        "    uid = m.hexdigest()[:12]\n",
        "    chunks = text_splitter.split_text(doc.page_content)\n",
        "    for i, chunk in enumerate(chunks):\n",
        "        documents.append({\n",
        "            'id': f'{uid}-{i}',\n",
        "            'text': chunk,\n",
        "            'source': url\n",
        "        })\n",
        "\n",
        "len(documents)"
      ],
      "metadata": {
        "id": "dHgCiWtTh19N",
        "outputId": "f4e22e42-ad6d-4388-c902-8f0316884b0b",
        "colab": {
          "base_uri": "https://localhost:8080/",
          "height": 243,
          "referenced_widgets": [
            "bd720e69f65a453e883620109fe631bd",
            "ea0e8a5e331740af9b7efe0a4b026589",
            "dbf41a3821d5479abcf2317d749943e1",
            "9cacd63824714e3e8480592e5e5d16fd",
            "0714da85fc0b4ed7acfc61d586432bf8",
            "2233de171f704e45bcec404195a78fea",
            "2f93fb32e1c64777b94449c3c44f7d02",
            "fbf97f5e7e344e7d93c1addfd4ae0ed6",
            "e4561960216b43159d46118bbf3232bb",
            "61cbe362d4e5475b9439855596f1f6ed",
            "801689fa1bb249b8872239c691ae5452"
          ]
        }
      },
      "execution_count": 71,
      "outputs": [
        {
          "output_type": "display_data",
          "data": {
            "text/plain": [
              "  0%|          | 0/8 [00:00<?, ?it/s]"
            ],
            "application/vnd.jupyter.widget-view+json": {
              "version_major": 2,
              "version_minor": 0,
              "model_id": "bd720e69f65a453e883620109fe631bd"
            }
          },
          "metadata": {}
        },
        {
          "output_type": "error",
          "ename": "NameError",
          "evalue": "name 'm' is not defined",
          "traceback": [
            "\u001b[0;31m---------------------------------------------------------------------------\u001b[0m",
            "\u001b[0;31mNameError\u001b[0m                                 Traceback (most recent call last)",
            "\u001b[0;32m<ipython-input-71-ed150cef4bb4>\u001b[0m in \u001b[0;36m<cell line: 5>\u001b[0;34m()\u001b[0m\n\u001b[1;32m      5\u001b[0m \u001b[0;32mfor\u001b[0m \u001b[0mdoc\u001b[0m \u001b[0;32min\u001b[0m \u001b[0mtqdm\u001b[0m\u001b[0;34m(\u001b[0m\u001b[0mdocs\u001b[0m\u001b[0;34m)\u001b[0m\u001b[0;34m:\u001b[0m\u001b[0;34m\u001b[0m\u001b[0;34m\u001b[0m\u001b[0m\n\u001b[1;32m      6\u001b[0m     \u001b[0murl\u001b[0m \u001b[0;34m=\u001b[0m \u001b[0mdoc\u001b[0m\u001b[0;34m.\u001b[0m\u001b[0mmetadata\u001b[0m\u001b[0;34m[\u001b[0m\u001b[0;34m'source'\u001b[0m\u001b[0;34m]\u001b[0m\u001b[0;34m.\u001b[0m\u001b[0mreplace\u001b[0m\u001b[0;34m(\u001b[0m\u001b[0;34m'rtdocs/'\u001b[0m\u001b[0;34m,\u001b[0m \u001b[0;34m'https://'\u001b[0m\u001b[0;34m)\u001b[0m\u001b[0;34m\u001b[0m\u001b[0;34m\u001b[0m\u001b[0m\n\u001b[0;32m----> 7\u001b[0;31m     \u001b[0mm\u001b[0m\u001b[0;34m.\u001b[0m\u001b[0mupdate\u001b[0m\u001b[0;34m(\u001b[0m\u001b[0murl\u001b[0m\u001b[0;34m.\u001b[0m\u001b[0mencode\u001b[0m\u001b[0;34m(\u001b[0m\u001b[0;34m'utf-8'\u001b[0m\u001b[0;34m)\u001b[0m\u001b[0;34m)\u001b[0m\u001b[0;34m\u001b[0m\u001b[0;34m\u001b[0m\u001b[0m\n\u001b[0m\u001b[1;32m      8\u001b[0m     \u001b[0muid\u001b[0m \u001b[0;34m=\u001b[0m \u001b[0mm\u001b[0m\u001b[0;34m.\u001b[0m\u001b[0mhexdigest\u001b[0m\u001b[0;34m(\u001b[0m\u001b[0;34m)\u001b[0m\u001b[0;34m[\u001b[0m\u001b[0;34m:\u001b[0m\u001b[0;36m12\u001b[0m\u001b[0;34m]\u001b[0m\u001b[0;34m\u001b[0m\u001b[0;34m\u001b[0m\u001b[0m\n\u001b[1;32m      9\u001b[0m     \u001b[0mchunks\u001b[0m \u001b[0;34m=\u001b[0m \u001b[0mtext_splitter\u001b[0m\u001b[0;34m.\u001b[0m\u001b[0msplit_text\u001b[0m\u001b[0;34m(\u001b[0m\u001b[0mdoc\u001b[0m\u001b[0;34m.\u001b[0m\u001b[0mpage_content\u001b[0m\u001b[0;34m)\u001b[0m\u001b[0;34m\u001b[0m\u001b[0;34m\u001b[0m\u001b[0m\n",
            "\u001b[0;31mNameError\u001b[0m: name 'm' is not defined"
          ]
        }
      ]
    }
  ]
}